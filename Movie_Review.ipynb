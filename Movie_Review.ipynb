{
  "nbformat": 4,
  "nbformat_minor": 0,
  "metadata": {
    "colab": {
      "provenance": [],
      "include_colab_link": true
    },
    "kernelspec": {
      "name": "python3",
      "display_name": "Python 3"
    },
    "language_info": {
      "name": "python"
    },
    "accelerator": "GPU",
    "gpuClass": "standard"
  },
  "cells": [
    {
      "cell_type": "markdown",
      "metadata": {
        "id": "view-in-github",
        "colab_type": "text"
      },
      "source": [
        "<a href=\"https://colab.research.google.com/github/RoaaM/movie_review/blob/main/Movie_Review.ipynb\" target=\"_parent\"><img src=\"https://colab.research.google.com/assets/colab-badge.svg\" alt=\"Open In Colab\"/></a>"
      ]
    },
    {
      "cell_type": "markdown",
      "source": [
        "#A movie review dataset."
      ],
      "metadata": {
        "id": "dubahvTFGxDL"
      }
    },
    {
      "cell_type": "code",
      "source": [
        "!pip install tensorflow==2.1.0\n"
      ],
      "metadata": {
        "colab": {
          "base_uri": "https://localhost:8080/",
          "height": 1000
        },
        "id": "Iu3mINV183gS",
        "outputId": "efb2487c-8afb-4bed-dfb1-15bd26820bf7"
      },
      "execution_count": null,
      "outputs": [
        {
          "output_type": "stream",
          "name": "stdout",
          "text": [
            "Looking in indexes: https://pypi.org/simple, https://us-python.pkg.dev/colab-wheels/public/simple/\n",
            "Collecting tensorflow==2.1.0\n",
            "  Downloading tensorflow-2.1.0-cp37-cp37m-manylinux2010_x86_64.whl (421.8 MB)\n",
            "\u001b[K     |████████████████████████████████| 421.8 MB 26 kB/s \n",
            "\u001b[?25hRequirement already satisfied: six>=1.12.0 in /usr/local/lib/python3.7/dist-packages (from tensorflow==2.1.0) (1.15.0)\n",
            "Collecting gast==0.2.2\n",
            "  Downloading gast-0.2.2.tar.gz (10 kB)\n",
            "Collecting tensorboard<2.2.0,>=2.1.0\n",
            "  Downloading tensorboard-2.1.1-py3-none-any.whl (3.8 MB)\n",
            "\u001b[K     |████████████████████████████████| 3.8 MB 53.0 MB/s \n",
            "\u001b[?25hCollecting tensorflow-estimator<2.2.0,>=2.1.0rc0\n",
            "  Downloading tensorflow_estimator-2.1.0-py2.py3-none-any.whl (448 kB)\n",
            "\u001b[K     |████████████████████████████████| 448 kB 66.2 MB/s \n",
            "\u001b[?25hRequirement already satisfied: grpcio>=1.8.6 in /usr/local/lib/python3.7/dist-packages (from tensorflow==2.1.0) (1.50.0)\n",
            "Requirement already satisfied: opt-einsum>=2.3.2 in /usr/local/lib/python3.7/dist-packages (from tensorflow==2.1.0) (3.3.0)\n",
            "Requirement already satisfied: wheel>=0.26 in /usr/local/lib/python3.7/dist-packages (from tensorflow==2.1.0) (0.38.3)\n",
            "Requirement already satisfied: absl-py>=0.7.0 in /usr/local/lib/python3.7/dist-packages (from tensorflow==2.1.0) (1.3.0)\n",
            "Requirement already satisfied: protobuf>=3.8.0 in /usr/local/lib/python3.7/dist-packages (from tensorflow==2.1.0) (3.19.6)\n",
            "Requirement already satisfied: google-pasta>=0.1.6 in /usr/local/lib/python3.7/dist-packages (from tensorflow==2.1.0) (0.2.0)\n",
            "Requirement already satisfied: keras-preprocessing>=1.1.0 in /usr/local/lib/python3.7/dist-packages (from tensorflow==2.1.0) (1.1.2)\n",
            "Collecting keras-applications>=1.0.8\n",
            "  Downloading Keras_Applications-1.0.8-py3-none-any.whl (50 kB)\n",
            "\u001b[K     |████████████████████████████████| 50 kB 8.0 MB/s \n",
            "\u001b[?25hRequirement already satisfied: wrapt>=1.11.1 in /usr/local/lib/python3.7/dist-packages (from tensorflow==2.1.0) (1.14.1)\n",
            "Requirement already satisfied: astor>=0.6.0 in /usr/local/lib/python3.7/dist-packages (from tensorflow==2.1.0) (0.8.1)\n",
            "Requirement already satisfied: numpy<2.0,>=1.16.0 in /usr/local/lib/python3.7/dist-packages (from tensorflow==2.1.0) (1.21.6)\n",
            "Requirement already satisfied: scipy==1.4.1 in /usr/local/lib/python3.7/dist-packages (from tensorflow==2.1.0) (1.4.1)\n",
            "Requirement already satisfied: termcolor>=1.1.0 in /usr/local/lib/python3.7/dist-packages (from tensorflow==2.1.0) (2.1.0)\n",
            "Requirement already satisfied: h5py in /usr/local/lib/python3.7/dist-packages (from keras-applications>=1.0.8->tensorflow==2.1.0) (2.10.0)\n",
            "Requirement already satisfied: google-auth<2,>=1.6.3 in /usr/local/lib/python3.7/dist-packages (from tensorboard<2.2.0,>=2.1.0->tensorflow==2.1.0) (1.35.0)\n",
            "Requirement already satisfied: google-auth-oauthlib<0.5,>=0.4.1 in /usr/local/lib/python3.7/dist-packages (from tensorboard<2.2.0,>=2.1.0->tensorflow==2.1.0) (0.4.6)\n",
            "Requirement already satisfied: setuptools>=41.0.0 in /usr/local/lib/python3.7/dist-packages (from tensorboard<2.2.0,>=2.1.0->tensorflow==2.1.0) (57.4.0)\n",
            "Requirement already satisfied: werkzeug>=0.11.15 in /usr/local/lib/python3.7/dist-packages (from tensorboard<2.2.0,>=2.1.0->tensorflow==2.1.0) (1.0.1)\n",
            "Requirement already satisfied: markdown>=2.6.8 in /usr/local/lib/python3.7/dist-packages (from tensorboard<2.2.0,>=2.1.0->tensorflow==2.1.0) (3.4.1)\n",
            "Requirement already satisfied: requests<3,>=2.21.0 in /usr/local/lib/python3.7/dist-packages (from tensorboard<2.2.0,>=2.1.0->tensorflow==2.1.0) (2.23.0)\n",
            "Requirement already satisfied: cachetools<5.0,>=2.0.0 in /usr/local/lib/python3.7/dist-packages (from google-auth<2,>=1.6.3->tensorboard<2.2.0,>=2.1.0->tensorflow==2.1.0) (4.2.4)\n",
            "Requirement already satisfied: rsa<5,>=3.1.4 in /usr/local/lib/python3.7/dist-packages (from google-auth<2,>=1.6.3->tensorboard<2.2.0,>=2.1.0->tensorflow==2.1.0) (4.9)\n",
            "Requirement already satisfied: pyasn1-modules>=0.2.1 in /usr/local/lib/python3.7/dist-packages (from google-auth<2,>=1.6.3->tensorboard<2.2.0,>=2.1.0->tensorflow==2.1.0) (0.2.8)\n",
            "Requirement already satisfied: requests-oauthlib>=0.7.0 in /usr/local/lib/python3.7/dist-packages (from google-auth-oauthlib<0.5,>=0.4.1->tensorboard<2.2.0,>=2.1.0->tensorflow==2.1.0) (1.3.1)\n",
            "Requirement already satisfied: importlib-metadata>=4.4 in /usr/local/lib/python3.7/dist-packages (from markdown>=2.6.8->tensorboard<2.2.0,>=2.1.0->tensorflow==2.1.0) (4.13.0)\n",
            "Requirement already satisfied: typing-extensions>=3.6.4 in /usr/local/lib/python3.7/dist-packages (from importlib-metadata>=4.4->markdown>=2.6.8->tensorboard<2.2.0,>=2.1.0->tensorflow==2.1.0) (4.1.1)\n",
            "Requirement already satisfied: zipp>=0.5 in /usr/local/lib/python3.7/dist-packages (from importlib-metadata>=4.4->markdown>=2.6.8->tensorboard<2.2.0,>=2.1.0->tensorflow==2.1.0) (3.10.0)\n",
            "Requirement already satisfied: pyasn1<0.5.0,>=0.4.6 in /usr/local/lib/python3.7/dist-packages (from pyasn1-modules>=0.2.1->google-auth<2,>=1.6.3->tensorboard<2.2.0,>=2.1.0->tensorflow==2.1.0) (0.4.8)\n",
            "Requirement already satisfied: chardet<4,>=3.0.2 in /usr/local/lib/python3.7/dist-packages (from requests<3,>=2.21.0->tensorboard<2.2.0,>=2.1.0->tensorflow==2.1.0) (3.0.4)\n",
            "Requirement already satisfied: certifi>=2017.4.17 in /usr/local/lib/python3.7/dist-packages (from requests<3,>=2.21.0->tensorboard<2.2.0,>=2.1.0->tensorflow==2.1.0) (2022.9.24)\n",
            "Requirement already satisfied: urllib3!=1.25.0,!=1.25.1,<1.26,>=1.21.1 in /usr/local/lib/python3.7/dist-packages (from requests<3,>=2.21.0->tensorboard<2.2.0,>=2.1.0->tensorflow==2.1.0) (1.24.3)\n",
            "Requirement already satisfied: idna<3,>=2.5 in /usr/local/lib/python3.7/dist-packages (from requests<3,>=2.21.0->tensorboard<2.2.0,>=2.1.0->tensorflow==2.1.0) (2.10)\n",
            "Requirement already satisfied: oauthlib>=3.0.0 in /usr/local/lib/python3.7/dist-packages (from requests-oauthlib>=0.7.0->google-auth-oauthlib<0.5,>=0.4.1->tensorboard<2.2.0,>=2.1.0->tensorflow==2.1.0) (3.2.2)\n",
            "Building wheels for collected packages: gast\n",
            "  Building wheel for gast (setup.py) ... \u001b[?25l\u001b[?25hdone\n",
            "  Created wheel for gast: filename=gast-0.2.2-py3-none-any.whl size=7554 sha256=2538dbf4a9a2ebea3113820861c45760e3297bc4a95704c263f6491d1032f9ee\n",
            "  Stored in directory: /root/.cache/pip/wheels/21/7f/02/420f32a803f7d0967b48dd823da3f558c5166991bfd204eef3\n",
            "Successfully built gast\n",
            "Installing collected packages: tensorflow-estimator, tensorboard, keras-applications, gast, tensorflow\n",
            "  Attempting uninstall: tensorflow-estimator\n",
            "    Found existing installation: tensorflow-estimator 2.2.0\n",
            "    Uninstalling tensorflow-estimator-2.2.0:\n",
            "      Successfully uninstalled tensorflow-estimator-2.2.0\n",
            "  Attempting uninstall: tensorboard\n",
            "    Found existing installation: tensorboard 2.2.2\n",
            "    Uninstalling tensorboard-2.2.2:\n",
            "      Successfully uninstalled tensorboard-2.2.2\n",
            "  Attempting uninstall: gast\n",
            "    Found existing installation: gast 0.3.3\n",
            "    Uninstalling gast-0.3.3:\n",
            "      Successfully uninstalled gast-0.3.3\n",
            "  Attempting uninstall: tensorflow\n",
            "    Found existing installation: tensorflow 2.9.2\n",
            "    Uninstalling tensorflow-2.9.2:\n",
            "      Successfully uninstalled tensorflow-2.9.2\n",
            "\u001b[31mERROR: pip's dependency resolver does not currently take into account all the packages that are installed. This behaviour is the source of the following dependency conflicts.\n",
            "tensorflow-probability 0.17.0 requires gast>=0.3.2, but you have gast 0.2.2 which is incompatible.\n",
            "tensorflow-gpu 2.2.0 requires gast==0.3.3, but you have gast 0.2.2 which is incompatible.\n",
            "tensorflow-gpu 2.2.0 requires tensorboard<2.3.0,>=2.2.0, but you have tensorboard 2.1.1 which is incompatible.\n",
            "tensorflow-gpu 2.2.0 requires tensorflow-estimator<2.3.0,>=2.2.0, but you have tensorflow-estimator 2.1.0 which is incompatible.\u001b[0m\n",
            "Successfully installed gast-0.2.2 keras-applications-1.0.8 tensorboard-2.1.1 tensorflow-2.1.0 tensorflow-estimator-2.1.0\n"
          ]
        },
        {
          "output_type": "display_data",
          "data": {
            "application/vnd.colab-display-data+json": {
              "pip_warning": {
                "packages": [
                  "gast"
                ]
              }
            }
          },
          "metadata": {}
        }
      ]
    },
    {
      "cell_type": "code",
      "execution_count": null,
      "metadata": {
        "id": "g0PcBsY_xTqY",
        "colab": {
          "base_uri": "https://localhost:8080/"
        },
        "outputId": "1388362c-92f1-4867-8c51-81fb6b8acf02"
      },
      "outputs": [
        {
          "output_type": "stream",
          "name": "stderr",
          "text": [
            "ERROR:root:Internal Python error in the inspect module.\n",
            "Below is the traceback from this internal error.\n",
            "\n",
            "Custom TB Handler failed, unregistering\n",
            "ERROR:root:Internal Python error in the inspect module.\n",
            "Below is the traceback from this internal error.\n",
            "\n"
          ]
        },
        {
          "output_type": "stream",
          "name": "stdout",
          "text": [
            "Traceback (most recent call last):\n",
            "  File \"/usr/local/lib/python3.7/dist-packages/tensorflow_core/python/pywrap_tensorflow.py\", line 59, in <module>\n",
            "    from tensorflow.python.pywrap_tensorflow_internal import __version__\n",
            "ImportError: cannot import name '__version__' from 'tensorflow.python.pywrap_tensorflow_internal' (/usr/local/lib/python3.7/dist-packages/tensorflow/python/pywrap_tensorflow_internal.py)\n",
            "\n",
            "During handling of the above exception, another exception occurred:\n",
            "\n",
            "Traceback (most recent call last):\n",
            "  File \"/usr/local/lib/python3.7/dist-packages/IPython/core/interactiveshell.py\", line 3326, in run_code\n",
            "    exec(code_obj, self.user_global_ns, self.user_ns)\n",
            "  File \"<ipython-input-5-6cea32e98049>\", line 17, in <module>\n",
            "    from tensorflow.keras.layers import Dense, Embedding, GlobalAveragePooling1D\n",
            "  File \"/usr/local/lib/python3.7/dist-packages/tensorflow/__init__.py\", line 101, in <module>\n",
            "    from tensorflow_core import *\n",
            "  File \"/usr/local/lib/python3.7/dist-packages/tensorflow_core/__init__.py\", line 40, in <module>\n",
            "    from tensorflow.python.tools import module_util as _module_util\n",
            "  File \"/usr/local/lib/python3.7/dist-packages/tensorflow/__init__.py\", line 50, in __getattr__\n",
            "    module = self._load()\n",
            "  File \"/usr/local/lib/python3.7/dist-packages/tensorflow/__init__.py\", line 44, in _load\n",
            "    module = _importlib.import_module(self.__name__)\n",
            "  File \"/usr/lib/python3.7/importlib/__init__.py\", line 127, in import_module\n",
            "    return _bootstrap._gcd_import(name[level:], package, level)\n",
            "  File \"/usr/local/lib/python3.7/dist-packages/tensorflow_core/python/__init__.py\", line 49, in <module>\n",
            "    from tensorflow.python import pywrap_tensorflow\n",
            "  File \"/usr/local/lib/python3.7/dist-packages/tensorflow_core/python/pywrap_tensorflow.py\", line 74, in <module>\n",
            "    raise ImportError(msg)\n",
            "ImportError: Traceback (most recent call last):\n",
            "  File \"/usr/local/lib/python3.7/dist-packages/tensorflow_core/python/pywrap_tensorflow.py\", line 59, in <module>\n",
            "    from tensorflow.python.pywrap_tensorflow_internal import __version__\n",
            "ImportError: cannot import name '__version__' from 'tensorflow.python.pywrap_tensorflow_internal' (/usr/local/lib/python3.7/dist-packages/tensorflow/python/pywrap_tensorflow_internal.py)\n",
            "\n",
            "\n",
            "Failed to load the native TensorFlow runtime.\n",
            "\n",
            "See https://www.tensorflow.org/install/errors\n",
            "\n",
            "for some common reasons and solutions.  Include the entire stack trace\n",
            "above this error message when asking for help.\n",
            "\n",
            "During handling of the above exception, another exception occurred:\n",
            "\n",
            "Traceback (most recent call last):\n",
            "  File \"/usr/local/lib/python3.7/dist-packages/IPython/core/ultratb.py\", line 1101, in get_records\n",
            "    return _fixed_getinnerframes(etb, number_of_lines_of_context, tb_offset)\n",
            "  File \"/usr/local/lib/python3.7/dist-packages/IPython/core/ultratb.py\", line 319, in wrapped\n",
            "    return f(*args, **kwargs)\n",
            "  File \"/usr/local/lib/python3.7/dist-packages/IPython/core/ultratb.py\", line 353, in _fixed_getinnerframes\n",
            "    records = fix_frame_records_filenames(inspect.getinnerframes(etb, context))\n",
            "  File \"/usr/lib/python3.7/inspect.py\", line 1502, in getinnerframes\n",
            "    frameinfo = (tb.tb_frame,) + getframeinfo(tb, context)\n",
            "  File \"/usr/lib/python3.7/inspect.py\", line 1460, in getframeinfo\n",
            "    filename = getsourcefile(frame) or getfile(frame)\n",
            "  File \"/usr/lib/python3.7/inspect.py\", line 696, in getsourcefile\n",
            "    if getattr(getmodule(object, filename), '__loader__', None) is not None:\n",
            "  File \"/usr/lib/python3.7/inspect.py\", line 733, in getmodule\n",
            "    if ismodule(module) and hasattr(module, '__file__'):\n",
            "  File \"/usr/local/lib/python3.7/dist-packages/tensorflow/__init__.py\", line 50, in __getattr__\n",
            "    module = self._load()\n",
            "  File \"/usr/local/lib/python3.7/dist-packages/tensorflow/__init__.py\", line 44, in _load\n",
            "    module = _importlib.import_module(self.__name__)\n",
            "  File \"/usr/lib/python3.7/importlib/__init__.py\", line 127, in import_module\n",
            "    return _bootstrap._gcd_import(name[level:], package, level)\n",
            "  File \"<frozen importlib._bootstrap>\", line 1006, in _gcd_import\n",
            "  File \"<frozen importlib._bootstrap>\", line 983, in _find_and_load\n",
            "  File \"<frozen importlib._bootstrap>\", line 953, in _find_and_load_unlocked\n",
            "  File \"<frozen importlib._bootstrap>\", line 219, in _call_with_frames_removed\n",
            "  File \"<frozen importlib._bootstrap>\", line 1006, in _gcd_import\n",
            "  File \"<frozen importlib._bootstrap>\", line 983, in _find_and_load\n",
            "  File \"<frozen importlib._bootstrap>\", line 967, in _find_and_load_unlocked\n",
            "  File \"<frozen importlib._bootstrap>\", line 677, in _load_unlocked\n",
            "  File \"<frozen importlib._bootstrap_external>\", line 728, in exec_module\n",
            "  File \"<frozen importlib._bootstrap>\", line 219, in _call_with_frames_removed\n",
            "  File \"/usr/local/lib/python3.7/dist-packages/tensorflow_core/__init__.py\", line 42, in <module>\n",
            "    from . _api.v2 import audio\n",
            "  File \"/usr/local/lib/python3.7/dist-packages/tensorflow_core/_api/v2/audio/__init__.py\", line 10, in <module>\n",
            "    from tensorflow.python.ops.gen_audio_ops import decode_wav\n",
            "ModuleNotFoundError: No module named 'tensorflow.python.ops.gen_audio_ops'\n",
            "Traceback (most recent call last):\n",
            "  File \"/usr/local/lib/python3.7/dist-packages/tensorflow_core/python/pywrap_tensorflow.py\", line 59, in <module>\n",
            "    from tensorflow.python.pywrap_tensorflow_internal import __version__\n",
            "ImportError: cannot import name '__version__' from 'tensorflow.python.pywrap_tensorflow_internal' (/usr/local/lib/python3.7/dist-packages/tensorflow/python/pywrap_tensorflow_internal.py)\n",
            "\n",
            "During handling of the above exception, another exception occurred:\n",
            "\n",
            "Traceback (most recent call last):\n",
            "  File \"/usr/local/lib/python3.7/dist-packages/IPython/core/interactiveshell.py\", line 3326, in run_code\n",
            "    exec(code_obj, self.user_global_ns, self.user_ns)\n",
            "  File \"<ipython-input-5-6cea32e98049>\", line 17, in <module>\n",
            "    from tensorflow.keras.layers import Dense, Embedding, GlobalAveragePooling1D\n",
            "  File \"/usr/local/lib/python3.7/dist-packages/tensorflow/__init__.py\", line 101, in <module>\n",
            "    from tensorflow_core import *\n",
            "  File \"/usr/local/lib/python3.7/dist-packages/tensorflow_core/__init__.py\", line 40, in <module>\n",
            "    from tensorflow.python.tools import module_util as _module_util\n",
            "  File \"/usr/local/lib/python3.7/dist-packages/tensorflow/__init__.py\", line 50, in __getattr__\n",
            "    module = self._load()\n",
            "  File \"/usr/local/lib/python3.7/dist-packages/tensorflow/__init__.py\", line 44, in _load\n",
            "    module = _importlib.import_module(self.__name__)\n",
            "  File \"/usr/lib/python3.7/importlib/__init__.py\", line 127, in import_module\n",
            "    return _bootstrap._gcd_import(name[level:], package, level)\n",
            "  File \"/usr/local/lib/python3.7/dist-packages/tensorflow_core/python/__init__.py\", line 49, in <module>\n",
            "    from tensorflow.python import pywrap_tensorflow\n",
            "  File \"/usr/local/lib/python3.7/dist-packages/tensorflow_core/python/pywrap_tensorflow.py\", line 74, in <module>\n",
            "    raise ImportError(msg)\n",
            "ImportError: Traceback (most recent call last):\n",
            "  File \"/usr/local/lib/python3.7/dist-packages/tensorflow_core/python/pywrap_tensorflow.py\", line 59, in <module>\n",
            "    from tensorflow.python.pywrap_tensorflow_internal import __version__\n",
            "ImportError: cannot import name '__version__' from 'tensorflow.python.pywrap_tensorflow_internal' (/usr/local/lib/python3.7/dist-packages/tensorflow/python/pywrap_tensorflow_internal.py)\n",
            "\n",
            "\n",
            "Failed to load the native TensorFlow runtime.\n",
            "\n",
            "See https://www.tensorflow.org/install/errors\n",
            "\n",
            "for some common reasons and solutions.  Include the entire stack trace\n",
            "above this error message when asking for help.\n",
            "\n",
            "During handling of the above exception, another exception occurred:\n",
            "\n",
            "Traceback (most recent call last):\n",
            "  File \"/usr/local/lib/python3.7/dist-packages/IPython/core/interactiveshell.py\", line 1913, in wrapped\n",
            "    stb = handler(self,etype,value,tb,tb_offset=tb_offset)\n",
            "  File \"/usr/local/lib/python3.7/dist-packages/google/colab/_shell_customizations.py\", line 95, in handle_error\n",
            "    etype, exception, tb, tb_offset=tb_offset)\n",
            "  File \"/usr/local/lib/python3.7/dist-packages/IPython/core/ultratb.py\", line 1385, in structured_traceback\n",
            "    self, etype, value, tb, tb_offset, number_of_lines_of_context)\n",
            "  File \"/usr/local/lib/python3.7/dist-packages/IPython/core/ultratb.py\", line 1288, in structured_traceback\n",
            "    self, etype, value, tb, tb_offset, number_of_lines_of_context\n",
            "  File \"/usr/local/lib/python3.7/dist-packages/IPython/core/ultratb.py\", line 1150, in structured_traceback\n",
            "    formatted_exceptions += self.prepare_chained_exception_message(evalue.__cause__)\n",
            "TypeError: can only concatenate str (not \"list\") to str\n",
            "\n",
            "During handling of the above exception, another exception occurred:\n",
            "\n",
            "Traceback (most recent call last):\n",
            "  File \"/usr/local/lib/python3.7/dist-packages/IPython/core/ultratb.py\", line 1101, in get_records\n",
            "    return _fixed_getinnerframes(etb, number_of_lines_of_context, tb_offset)\n",
            "  File \"/usr/local/lib/python3.7/dist-packages/IPython/core/ultratb.py\", line 319, in wrapped\n",
            "    return f(*args, **kwargs)\n",
            "  File \"/usr/local/lib/python3.7/dist-packages/IPython/core/ultratb.py\", line 353, in _fixed_getinnerframes\n",
            "    records = fix_frame_records_filenames(inspect.getinnerframes(etb, context))\n",
            "  File \"/usr/lib/python3.7/inspect.py\", line 1502, in getinnerframes\n",
            "    frameinfo = (tb.tb_frame,) + getframeinfo(tb, context)\n",
            "  File \"/usr/lib/python3.7/inspect.py\", line 1460, in getframeinfo\n",
            "    filename = getsourcefile(frame) or getfile(frame)\n",
            "  File \"/usr/lib/python3.7/inspect.py\", line 696, in getsourcefile\n",
            "    if getattr(getmodule(object, filename), '__loader__', None) is not None:\n",
            "  File \"/usr/lib/python3.7/inspect.py\", line 733, in getmodule\n",
            "    if ismodule(module) and hasattr(module, '__file__'):\n",
            "  File \"/usr/local/lib/python3.7/dist-packages/tensorflow/__init__.py\", line 50, in __getattr__\n",
            "    module = self._load()\n",
            "  File \"/usr/local/lib/python3.7/dist-packages/tensorflow/__init__.py\", line 44, in _load\n",
            "    module = _importlib.import_module(self.__name__)\n",
            "  File \"/usr/lib/python3.7/importlib/__init__.py\", line 127, in import_module\n",
            "    return _bootstrap._gcd_import(name[level:], package, level)\n",
            "  File \"<frozen importlib._bootstrap>\", line 1006, in _gcd_import\n",
            "  File \"<frozen importlib._bootstrap>\", line 983, in _find_and_load\n",
            "  File \"<frozen importlib._bootstrap>\", line 953, in _find_and_load_unlocked\n",
            "  File \"<frozen importlib._bootstrap>\", line 219, in _call_with_frames_removed\n",
            "  File \"<frozen importlib._bootstrap>\", line 1006, in _gcd_import\n",
            "  File \"<frozen importlib._bootstrap>\", line 983, in _find_and_load\n",
            "  File \"<frozen importlib._bootstrap>\", line 967, in _find_and_load_unlocked\n",
            "  File \"<frozen importlib._bootstrap>\", line 677, in _load_unlocked\n",
            "  File \"<frozen importlib._bootstrap_external>\", line 728, in exec_module\n",
            "  File \"<frozen importlib._bootstrap>\", line 219, in _call_with_frames_removed\n",
            "  File \"/usr/local/lib/python3.7/dist-packages/tensorflow_core/__init__.py\", line 42, in <module>\n",
            "    from . _api.v2 import audio\n",
            "  File \"/usr/local/lib/python3.7/dist-packages/tensorflow_core/_api/v2/audio/__init__.py\", line 10, in <module>\n",
            "    from tensorflow.python.ops.gen_audio_ops import decode_wav\n",
            "ModuleNotFoundError: No module named 'tensorflow.python.ops.gen_audio_ops'\n",
            "\u001b[0;31m---------------------------------------------------------------------------\u001b[0m\n",
            "\u001b[0;31mImportError\u001b[0m                               Traceback (most recent call last)\n",
            "\u001b[0;32m/usr/local/lib/python3.7/dist-packages/tensorflow_core/python/pywrap_tensorflow.py\u001b[0m in \u001b[0;36m<module>\u001b[0;34m\u001b[0m\n",
            "\u001b[1;32m     58\u001b[0m   \u001b[0;32mfrom\u001b[0m \u001b[0mtensorflow\u001b[0m\u001b[0;34m.\u001b[0m\u001b[0mpython\u001b[0m\u001b[0;34m.\u001b[0m\u001b[0mpywrap_tensorflow_internal\u001b[0m \u001b[0;32mimport\u001b[0m \u001b[0;34m*\u001b[0m\u001b[0;34m\u001b[0m\u001b[0;34m\u001b[0m\u001b[0m\n",
            "\u001b[0;32m---> 59\u001b[0;31m   \u001b[0;32mfrom\u001b[0m \u001b[0mtensorflow\u001b[0m\u001b[0;34m.\u001b[0m\u001b[0mpython\u001b[0m\u001b[0;34m.\u001b[0m\u001b[0mpywrap_tensorflow_internal\u001b[0m \u001b[0;32mimport\u001b[0m \u001b[0m__version__\u001b[0m\u001b[0;34m\u001b[0m\u001b[0;34m\u001b[0m\u001b[0m\n",
            "\u001b[0m\u001b[1;32m     60\u001b[0m   \u001b[0;32mfrom\u001b[0m \u001b[0mtensorflow\u001b[0m\u001b[0;34m.\u001b[0m\u001b[0mpython\u001b[0m\u001b[0;34m.\u001b[0m\u001b[0mpywrap_tensorflow_internal\u001b[0m \u001b[0;32mimport\u001b[0m \u001b[0m__git_version__\u001b[0m\u001b[0;34m\u001b[0m\u001b[0;34m\u001b[0m\u001b[0m\n",
            "\n",
            "\u001b[0;31mImportError\u001b[0m: cannot import name '__version__' from 'tensorflow.python.pywrap_tensorflow_internal' (/usr/local/lib/python3.7/dist-packages/tensorflow/python/pywrap_tensorflow_internal.py)\n",
            "\n",
            "During handling of the above exception, another exception occurred:\n",
            "\n",
            "\n",
            "During handling of the above exception, another exception occurred:\n",
            "\n",
            "\u001b[0;31mTypeError\u001b[0m                                 Traceback (most recent call last)\n",
            "\u001b[0;32m/usr/local/lib/python3.7/dist-packages/google/colab/_shell_customizations.py\u001b[0m in \u001b[0;36mhandle_error\u001b[0;34m(self, shell, etype, exception, tb, tb_offset)\u001b[0m\n",
            "\u001b[1;32m     93\u001b[0m       \u001b[0mcustom_message\u001b[0m\u001b[0;34m,\u001b[0m \u001b[0mdetails\u001b[0m \u001b[0;34m=\u001b[0m \u001b[0mresult\u001b[0m\u001b[0;34m\u001b[0m\u001b[0;34m\u001b[0m\u001b[0m\n",
            "\u001b[1;32m     94\u001b[0m       structured_traceback = shell.InteractiveTB.structured_traceback(\n",
            "\u001b[0;32m---> 95\u001b[0;31m           etype, exception, tb, tb_offset=tb_offset)\n",
            "\u001b[0m\u001b[1;32m     96\u001b[0m       \u001b[0;31m# Ensure a blank line appears between the standard traceback and custom\u001b[0m\u001b[0;34m\u001b[0m\u001b[0;34m\u001b[0m\u001b[0;34m\u001b[0m\u001b[0m\n",
            "\u001b[1;32m     97\u001b[0m       \u001b[0;31m# error messaging.\u001b[0m\u001b[0;34m\u001b[0m\u001b[0;34m\u001b[0m\u001b[0;34m\u001b[0m\u001b[0m\n",
            "\n",
            "\u001b[0;32m/usr/local/lib/python3.7/dist-packages/IPython/core/ultratb.py\u001b[0m in \u001b[0;36mstructured_traceback\u001b[0;34m(self, etype, value, tb, tb_offset, number_of_lines_of_context)\u001b[0m\n",
            "\u001b[1;32m   1383\u001b[0m         \u001b[0mself\u001b[0m\u001b[0;34m.\u001b[0m\u001b[0mtb\u001b[0m \u001b[0;34m=\u001b[0m \u001b[0mtb\u001b[0m\u001b[0;34m\u001b[0m\u001b[0;34m\u001b[0m\u001b[0m\n",
            "\u001b[1;32m   1384\u001b[0m         return FormattedTB.structured_traceback(\n",
            "\u001b[0;32m-> 1385\u001b[0;31m             self, etype, value, tb, tb_offset, number_of_lines_of_context)\n",
            "\u001b[0m\u001b[1;32m   1386\u001b[0m \u001b[0;34m\u001b[0m\u001b[0m\n",
            "\u001b[1;32m   1387\u001b[0m \u001b[0;34m\u001b[0m\u001b[0m\n",
            "\n",
            "\u001b[0;32m/usr/local/lib/python3.7/dist-packages/IPython/core/ultratb.py\u001b[0m in \u001b[0;36mstructured_traceback\u001b[0;34m(self, etype, value, tb, tb_offset, number_of_lines_of_context)\u001b[0m\n",
            "\u001b[1;32m   1286\u001b[0m             \u001b[0;31m# Verbose modes need a full traceback\u001b[0m\u001b[0;34m\u001b[0m\u001b[0;34m\u001b[0m\u001b[0;34m\u001b[0m\u001b[0m\n",
            "\u001b[1;32m   1287\u001b[0m             return VerboseTB.structured_traceback(\n",
            "\u001b[0;32m-> 1288\u001b[0;31m                 \u001b[0mself\u001b[0m\u001b[0;34m,\u001b[0m \u001b[0metype\u001b[0m\u001b[0;34m,\u001b[0m \u001b[0mvalue\u001b[0m\u001b[0;34m,\u001b[0m \u001b[0mtb\u001b[0m\u001b[0;34m,\u001b[0m \u001b[0mtb_offset\u001b[0m\u001b[0;34m,\u001b[0m \u001b[0mnumber_of_lines_of_context\u001b[0m\u001b[0;34m\u001b[0m\u001b[0;34m\u001b[0m\u001b[0m\n",
            "\u001b[0m\u001b[1;32m   1289\u001b[0m             )\n",
            "\u001b[1;32m   1290\u001b[0m         \u001b[0;32melif\u001b[0m \u001b[0mmode\u001b[0m \u001b[0;34m==\u001b[0m \u001b[0;34m'Minimal'\u001b[0m\u001b[0;34m:\u001b[0m\u001b[0;34m\u001b[0m\u001b[0;34m\u001b[0m\u001b[0m\n",
            "\n",
            "\u001b[0;32m/usr/local/lib/python3.7/dist-packages/IPython/core/ultratb.py\u001b[0m in \u001b[0;36mstructured_traceback\u001b[0;34m(self, etype, evalue, etb, tb_offset, number_of_lines_of_context)\u001b[0m\n",
            "\u001b[1;32m   1148\u001b[0m         \u001b[0mexception\u001b[0m \u001b[0;34m=\u001b[0m \u001b[0mself\u001b[0m\u001b[0;34m.\u001b[0m\u001b[0mget_parts_of_chained_exception\u001b[0m\u001b[0;34m(\u001b[0m\u001b[0mevalue\u001b[0m\u001b[0;34m)\u001b[0m\u001b[0;34m\u001b[0m\u001b[0;34m\u001b[0m\u001b[0m\n",
            "\u001b[1;32m   1149\u001b[0m         \u001b[0;32mif\u001b[0m \u001b[0mexception\u001b[0m\u001b[0;34m:\u001b[0m\u001b[0;34m\u001b[0m\u001b[0;34m\u001b[0m\u001b[0m\n",
            "\u001b[0;32m-> 1150\u001b[0;31m             \u001b[0mformatted_exceptions\u001b[0m \u001b[0;34m+=\u001b[0m \u001b[0mself\u001b[0m\u001b[0;34m.\u001b[0m\u001b[0mprepare_chained_exception_message\u001b[0m\u001b[0;34m(\u001b[0m\u001b[0mevalue\u001b[0m\u001b[0;34m.\u001b[0m\u001b[0m__cause__\u001b[0m\u001b[0;34m)\u001b[0m\u001b[0;34m\u001b[0m\u001b[0;34m\u001b[0m\u001b[0m\n",
            "\u001b[0m\u001b[1;32m   1151\u001b[0m             \u001b[0metype\u001b[0m\u001b[0;34m,\u001b[0m \u001b[0mevalue\u001b[0m\u001b[0;34m,\u001b[0m \u001b[0metb\u001b[0m \u001b[0;34m=\u001b[0m \u001b[0mexception\u001b[0m\u001b[0;34m\u001b[0m\u001b[0;34m\u001b[0m\u001b[0m\n",
            "\u001b[1;32m   1152\u001b[0m         \u001b[0;32melse\u001b[0m\u001b[0;34m:\u001b[0m\u001b[0;34m\u001b[0m\u001b[0;34m\u001b[0m\u001b[0m\n",
            "\n",
            "\u001b[0;31mTypeError\u001b[0m: can only concatenate str (not \"list\") to str\n",
            "The original exception:\n"
          ]
        }
      ],
      "source": [
        "import pandas as pd\n",
        "import re\n",
        "import nltk\n",
        "from nltk.corpus import stopwords\n",
        "from collections import Counter\n",
        "from sklearn.model_selection import train_test_split\n",
        "from sklearn.feature_extraction.text import TfidfVectorizer\n",
        "from sklearn.feature_extraction.text import TfidfTransformer\n",
        "from sklearn.naive_bayes import MultinomialNB\n",
        "from sklearn.naive_bayes import GaussianNB\n",
        "from sklearn.metrics import roc_auc_score\n",
        "from sklearn.metrics import classification_report\n",
        "from sklearn.metrics import accuracy_score\n",
        "from sklearn.feature_extraction.text import CountVectorizer, TfidfVectorizer\n",
        "from sklearn.model_selection import GridSearchCV\n",
        "from sklearn.metrics import confusion_matrix\n",
        "from tensorflow.keras.layers import Dense, Embedding, GlobalAveragePooling1D\n",
        "import tensorflow as tf\n",
        "import keras\n",
        "from keras.models import Sequential\n",
        "from  tensorflow.keras.preprocessing.text import Tokenizer\n",
        "from tensorflow.keras.preprocessing.sequence import pad_sequences\n"
      ]
    },
    {
      "cell_type": "code",
      "source": [
        "nltk.download(\"popular\")"
      ],
      "metadata": {
        "id": "KGPbMpodEhpA"
      },
      "execution_count": null,
      "outputs": []
    },
    {
      "cell_type": "markdown",
      "source": [
        "#Data preprocessing - text cleaning"
      ],
      "metadata": {
        "id": "1bdC9gJjkbiH"
      }
    },
    {
      "cell_type": "markdown",
      "source": [
        "### I wnat to take all word that are in my dataset"
      ],
      "metadata": {
        "id": "qH3no91tHRGh"
      }
    },
    {
      "cell_type": "code",
      "source": [
        "train_data = pd.read_csv('/content/Train.csv')\n",
        "train_data"
      ],
      "metadata": {
        "id": "RrQTTxk_FNt3",
        "colab": {
          "base_uri": "https://localhost:8080/",
          "height": 424
        },
        "outputId": "1e717c0a-bc87-4888-ddd1-0c50e8a0b2c6"
      },
      "execution_count": null,
      "outputs": [
        {
          "output_type": "execute_result",
          "data": {
            "text/plain": [
              "                                                    text  label\n",
              "0      I grew up (b. 1965) watching and loving the Th...      0\n",
              "1      When I put this movie in my DVD player, and sa...      0\n",
              "2      Why do people who do not know what a particula...      0\n",
              "3      Even though I have great interest in Biblical ...      0\n",
              "4      Im a die hard Dads Army fan and nothing will e...      1\n",
              "...                                                  ...    ...\n",
              "39995  \"Western Union\" is something of a forgotten cl...      1\n",
              "39996  This movie is an incredible piece of work. It ...      1\n",
              "39997  My wife and I watched this movie because we pl...      0\n",
              "39998  When I first watched Flatliners, I was amazed....      1\n",
              "39999  Why would this film be so good, but only gross...      1\n",
              "\n",
              "[40000 rows x 2 columns]"
            ],
            "text/html": [
              "\n",
              "  <div id=\"df-2d4a4d8e-3c39-455b-b73d-3ee20844175b\">\n",
              "    <div class=\"colab-df-container\">\n",
              "      <div>\n",
              "<style scoped>\n",
              "    .dataframe tbody tr th:only-of-type {\n",
              "        vertical-align: middle;\n",
              "    }\n",
              "\n",
              "    .dataframe tbody tr th {\n",
              "        vertical-align: top;\n",
              "    }\n",
              "\n",
              "    .dataframe thead th {\n",
              "        text-align: right;\n",
              "    }\n",
              "</style>\n",
              "<table border=\"1\" class=\"dataframe\">\n",
              "  <thead>\n",
              "    <tr style=\"text-align: right;\">\n",
              "      <th></th>\n",
              "      <th>text</th>\n",
              "      <th>label</th>\n",
              "    </tr>\n",
              "  </thead>\n",
              "  <tbody>\n",
              "    <tr>\n",
              "      <th>0</th>\n",
              "      <td>I grew up (b. 1965) watching and loving the Th...</td>\n",
              "      <td>0</td>\n",
              "    </tr>\n",
              "    <tr>\n",
              "      <th>1</th>\n",
              "      <td>When I put this movie in my DVD player, and sa...</td>\n",
              "      <td>0</td>\n",
              "    </tr>\n",
              "    <tr>\n",
              "      <th>2</th>\n",
              "      <td>Why do people who do not know what a particula...</td>\n",
              "      <td>0</td>\n",
              "    </tr>\n",
              "    <tr>\n",
              "      <th>3</th>\n",
              "      <td>Even though I have great interest in Biblical ...</td>\n",
              "      <td>0</td>\n",
              "    </tr>\n",
              "    <tr>\n",
              "      <th>4</th>\n",
              "      <td>Im a die hard Dads Army fan and nothing will e...</td>\n",
              "      <td>1</td>\n",
              "    </tr>\n",
              "    <tr>\n",
              "      <th>...</th>\n",
              "      <td>...</td>\n",
              "      <td>...</td>\n",
              "    </tr>\n",
              "    <tr>\n",
              "      <th>39995</th>\n",
              "      <td>\"Western Union\" is something of a forgotten cl...</td>\n",
              "      <td>1</td>\n",
              "    </tr>\n",
              "    <tr>\n",
              "      <th>39996</th>\n",
              "      <td>This movie is an incredible piece of work. It ...</td>\n",
              "      <td>1</td>\n",
              "    </tr>\n",
              "    <tr>\n",
              "      <th>39997</th>\n",
              "      <td>My wife and I watched this movie because we pl...</td>\n",
              "      <td>0</td>\n",
              "    </tr>\n",
              "    <tr>\n",
              "      <th>39998</th>\n",
              "      <td>When I first watched Flatliners, I was amazed....</td>\n",
              "      <td>1</td>\n",
              "    </tr>\n",
              "    <tr>\n",
              "      <th>39999</th>\n",
              "      <td>Why would this film be so good, but only gross...</td>\n",
              "      <td>1</td>\n",
              "    </tr>\n",
              "  </tbody>\n",
              "</table>\n",
              "<p>40000 rows × 2 columns</p>\n",
              "</div>\n",
              "      <button class=\"colab-df-convert\" onclick=\"convertToInteractive('df-2d4a4d8e-3c39-455b-b73d-3ee20844175b')\"\n",
              "              title=\"Convert this dataframe to an interactive table.\"\n",
              "              style=\"display:none;\">\n",
              "        \n",
              "  <svg xmlns=\"http://www.w3.org/2000/svg\" height=\"24px\"viewBox=\"0 0 24 24\"\n",
              "       width=\"24px\">\n",
              "    <path d=\"M0 0h24v24H0V0z\" fill=\"none\"/>\n",
              "    <path d=\"M18.56 5.44l.94 2.06.94-2.06 2.06-.94-2.06-.94-.94-2.06-.94 2.06-2.06.94zm-11 1L8.5 8.5l.94-2.06 2.06-.94-2.06-.94L8.5 2.5l-.94 2.06-2.06.94zm10 10l.94 2.06.94-2.06 2.06-.94-2.06-.94-.94-2.06-.94 2.06-2.06.94z\"/><path d=\"M17.41 7.96l-1.37-1.37c-.4-.4-.92-.59-1.43-.59-.52 0-1.04.2-1.43.59L10.3 9.45l-7.72 7.72c-.78.78-.78 2.05 0 2.83L4 21.41c.39.39.9.59 1.41.59.51 0 1.02-.2 1.41-.59l7.78-7.78 2.81-2.81c.8-.78.8-2.07 0-2.86zM5.41 20L4 18.59l7.72-7.72 1.47 1.35L5.41 20z\"/>\n",
              "  </svg>\n",
              "      </button>\n",
              "      \n",
              "  <style>\n",
              "    .colab-df-container {\n",
              "      display:flex;\n",
              "      flex-wrap:wrap;\n",
              "      gap: 12px;\n",
              "    }\n",
              "\n",
              "    .colab-df-convert {\n",
              "      background-color: #E8F0FE;\n",
              "      border: none;\n",
              "      border-radius: 50%;\n",
              "      cursor: pointer;\n",
              "      display: none;\n",
              "      fill: #1967D2;\n",
              "      height: 32px;\n",
              "      padding: 0 0 0 0;\n",
              "      width: 32px;\n",
              "    }\n",
              "\n",
              "    .colab-df-convert:hover {\n",
              "      background-color: #E2EBFA;\n",
              "      box-shadow: 0px 1px 2px rgba(60, 64, 67, 0.3), 0px 1px 3px 1px rgba(60, 64, 67, 0.15);\n",
              "      fill: #174EA6;\n",
              "    }\n",
              "\n",
              "    [theme=dark] .colab-df-convert {\n",
              "      background-color: #3B4455;\n",
              "      fill: #D2E3FC;\n",
              "    }\n",
              "\n",
              "    [theme=dark] .colab-df-convert:hover {\n",
              "      background-color: #434B5C;\n",
              "      box-shadow: 0px 1px 3px 1px rgba(0, 0, 0, 0.15);\n",
              "      filter: drop-shadow(0px 1px 2px rgba(0, 0, 0, 0.3));\n",
              "      fill: #FFFFFF;\n",
              "    }\n",
              "  </style>\n",
              "\n",
              "      <script>\n",
              "        const buttonEl =\n",
              "          document.querySelector('#df-2d4a4d8e-3c39-455b-b73d-3ee20844175b button.colab-df-convert');\n",
              "        buttonEl.style.display =\n",
              "          google.colab.kernel.accessAllowed ? 'block' : 'none';\n",
              "\n",
              "        async function convertToInteractive(key) {\n",
              "          const element = document.querySelector('#df-2d4a4d8e-3c39-455b-b73d-3ee20844175b');\n",
              "          const dataTable =\n",
              "            await google.colab.kernel.invokeFunction('convertToInteractive',\n",
              "                                                     [key], {});\n",
              "          if (!dataTable) return;\n",
              "\n",
              "          const docLinkHtml = 'Like what you see? Visit the ' +\n",
              "            '<a target=\"_blank\" href=https://colab.research.google.com/notebooks/data_table.ipynb>data table notebook</a>'\n",
              "            + ' to learn more about interactive tables.';\n",
              "          element.innerHTML = '';\n",
              "          dataTable['output_type'] = 'display_data';\n",
              "          await google.colab.output.renderOutput(dataTable, element);\n",
              "          const docLink = document.createElement('div');\n",
              "          docLink.innerHTML = docLinkHtml;\n",
              "          element.appendChild(docLink);\n",
              "        }\n",
              "      </script>\n",
              "    </div>\n",
              "  </div>\n",
              "  "
            ]
          },
          "metadata": {},
          "execution_count": 5
        }
      ]
    },
    {
      "cell_type": "code",
      "source": [
        "all_words = [word for review in train_data['text'] for word in review.split(\" \")]"
      ],
      "metadata": {
        "id": "ZH8ciItqGbpZ"
      },
      "execution_count": null,
      "outputs": []
    },
    {
      "cell_type": "code",
      "source": [
        "vocab = Counter(all_words)"
      ],
      "metadata": {
        "id": "DDxY8MoFGbm9"
      },
      "execution_count": null,
      "outputs": []
    },
    {
      "cell_type": "code",
      "source": [
        "vocab"
      ],
      "metadata": {
        "colab": {
          "base_uri": "https://localhost:8080/"
        },
        "id": "RTqRtBKiIV1p",
        "outputId": "0d560aac-496b-49b2-d44a-24af347a36df"
      },
      "execution_count": null,
      "outputs": [
        {
          "output_type": "execute_result",
          "data": {
            "text/plain": [
              "Counter({'I': 106137,\n",
              "         'grew': 362,\n",
              "         'up': 16929,\n",
              "         '(b.': 2,\n",
              "         '1965)': 1,\n",
              "         'watching': 6236,\n",
              "         'and': 242020,\n",
              "         'loving': 380,\n",
              "         'the': 454993,\n",
              "         'Thunderbirds.': 2,\n",
              "         'All': 2377,\n",
              "         'my': 16223,\n",
              "         'mates': 65,\n",
              "         'at': 33972,\n",
              "         'school': 1814,\n",
              "         'watched.': 92,\n",
              "         'We': 2471,\n",
              "         'played': 3582,\n",
              "         '\"Thunderbirds\"': 3,\n",
              "         'before': 5079,\n",
              "         'school,': 230,\n",
              "         'during': 3163,\n",
              "         'lunch': 67,\n",
              "         'after': 8991,\n",
              "         'school.': 244,\n",
              "         'all': 28222,\n",
              "         'wanted': 2048,\n",
              "         'to': 209658,\n",
              "         'be': 40431,\n",
              "         'Virgil': 18,\n",
              "         'or': 25863,\n",
              "         'Scott.': 26,\n",
              "         'No': 1720,\n",
              "         'one': 33087,\n",
              "         'Alan.': 6,\n",
              "         'Counting': 4,\n",
              "         'down': 4527,\n",
              "         'from': 30458,\n",
              "         '5': 1046,\n",
              "         'became': 1050,\n",
              "         'an': 32890,\n",
              "         'art': 1088,\n",
              "         'form.': 120,\n",
              "         'took': 1773,\n",
              "         'children': 1312,\n",
              "         'see': 16252,\n",
              "         'movie': 48764,\n",
              "         'hoping': 599,\n",
              "         'they': 28079,\n",
              "         'would': 18856,\n",
              "         'get': 13931,\n",
              "         'a': 246017,\n",
              "         'glimpse': 229,\n",
              "         'of': 226960,\n",
              "         'what': 18603,\n",
              "         'loved': 2107,\n",
              "         'as': 66676,\n",
              "         'child.': 199,\n",
              "         'How': 1555,\n",
              "         'bitterly': 31,\n",
              "         'disappointing.': 143,\n",
              "         'The': 53803,\n",
              "         'only': 17372,\n",
              "         'high': 2463,\n",
              "         'point': 3480,\n",
              "         'was': 74145,\n",
              "         'snappy': 56,\n",
              "         'theme': 945,\n",
              "         'tune.': 16,\n",
              "         'Not': 2707,\n",
              "         'that': 101520,\n",
              "         'it': 86574,\n",
              "         'could': 11791,\n",
              "         'compare': 460,\n",
              "         'with': 65924,\n",
              "         'original': 3896,\n",
              "         'score': 1174,\n",
              "         'Thankfully': 61,\n",
              "         'early': 2273,\n",
              "         'Saturday': 280,\n",
              "         'mornings': 8,\n",
              "         'television': 957,\n",
              "         'channel': 316,\n",
              "         'still': 7573,\n",
              "         'plays': 3331,\n",
              "         'reruns': 45,\n",
              "         'series': 3386,\n",
              "         'Gerry': 29,\n",
              "         'Anderson': 217,\n",
              "         'his': 43094,\n",
              "         'wife': 2159,\n",
              "         'created.': 60,\n",
              "         'Jonatha': 1,\n",
              "         'Frakes': 6,\n",
              "         'should': 7400,\n",
              "         'hand': 943,\n",
              "         'in': 135736,\n",
              "         'directors': 703,\n",
              "         'chair,': 27,\n",
              "         'version': 2485,\n",
              "         'completely': 2860,\n",
              "         'hopeless.': 17,\n",
              "         'A': 7678,\n",
              "         'waste': 2047,\n",
              "         'film.': 7033,\n",
              "         'Utter': 13,\n",
              "         'rubbish.': 102,\n",
              "         'CGI': 361,\n",
              "         'remake': 641,\n",
              "         'may': 4846,\n",
              "         'acceptable': 146,\n",
              "         'but': 53203,\n",
              "         'replacing': 49,\n",
              "         'marionettes': 3,\n",
              "         'Homo': 3,\n",
              "         'sapiens': 4,\n",
              "         'subsp.': 1,\n",
              "         'huge': 1385,\n",
              "         'error': 69,\n",
              "         'judgment.': 9,\n",
              "         'When': 3277,\n",
              "         'put': 3562,\n",
              "         'this': 91009,\n",
              "         'DVD': 2622,\n",
              "         'player,': 65,\n",
              "         'sat': 459,\n",
              "         'coke': 46,\n",
              "         'some': 22502,\n",
              "         'chips,': 2,\n",
              "         'had': 17109,\n",
              "         'expectations.': 103,\n",
              "         'contain': 229,\n",
              "         'strong-points': 1,\n",
              "         'first': 11366,\n",
              "         'movie:': 206,\n",
              "         'Awsome': 1,\n",
              "         'animation,': 130,\n",
              "         'good': 18180,\n",
              "         'flowing': 65,\n",
              "         'story,': 1845,\n",
              "         'excellent': 2352,\n",
              "         'voice': 1276,\n",
              "         'cast,': 629,\n",
              "         'funny': 4011,\n",
              "         'comedy': 3046,\n",
              "         'kick-ass': 15,\n",
              "         'soundtrack.': 157,\n",
              "         'But,': 715,\n",
              "         'disappointment,': 58,\n",
              "         'not': 41672,\n",
              "         'any': 11387,\n",
              "         'is': 162520,\n",
              "         'found': 3983,\n",
              "         'Atlantis:': 5,\n",
              "         \"Milo's\": 24,\n",
              "         'Return.': 3,\n",
              "         'Had': 189,\n",
              "         'read': 2693,\n",
              "         'reviews': 905,\n",
              "         'first,': 446,\n",
              "         'might': 4508,\n",
              "         'have': 43348,\n",
              "         'been': 14380,\n",
              "         'so': 25890,\n",
              "         'let': 2215,\n",
              "         'down.': 423,\n",
              "         'following': 736,\n",
              "         'paragraph': 32,\n",
              "         'will': 13637,\n",
              "         'directed': 1457,\n",
              "         'those': 6983,\n",
              "         'who': 29869,\n",
              "         'seen': 8500,\n",
              "         'movie,': 6371,\n",
              "         'enjoyed': 1815,\n",
              "         'primarily': 157,\n",
              "         'for': 64868,\n",
              "         'points': 849,\n",
              "         'mentioned.<br': 8,\n",
              "         '/><br': 80731,\n",
              "         '/>When': 410,\n",
              "         'scene': 6540,\n",
              "         'appears,': 43,\n",
              "         'your': 8754,\n",
              "         'shock': 403,\n",
              "         'if': 17639,\n",
              "         'you': 40940,\n",
              "         'just': 25995,\n",
              "         'picked': 527,\n",
              "         'Return': 98,\n",
              "         'display-case': 1,\n",
              "         'local': 1388,\n",
              "         'videoshop': 1,\n",
              "         '(or': 983,\n",
              "         'whatever),': 4,\n",
              "         'expectations': 410,\n",
              "         'had.': 142,\n",
              "         'music': 3532,\n",
              "         'feels': 1186,\n",
              "         'bad': 10253,\n",
              "         'imitation': 92,\n",
              "         'cast': 4402,\n",
              "         'has': 25966,\n",
              "         'replaced': 238,\n",
              "         'by': 33712,\n",
              "         'fitting': 163,\n",
              "         'one.': 1853,\n",
              "         '(With': 6,\n",
              "         'exception': 407,\n",
              "         'few': 6071,\n",
              "         'characters,': 1329,\n",
              "         'like': 28925,\n",
              "         'Sweet).': 2,\n",
              "         'actual': 1168,\n",
              "         'drawings': 51,\n",
              "         'isnt': 25,\n",
              "         'bad,': 1238,\n",
              "         'animation': 793,\n",
              "         'particular': 922,\n",
              "         'sad': 1079,\n",
              "         'sight.': 60,\n",
              "         'storyline': 870,\n",
              "         'also': 11825,\n",
              "         'pretty': 5400,\n",
              "         'weak,': 115,\n",
              "         'its': 11444,\n",
              "         'more': 20349,\n",
              "         'three': 3029,\n",
              "         'episodes': 998,\n",
              "         'Schooby-Doo': 2,\n",
              "         'than': 15185,\n",
              "         'single': 1306,\n",
              "         'adventurous': 48,\n",
              "         'story': 13135,\n",
              "         'we': 12116,\n",
              "         'got': 5279,\n",
              "         'last': 3957,\n",
              "         'time.': 3096,\n",
              "         'But': 9081,\n",
              "         'dont': 92,\n",
              "         'misunderstand,': 2,\n",
              "         \"it's\": 16713,\n",
              "         'very': 20573,\n",
              "         'episodes.': 142,\n",
              "         'didnt': 48,\n",
              "         'laugh': 1574,\n",
              "         'time,': 2124,\n",
              "         'although': 2014,\n",
              "         'sniggered': 1,\n",
              "         'once': 2485,\n",
              "         'twice.<br': 10,\n",
              "         '/>To': 435,\n",
              "         'audience': 2375,\n",
              "         \"haven't\": 1225,\n",
              "         \"don't\": 11147,\n",
              "         'especially': 3200,\n",
              "         'care': 1821,\n",
              "         'similar': 1197,\n",
              "         'sequel,': 155,\n",
              "         'here': 4192,\n",
              "         'fast': 799,\n",
              "         'review': 961,\n",
              "         'stand-alone': 14,\n",
              "         'product:': 2,\n",
              "         'If': 7021,\n",
              "         'liked': 2261,\n",
              "         'schooby-doo,': 1,\n",
              "         'movie.': 8502,\n",
              "         \"didn't,\": 42,\n",
              "         'enjoy': 2391,\n",
              "         'nothing': 5267,\n",
              "         'else': 2065,\n",
              "         'do.': 610,\n",
              "         'And': 8828,\n",
              "         'suspect': 370,\n",
              "         'kids': 2073,\n",
              "         \"wouldn't\": 1554,\n",
              "         'know.': 304,\n",
              "         'It': 17276,\n",
              "         'better': 7108,\n",
              "         'three-episode': 1,\n",
              "         'on': 48932,\n",
              "         'cartoon': 594,\n",
              "         'channel,': 38,\n",
              "         'breakfast': 39,\n",
              "         'TV.': 278,\n",
              "         'Why': 1474,\n",
              "         'do': 11772,\n",
              "         'people': 11563,\n",
              "         'know': 8539,\n",
              "         'time': 12265,\n",
              "         'past': 1356,\n",
              "         'feel': 4251,\n",
              "         'need': 2650,\n",
              "         'try': 2527,\n",
              "         'define': 75,\n",
              "         'others?': 7,\n",
              "         'Replace': 1,\n",
              "         'Woodstock': 16,\n",
              "         'Civil': 166,\n",
              "         'War': 720,\n",
              "         'Apollo': 32,\n",
              "         'moon-landing': 1,\n",
              "         'Titanic': 82,\n",
              "         'sinking': 74,\n",
              "         \"you've\": 1012,\n",
              "         'realistic': 799,\n",
              "         'flick': 1052,\n",
              "         'formulaic': 103,\n",
              "         'soap': 344,\n",
              "         'opera': 352,\n",
              "         'populated': 69,\n",
              "         'entirely': 757,\n",
              "         'low-life': 17,\n",
              "         'trash.': 154,\n",
              "         'Is': 994,\n",
              "         'were': 16490,\n",
              "         'too': 9170,\n",
              "         'young': 4727,\n",
              "         'allowed': 521,\n",
              "         'go': 6702,\n",
              "         'failed': 612,\n",
              "         'grade': 250,\n",
              "         'composition': 51,\n",
              "         'do?': 119,\n",
              "         '\"I\\'ll': 50,\n",
              "         'show': 7266,\n",
              "         'old': 5285,\n",
              "         'meanies,': 1,\n",
              "         \"I'll\": 1236,\n",
              "         'out': 23025,\n",
              "         'own': 4501,\n",
              "         'prove': 402,\n",
              "         'nuttin': 1,\n",
              "         'about': 25776,\n",
              "         'topic': 181,\n",
              "         'make': 11956,\n",
              "         'money!\"': 4,\n",
              "         'Yeah,': 203,\n",
              "         'already': 1850,\n",
              "         'that.': 1333,\n",
              "         'thing': 5614,\n",
              "         'film': 43320,\n",
              "         'did': 8400,\n",
              "         'me': 12096,\n",
              "         'give': 5101,\n",
              "         'little': 9071,\n",
              "         'insight': 242,\n",
              "         'into': 14062,\n",
              "         'underclass': 6,\n",
              "         'thinking.': 61,\n",
              "         'next': 2117,\n",
              "         'slut': 25,\n",
              "         'bar': 357,\n",
              "         'looks': 3394,\n",
              "         'Diane': 178,\n",
              "         'Lane,': 23,\n",
              "         \"I'm\": 6309,\n",
              "         'running': 1361,\n",
              "         'other': 12623,\n",
              "         'way.': 1153,\n",
              "         \"It's\": 8155,\n",
              "         'child': 1138,\n",
              "         'abuse': 200,\n",
              "         'parents': 826,\n",
              "         'worthless': 130,\n",
              "         'raise': 221,\n",
              "         'kids.': 236,\n",
              "         'simply': 2832,\n",
              "         'stick': 578,\n",
              "         'moonlanding': 1,\n",
              "         'ipso': 1,\n",
              "         'facto': 6,\n",
              "         'means': 1009,\n",
              "         'portrays': 324,\n",
              "         '1969.': 15,\n",
              "         'Even': 2131,\n",
              "         'though': 4276,\n",
              "         'great': 11513,\n",
              "         'interest': 1121,\n",
              "         'Biblical': 42,\n",
              "         'movies,': 1477,\n",
              "         'bored': 606,\n",
              "         'death': 1721,\n",
              "         'every': 5540,\n",
              "         'minute': 852,\n",
              "         'Everything': 465,\n",
              "         'bad.': 1289,\n",
              "         'long,': 406,\n",
              "         'acting': 7385,\n",
              "         'most': 12430,\n",
              "         'Joke': 6,\n",
              "         'script': 3263,\n",
              "         'horrible.': 223,\n",
              "         'mixing': 93,\n",
              "         'Abraham': 65,\n",
              "         'Noah': 56,\n",
              "         'together.': 570,\n",
              "         'So': 2660,\n",
              "         'value': 502,\n",
              "         'sanity': 40,\n",
              "         'stay': 1062,\n",
              "         'away': 3128,\n",
              "         'horror.': 174,\n",
              "         'Im': 68,\n",
              "         'die': 631,\n",
              "         'hard': 3301,\n",
              "         'Dads': 13,\n",
              "         'Army': 213,\n",
              "         'fan': 2349,\n",
              "         'ever': 7937,\n",
              "         'change': 1170,\n",
              "         'tapes,': 17,\n",
              "         \"DVD's\": 70,\n",
              "         'audiobooks': 1,\n",
              "         'i': 7430,\n",
              "         'watch/listen': 1,\n",
              "         'them': 8744,\n",
              "         'brand': 163,\n",
              "         'new.': 75,\n",
              "         '<br': 9600,\n",
              "         '/>The': 11546,\n",
              "         're': 50,\n",
              "         'run': 1487,\n",
              "         'certain': 1202,\n",
              "         'episodes,': 177,\n",
              "         'Man': 724,\n",
              "         'hour,': 126,\n",
              "         'Enemy': 26,\n",
              "         'within': 1127,\n",
              "         'gates,': 7,\n",
              "         'Battle': 78,\n",
              "         'School': 147,\n",
              "         'numerous': 395,\n",
              "         'others': 1500,\n",
              "         'different': 3200,\n",
              "         'edge.': 40,\n",
              "         'Introduction': 3,\n",
              "         'new': 4324,\n",
              "         'General': 170,\n",
              "         'instead': 1981,\n",
              "         'Captain': 294,\n",
              "         'Square': 33,\n",
              "         'brilliant': 1328,\n",
              "         'move': 973,\n",
              "         '-': 14757,\n",
              "         'when': 18084,\n",
              "         'he': 33550,\n",
              "         'cash': 240,\n",
              "         'cheque': 9,\n",
              "         '(something': 57,\n",
              "         'rarely': 434,\n",
              "         'done': 3743,\n",
              "         'now).<br': 6,\n",
              "         '/>It': 1490,\n",
              "         'follows': 717,\n",
              "         'through': 6785,\n",
              "         'years': 5093,\n",
              "         'getting': 2508,\n",
              "         'equipment': 104,\n",
              "         'uniforms,': 17,\n",
              "         'starting': 369,\n",
              "         'training.': 16,\n",
              "         'all,': 2248,\n",
              "         'boring': 1651,\n",
              "         'Sunday': 217,\n",
              "         'afternoon.': 45,\n",
              "         '/>Two': 81,\n",
              "         'draw': 281,\n",
              "         'backs.': 10,\n",
              "         'One': 2771,\n",
              "         'Germans': 152,\n",
              "         'bogus': 27,\n",
              "         'dodgy': 56,\n",
              "         'accents': 186,\n",
              "         '(come': 13,\n",
              "         'one,': 1199,\n",
              "         'cant': 341,\n",
              "         'pronounced': 28,\n",
              "         'letter': 179,\n",
              "         '\"W\"': 6,\n",
              "         'us)': 14,\n",
              "         'Two': 519,\n",
              "         'casting': 652,\n",
              "         'Liz': 63,\n",
              "         'Frazer': 4,\n",
              "         'familiar': 747,\n",
              "         'Janet': 75,\n",
              "         'Davis.': 16,\n",
              "         'films': 7572,\n",
              "         'carry': 466,\n",
              "         'ons': 3,\n",
              "         'she': 15089,\n",
              "         \"doesn't\": 6887,\n",
              "         'correctly': 64,\n",
              "         'Davis': 267,\n",
              "         'choice.': 85,\n",
              "         'terrible': 1607,\n",
              "         'everyone': 2466,\n",
              "         'said.': 125,\n",
              "         'What': 3675,\n",
              "         'made': 10628,\n",
              "         'cameo': 288,\n",
              "         'appearance': 521,\n",
              "         'Scott': 623,\n",
              "         'McNealy,': 1,\n",
              "         'giving': 1275,\n",
              "         'award': 292,\n",
              "         'murdered': 321,\n",
              "         'programmers': 14,\n",
              "         'front': 835,\n",
              "         'wall': 281,\n",
              "         'SUN': 6,\n",
              "         'logos.': 1,\n",
              "         'McNealy': 1,\n",
              "         'CEO': 19,\n",
              "         'Microsystem,': 1,\n",
              "         'company': 541,\n",
              "         'practically': 318,\n",
              "         'defines': 45,\n",
              "         'itself': 1680,\n",
              "         'hatred': 131,\n",
              "         'Microsoft.': 2,\n",
              "         'They': 4436,\n",
              "         'instrumental': 36,\n",
              "         'filing': 8,\n",
              "         'antitrust': 2,\n",
              "         'complaints': 95,\n",
              "         'against': 2075,\n",
              "         'So,': 586,\n",
              "         'silly': 1051,\n",
              "         'enough': 4316,\n",
              "         'think': 10441,\n",
              "         'add': 1049,\n",
              "         'fuel': 69,\n",
              "         'fire?<br': 1,\n",
              "         \"/>There's\": 246,\n",
              "         'no': 16064,\n",
              "         'public': 636,\n",
              "         'record': 324,\n",
              "         \"SUN's\": 2,\n",
              "         'involvement,': 9,\n",
              "         'clearly': 1236,\n",
              "         'makers': 558,\n",
              "         'McNealy.': 1,\n",
              "         'An': 965,\n",
              "         'interesting': 3708,\n",
              "         'mystery.': 105,\n",
              "         'Finally': 106,\n",
              "         'watched': 3373,\n",
              "         'shocking': 379,\n",
              "         'night,': 341,\n",
              "         'disturbing': 496,\n",
              "         'mindf**ker': 1,\n",
              "         'is,': 2137,\n",
              "         'unbelievably': 153,\n",
              "         'bloody': 368,\n",
              "         'unforgettable': 175,\n",
              "         'scenes,': 915,\n",
              "         'total': 883,\n",
              "         'assault': 88,\n",
              "         'senses.': 20,\n",
              "         'Looks': 35,\n",
              "         'minds': 213,\n",
              "         'Lynch': 233,\n",
              "         '(specifically': 5,\n",
              "         'ERASERHEAD),': 1,\n",
              "         'Buttgereit,': 1,\n",
              "         'even': 16862,\n",
              "         '\"Begotten\".': 1,\n",
              "         'guy': 3598,\n",
              "         'does': 8385,\n",
              "         'pregnant': 202,\n",
              "         'sister': 729,\n",
              "         'beyond': 1237,\n",
              "         'belief,': 26,\n",
              "         'then': 9564,\n",
              "         'again,': 1194,\n",
              "         'really': 17130,\n",
              "         'happen': 1087,\n",
              "         \"brain's\": 4,\n",
              "         'left': 3007,\n",
              "         'right': 3561,\n",
              "         'sides': 215,\n",
              "         'doing': 2215,\n",
              "         'battle.': 59,\n",
              "         \"That's\": 1163,\n",
              "         'main': 3584,\n",
              "         'piece': 2137,\n",
              "         'art,': 152,\n",
              "         'fine': 1572,\n",
              "         'line': 1897,\n",
              "         'between': 5001,\n",
              "         'fantasy': 570,\n",
              "         'reality,': 206,\n",
              "         'side': 1343,\n",
              "         'brain': 492,\n",
              "         'dreams': 357,\n",
              "         'fantasizes': 9,\n",
              "         'overtakes': 6,\n",
              "         'reasoning': 44,\n",
              "         'logical': 139,\n",
              "         'side.': 145,\n",
              "         'unbelievable,': 90,\n",
              "         'kind': 4016,\n",
              "         'electronic': 44,\n",
              "         'absolutely': 2200,\n",
              "         'perfect.': 205,\n",
              "         'totally': 2067,\n",
              "         'disgusting': 239,\n",
              "         'extreme': 429,\n",
              "         'scenes': 6135,\n",
              "         '(including': 251,\n",
              "         'core': 245,\n",
              "         'sex)': 4,\n",
              "         'viewed': 323,\n",
              "         'work': 4525,\n",
              "         'it.': 8861,\n",
              "         'amazes': 45,\n",
              "         'me,': 1682,\n",
              "         'find': 6336,\n",
              "         'soundtrack': 885,\n",
              "         'available.': 63,\n",
              "         'Watching': 293,\n",
              "         '\"Subconscious': 4,\n",
              "         'Cruelty\"': 3,\n",
              "         'real': 6226,\n",
              "         'event,': 99,\n",
              "         'something': 6737,\n",
              "         'viewer': 1440,\n",
              "         'easily': 1160,\n",
              "         'forget.': 62,\n",
              "         'note': 549,\n",
              "         'gorehounds,': 5,\n",
              "         'must-have.<br': 1,\n",
              "         '/>Warning...': 1,\n",
              "         'Be': 214,\n",
              "         'careful': 120,\n",
              "         'buying': 252,\n",
              "         'because': 13104,\n",
              "         'prints': 28,\n",
              "         'fogging': 3,\n",
              "         'graphic': 332,\n",
              "         'sex': 1813,\n",
              "         'gore,': 249,\n",
              "         'copies': 147,\n",
              "         'Japanese': 891,\n",
              "         'release.': 163,\n",
              "         'caught': 824,\n",
              "         'AZN': 2,\n",
              "         'cable.': 52,\n",
              "         'sounded': 283,\n",
              "         'film,': 6485,\n",
              "         '\"Green': 11,\n",
              "         'Card\".': 1,\n",
              "         \"can't\": 5337,\n",
              "         'say': 6965,\n",
              "         \"I've\": 4766,\n",
              "         'disliked': 132,\n",
              "         'Asian': 314,\n",
              "         'quite': 5581,\n",
              "         'contrary.': 10,\n",
              "         'Some': 1632,\n",
              "         'incredible': 602,\n",
              "         'horror': 4352,\n",
              "         'are': 45121,\n",
              "         'Korean,': 9,\n",
              "         'am': 4294,\n",
              "         'HUGE': 78,\n",
              "         'John': 2794,\n",
              "         \"Woo's\": 13,\n",
              "         'Hong': 242,\n",
              "         'Kong': 229,\n",
              "         'films.': 1196,\n",
              "         'adverse': 16,\n",
              "         'light': 1007,\n",
              "         'hearted': 87,\n",
              "         'films,': 1433,\n",
              "         'Tampopo': 1,\n",
              "         'Chung': 5,\n",
              "         'King': 691,\n",
              "         'Express': 35,\n",
              "         '(two': 27,\n",
              "         'favourites),': 2,\n",
              "         'thought': 4942,\n",
              "         'this.': 1784,\n",
              "         'Well,': 1305,\n",
              "         'rather': 3913,\n",
              "         'slit': 26,\n",
              "         'wrists': 15,\n",
              "         'drink': 192,\n",
              "         'blood': 943,\n",
              "         'watch': 8523,\n",
              "         'laborious,': 2,\n",
              "         'badly': 814,\n",
              "         'acted': 638,\n",
              "         'again.<br': 223,\n",
              "         '/>I': 5928,\n",
              "         'director': 4257,\n",
              "         'Steven': 317,\n",
              "         'Okazaki': 1,\n",
              "         'must': 4576,\n",
              "         'spiked': 8,\n",
              "         'water': 523,\n",
              "         'Quaalude,': 1,\n",
              "         'personality.': 73,\n",
              "         'characters': 8383,\n",
              "         'DID': 86,\n",
              "         'act,': 141,\n",
              "         'opposed': 205,\n",
              "         'mumbling': 29,\n",
              "         'two,': 165,\n",
              "         'their': 17447,\n",
              "         'performance': 3252,\n",
              "         'came': 2513,\n",
              "         'across': 1455,\n",
              "         'forced': 936,\n",
              "         'incredibly': 944,\n",
              "         'fake.': 62,\n",
              "         'honestly': 459,\n",
              "         'anyone': 3318,\n",
              "         'before...the': 2,\n",
              "         'ONLY': 117,\n",
              "         'person': 1921,\n",
              "         'genuine': 365,\n",
              "         'Brenda': 81,\n",
              "         'Aoki..': 1,\n",
              "         'amazing': 1372,\n",
              "         'promoted': 76,\n",
              "         'comedy,': 707,\n",
              "         \"didn't\": 6650,\n",
              "         'once.': 184,\n",
              "         'MORE': 43,\n",
              "         'surprising': 376,\n",
              "         'CBS': 71,\n",
              "         'morning': 261,\n",
              "         'news': 376,\n",
              "         'called': 1913,\n",
              "         '\"a': 145,\n",
              "         'refreshing': 242,\n",
              "         'breath': 193,\n",
              "         'comedy\".': 5,\n",
              "         'neither': 597,\n",
              "         'refreshing,': 25,\n",
              "         'nor': 894,\n",
              "         'comedy.': 574,\n",
              "         'ending': 2517,\n",
              "         'predictable,': 257,\n",
              "         'previous': 977,\n",
              "         'reviewer': 299,\n",
              "         'idiot': 189,\n",
              "         'such': 7277,\n",
              "         'things.<br': 61,\n",
              "         '/>AVOID': 7,\n",
              "         'unless': 749,\n",
              "         'want': 5523,\n",
              "         'predictable': 782,\n",
              "         'plot': 7457,\n",
              "         'wooden': 367,\n",
              "         'acting.': 649,\n",
              "         'actually': 6156,\n",
              "         '\"Spike': 1,\n",
              "         'Bensonhurst\"': 1,\n",
              "         'this...and': 1,\n",
              "         'walked': 343,\n",
              "         'half': 2393,\n",
              "         'way': 8907,\n",
              "         'film!': 252,\n",
              "         '1987': 49,\n",
              "         \"Autumn's\": 1,\n",
              "         'Tale': 66,\n",
              "         'eleven': 59,\n",
              "         'years,': 599,\n",
              "         'Mabel': 40,\n",
              "         'Cheung': 33,\n",
              "         'claimed.': 8,\n",
              "         'employs': 47,\n",
              "         'rock': 570,\n",
              "         'medium': 124,\n",
              "         'express': 206,\n",
              "         'her': 23871,\n",
              "         'personal': 951,\n",
              "         'attitude': 280,\n",
              "         'life,': 1119,\n",
              "         'which': 16590,\n",
              "         'love,': 520,\n",
              "         'desire': 324,\n",
              "         'consequential': 6,\n",
              "         'frustration': 96,\n",
              "         'play': 2832,\n",
              "         'significantly': 49,\n",
              "         'crucial': 150,\n",
              "         'roles.': 334,\n",
              "         'Rock': 335,\n",
              "         'best': 7914,\n",
              "         'vehicle': 267,\n",
              "         'convey': 219,\n",
              "         'profound': 173,\n",
              "         'sentiment,': 6,\n",
              "         'yet': 3068,\n",
              "         'inappropriate': 123,\n",
              "         'utilize': 25,\n",
              "         'life': 5803,\n",
              "         'underground': 200,\n",
              "         'musicians': 90,\n",
              "         'intense': 421,\n",
              "         'ordinary': 332,\n",
              "         'focuses': 292,\n",
              "         'depiction': 286,\n",
              "         'subtle': 542,\n",
              "         'affection': 98,\n",
              "         'ultimate': 357,\n",
              "         'vanity': 45,\n",
              "         'mere': 246,\n",
              "         'music.': 384,\n",
              "         'love': 8143,\n",
              "         'father': 1740,\n",
              "         'son,': 270,\n",
              "         'lovers,': 55,\n",
              "         'friends': 1957,\n",
              "         'delicately': 17,\n",
              "         'touchingly': 7,\n",
              "         'delivered': 313,\n",
              "         'performance.': 513,\n",
              "         'attempt': 1568,\n",
              "         'beautify': 3,\n",
              "         'artists': 162,\n",
              "         'instead,': 152,\n",
              "         'tries': 1887,\n",
              "         'reproduce': 14,\n",
              "         'true': 2691,\n",
              "         'screen,': 383,\n",
              "         'making': 3645,\n",
              "         'efforts': 288,\n",
              "         \"years'\": 8,\n",
              "         'working': 1098,\n",
              "         'project': 417,\n",
              "         'gathering': 66,\n",
              "         'information': 442,\n",
              "         'Beijing': 9,\n",
              "         'pubs.<br': 3,\n",
              "         '/>Daniel': 13,\n",
              "         'given': 2565,\n",
              "         'probably': 4132,\n",
              "         'movies': 8101,\n",
              "         'far.': 138,\n",
              "         'His': 2046,\n",
              "         'innate': 31,\n",
              "         'dispiritedness': 1,\n",
              "         'reticence': 2,\n",
              "         'fit': 738,\n",
              "         'blue': 305,\n",
              "         'mood': 523,\n",
              "         'perfectly.': 128,\n",
              "         'My': 2373,\n",
              "         'Super': 116,\n",
              "         'Ex': 14,\n",
              "         'Girlfriend': 5,\n",
              "         'turned': 1400,\n",
              "         'pleasant': 295,\n",
              "         'surprise': 701,\n",
              "         'expecting': 862,\n",
              "         'horrible': 1303,\n",
              "         'stupid': 1825,\n",
              "         'what?': 191,\n",
              "         'was!': 49,\n",
              "         'many': 9669,\n",
              "         'wonderful': 1958,\n",
              "         'laughs': 594,\n",
              "         'fun': 2916,\n",
              "         'kick': 346,\n",
              "         'of.': 316,\n",
              "         'cheesy': 797,\n",
              "         'Uma': 54,\n",
              "         'Anna': 223,\n",
              "         'cool': 1023,\n",
              "         'Steve': 535,\n",
              "         'addition': 382,\n",
              "         'along': 2323,\n",
              "         'looked': 1620,\n",
              "         'much': 13462,\n",
              "         \"that's\": 3880,\n",
              "         'work.<br': 157,\n",
              "         '/>Jenny': 3,\n",
              "         'Johnson(scary,': 1,\n",
              "         \"friend's\": 102,\n",
              "         'name)': 54,\n",
              "         'typical': 1125,\n",
              "         'average': 853,\n",
              "         'librarian': 22,\n",
              "         'looking': 3381,\n",
              "         'woman,': 410,\n",
              "         'Matt,': 13,\n",
              "         'male,': 36,\n",
              "         'asks': 423,\n",
              "         'out,': 984,\n",
              "         \"he's\": 3584,\n",
              "         'expected,': 107,\n",
              "         'asked': 453,\n",
              "         'G-Girl': 7,\n",
              "         'date,': 85,\n",
              "         'super': 364,\n",
              "         'hero': 917,\n",
              "         'world!': 23,\n",
              "         'finds': 1395,\n",
              "         'jealous': 156,\n",
              "         'crazy': 620,\n",
              "         'girl': 2887,\n",
              "         'decides': 820,\n",
              "         'idea': 2646,\n",
              "         'spend': 740,\n",
              "         'apart,': 59,\n",
              "         'Jenny': 87,\n",
              "         \"won't\": 1871,\n",
              "         'since': 3795,\n",
              "         'fallen': 214,\n",
              "         'another': 5166,\n",
              "         'girl,': 393,\n",
              "         'Hannah,': 13,\n",
              "         'living': 1278,\n",
              "         'hell,': 105,\n",
              "         'mean,': 587,\n",
              "         \"let's\": 485,\n",
              "         'face': 1738,\n",
              "         'it,': 4866,\n",
              "         \"couldn't\": 2314,\n",
              "         'chosen': 291,\n",
              "         'break': 683,\n",
              "         'with.<br': 106,\n",
              "         'effect': 684,\n",
              "         'corny,': 66,\n",
              "         'seriously': 724,\n",
              "         'quickly,': 71,\n",
              "         'step': 410,\n",
              "         'Prime.': 3,\n",
              "         \"shouldn't\": 490,\n",
              "         'take': 5029,\n",
              "         'seriously,': 196,\n",
              "         'cute': 566,\n",
              "         'romantic': 1099,\n",
              "         'could.<br': 15,\n",
              "         '/>7/10': 78,\n",
              "         'believe': 3573,\n",
              "         'This': 19533,\n",
              "         'Laural': 1,\n",
              "         'Hardy.': 17,\n",
              "         'Lighten': 4,\n",
              "         'already.': 91,\n",
              "         'These': 991,\n",
              "         'two': 9174,\n",
              "         'riot.': 21,\n",
              "         'Their': 478,\n",
              "         'comic': 1131,\n",
              "         'genius': 408,\n",
              "         'today': 590,\n",
              "         '70': 104,\n",
              "         'ago.': 356,\n",
              "         'filthy': 70,\n",
              "         'word': 1032,\n",
              "         'either': 1716,\n",
              "         'mouth': 292,\n",
              "         'able': 2031,\n",
              "         'keep': 2448,\n",
              "         'audiences': 496,\n",
              "         'stitches.': 17,\n",
              "         \"wasn't\": 3392,\n",
              "         'sophisticated': 178,\n",
              "         'stretch.': 12,\n",
              "         'whoopee': 5,\n",
              "         'cushion': 8,\n",
              "         'grin,': 9,\n",
              "         \"there's\": 2951,\n",
              "         'reason': 2757,\n",
              "         'stuff': 1220,\n",
              "         'these': 7293,\n",
              "         'guys': 1590,\n",
              "         'did.': 549,\n",
              "         'simpler': 41,\n",
              "         'laughed': 520,\n",
              "         'without': 4648,\n",
              "         'plot.': 744,\n",
              "         'guess': 1731,\n",
              "         'takes': 3282,\n",
              "         'simple': 1205,\n",
              "         'mind': 1868,\n",
              "         'stuff,': 189,\n",
              "         'qualify.': 6,\n",
              "         'man': 5332,\n",
              "         'teams': 85,\n",
              "         'compute,': 1,\n",
              "         \"We're\": 141,\n",
              "         'sophisticated...': 1,\n",
              "         \"Aren't\": 15,\n",
              "         'fortunate?': 1,\n",
              "         'gong': 7,\n",
              "         'TV': 3293,\n",
              "         'knowing': 568,\n",
              "         'makes': 6536,\n",
              "         '10': 2129,\n",
              "         'things': 4732,\n",
              "         ...})"
            ]
          },
          "metadata": {},
          "execution_count": 8
        }
      ]
    },
    {
      "cell_type": "code",
      "source": [
        "len(vocab)"
      ],
      "metadata": {
        "colab": {
          "base_uri": "https://localhost:8080/"
        },
        "id": "9Tug-Mohrqi1",
        "outputId": "e5473739-a758-40b9-d2b2-b4d4e179037c"
      },
      "execution_count": null,
      "outputs": [
        {
          "output_type": "execute_result",
          "data": {
            "text/plain": [
              "382421"
            ]
          },
          "metadata": {},
          "execution_count": 9
        }
      ]
    },
    {
      "cell_type": "code",
      "source": [
        "def test_clean(function, sample):\n",
        "  print(sample, function(sample), sep='\\n')"
      ],
      "metadata": {
        "id": "Dctu0AM0IZE0"
      },
      "execution_count": null,
      "outputs": []
    },
    {
      "cell_type": "code",
      "source": [
        "list_of_english_constraion = {\n",
        "    \"ain't\": \"is not\",\n",
        "    \"amn't\": \"am not\",\n",
        "    \"aren't\": \"are not\",\n",
        "    \"can't\": \"cannot\",\n",
        "    \"'cause\": \"because\",\n",
        "    \"could've\": \"could have\",\n",
        "    \"couldn't\": \"could not\",\n",
        "    \"couldn't've\": \"could not have\",\n",
        "    \"daren't\": \"dare not\",\n",
        "    \"daresn't\": \"dare not\",\n",
        "    \"dasn't\": \"dare not\",\n",
        "    \"didn't\": \"did not\",\n",
        "    \"doesn't\": \"does not\",\n",
        "    \"don't\": \"do not\",\n",
        "    \"d'ye\": \"do you\",\n",
        "    \"e'er\": \"ever\",\n",
        "    \"everybody's\": \"everybody is\",\n",
        "    \"everyone's\": \"everyone is\",\n",
        "    \"finna\": \"going to\",\n",
        "    \"g'day\": \"good day\",\n",
        "    \"gimme\": \"give me\",\n",
        "    \"giv'n\": \"given\",\n",
        "    \"gonna\": \"going to\",\n",
        "    \"gon't\": \"go not\",\n",
        "    \"gotta\": \"got to\",\n",
        "    \"hadn't\": \"had not\",\n",
        "    \"hasn't\": \"has not\",\n",
        "    \"haven't\": \"have not\",\n",
        "    \"he'd\": \"he would\",\n",
        "    \"he'll\": \"he will\",\n",
        "    \"he's\": \"he is\",\n",
        "    \"he've\": \"he have\",\n",
        "    \"how'd\": \"how would\",\n",
        "    \"howdy\": \"how do you do\",\n",
        "    \"how'll\": \"how will\",\n",
        "    \"how're\": \"how are\",\n",
        "    \"how's\": \"how is\",\n",
        "    \"I'd\": \"I would\",\n",
        "    \"I'd've\": \"I would have\",\n",
        "    \"I'll\": \"I will\",\n",
        "    \"I'm\": \"I am\",\n",
        "    \"I'm'a\": \"I am about to\",\n",
        "    \"I'm'o\": \"I am going to\",\n",
        "    \"innit\": \"is it not\",\n",
        "    \"I've\": \"I have\",\n",
        "    \"isn't\": \"is not\",\n",
        "    \"it'd\": \"it would\",\n",
        "    \"it'll\": \"it will\",\n",
        "    \"it's\": \"it is\",\n",
        "    \"let's\": \"let us\",\n",
        "    \"ma'am\": \"madam\",\n",
        "    \"mayn't\": \"may not\",\n",
        "    \"may've\": \"may have\",\n",
        "    \"methinks\": \"me thinks\",\n",
        "    \"mightn't\": \"might not\",\n",
        "    \"might've\": \"might have\",\n",
        "    \"mustn't\": \"must not\",\n",
        "    \"mustn't've\": \"must not have\",\n",
        "    \"must've\": \"must have\",\n",
        "    \"needn't\": \"need not\",\n",
        "    \"ne'er\": \"never\",\n",
        "    \"o'clock\": \"of the clock\",\n",
        "    \"o'er\": \"over\",\n",
        "    \"ol'\": \"old\",\n",
        "    \"oughtn't\": \"ought not\",\n",
        "    \"'s\": \"is\",\n",
        "    \"shalln't\": \"shall not\",\n",
        "    \"shan't\": \"shall not\",\n",
        "    \"she'd\": \"she would\",\n",
        "    \"she'll\": \"she will\",\n",
        "    \"she's\": \"she is\",\n",
        "    \"should've\": \"should have\",\n",
        "    \"shouldn't\": \"should not\",\n",
        "    \"shouldn't've\": \"should not have\",\n",
        "    \"somebody's\": \"somebody is\",\n",
        "    \"someone's\": \"someone is\",\n",
        "    \"something's\": \"something is\",\n",
        "    \"so're\": \"so are\",\n",
        "    \"that'll\": \"that will\",\n",
        "    \"that're\": \"that are\",\n",
        "    \"that's\": \"that is\",\n",
        "    \"that'd\": \"that would\",\n",
        "    \"there'd\": \"there would\",\n",
        "    \"there'll\": \"there will\",\n",
        "    \"there're\": \"there are\",\n",
        "    \"there's\": \"there is\",\n",
        "    \"these're\": \"these are\",\n",
        "    \"they'd\": \"they would\",\n",
        "    \"they'll\": \"they will\",\n",
        "    \"they're\": \"they are\",\n",
        "    \"they've\": \"they have\",\n",
        "    \"this's\": \"this has\",\n",
        "    \"those're\": \"those are\",\n",
        "    \"'tis\": \"it is\",\n",
        "    \"to've\": \"to have\",\n",
        "    \"'twas\": \"it was\",\n",
        "    \"wanna\": \"want to\",\n",
        "    \"wasn't\": \"was not\",\n",
        "    \"we'd\": \"we would\",\n",
        "    \"we'd've\": \"we would have\",\n",
        "    \"we'll\": \"we will\",\n",
        "    \"we're\": \"we are\",\n",
        "    \"we've\": \"we have\",\n",
        "    \"weren't\": \"were not\",\n",
        "    \"what'd\": \"what did\",\n",
        "    \"what'll\": \"what will\",\n",
        "    \"what're\": \"what are\",\n",
        "    \"what's\": \"what is\",\n",
        "    \"what've\": \"what have\",\n",
        "    \"when's\": \"when is\",\n",
        "    \"where'd\": \"where did\",\n",
        "    \"where're\": \"where are\",\n",
        "    \"where's\": \"where is\",\n",
        "    \"where've\": \"where have\",\n",
        "    \"which'll\": \"which will\",\n",
        "    \"which's\": \"which is\",\n",
        "    \"whilst\": \"while still\",\n",
        "    \"who'd\": \"who would\",\n",
        "    \"who'd've\": \"who would have\",\n",
        "    \"who'll\": \"who will\",\n",
        "    \"who're\": \"who are\",\n",
        "    \"who's\": \"who is\",\n",
        "    \"who've\": \"who have\",\n",
        "    \"why'd\": \"why did\",\n",
        "    \"why're\": \"why are\",\n",
        "    \"why's\": \"why is\",\n",
        "    \"won't\": \"will not\",\n",
        "    \"would've\": \"would have\",\n",
        "    \"wouldn't\": \"would not\",\n",
        "    \"y'all\": \"you all\",\n",
        "    \"y'all'd've\": \"you all would have\",\n",
        "    \"y'all're\": \"you all are\",\n",
        "    \"you'd\": \"you would\",\n",
        "    \"you'll\": \"you will\",\n",
        "    \"you're\": \"you are\",\n",
        "    \"you've\": \"you have\",\n",
        "    \"noun's\": \"noun is\",\n",
        "    \"noun're\": \"noun are\"\n",
        "  }"
      ],
      "metadata": {
        "id": "rzt2fhkrXzC9"
      },
      "execution_count": null,
      "outputs": []
    },
    {
      "cell_type": "code",
      "source": [
        "def constractions(text):\n",
        "  for word in text.split():\n",
        "      if word.lower() in list_of_english_constraion:\n",
        "          text = text.replace(word, list_of_english_constraion[word.lower()])\n",
        "  return text"
      ],
      "metadata": {
        "id": "_w5vgXpgbRD6"
      },
      "execution_count": null,
      "outputs": []
    },
    {
      "cell_type": "code",
      "source": [
        "text=\"It's a nice day outside. What's the best way to ensure this? You're not supposed to be here.\"\n",
        "\n",
        "test_clean(constractions, text)"
      ],
      "metadata": {
        "colab": {
          "base_uri": "https://localhost:8080/"
        },
        "id": "HRnxU_LDeTlm",
        "outputId": "bc86a798-5e50-43af-855c-c717bbc5fd5a"
      },
      "execution_count": null,
      "outputs": [
        {
          "output_type": "stream",
          "name": "stdout",
          "text": [
            "It's a nice day outside. What's the best way to ensure this? You're not supposed to be here.\n",
            "it is a nice day outside. what is the best way to ensure this? you are not supposed to be here.\n"
          ]
        }
      ]
    },
    {
      "cell_type": "code",
      "source": [
        "train_data['text'] = train_data['text'].apply(constractions)"
      ],
      "metadata": {
        "id": "0wXtTvJoiBY9"
      },
      "execution_count": null,
      "outputs": []
    },
    {
      "cell_type": "code",
      "source": [
        "train_data"
      ],
      "metadata": {
        "colab": {
          "base_uri": "https://localhost:8080/",
          "height": 424
        },
        "id": "hAXByIy0JrZv",
        "outputId": "4b33a9e2-552c-4423-a9c4-4a262b12d061"
      },
      "execution_count": null,
      "outputs": [
        {
          "output_type": "execute_result",
          "data": {
            "text/plain": [
              "                                                    text  label\n",
              "0      I grew up (b. 1965) watching and loving the Th...      0\n",
              "1      When I put this movie in my DVD player, and sa...      0\n",
              "2      Why do people who do not know what a particula...      0\n",
              "3      Even though I have great interest in Biblical ...      0\n",
              "4      Im a die hard Dads Army fan and nothing will e...      1\n",
              "...                                                  ...    ...\n",
              "39995  \"Western Union\" is something of a forgotten cl...      1\n",
              "39996  This movie is an incredible piece of work. It ...      1\n",
              "39997  My wife and I watched this movie because we pl...      0\n",
              "39998  When I first watched Flatliners, I was amazed....      1\n",
              "39999  Why would this film be so good, but only gross...      1\n",
              "\n",
              "[40000 rows x 2 columns]"
            ],
            "text/html": [
              "\n",
              "  <div id=\"df-b72bcf87-ffca-4709-8bc3-30de78b96dd2\">\n",
              "    <div class=\"colab-df-container\">\n",
              "      <div>\n",
              "<style scoped>\n",
              "    .dataframe tbody tr th:only-of-type {\n",
              "        vertical-align: middle;\n",
              "    }\n",
              "\n",
              "    .dataframe tbody tr th {\n",
              "        vertical-align: top;\n",
              "    }\n",
              "\n",
              "    .dataframe thead th {\n",
              "        text-align: right;\n",
              "    }\n",
              "</style>\n",
              "<table border=\"1\" class=\"dataframe\">\n",
              "  <thead>\n",
              "    <tr style=\"text-align: right;\">\n",
              "      <th></th>\n",
              "      <th>text</th>\n",
              "      <th>label</th>\n",
              "    </tr>\n",
              "  </thead>\n",
              "  <tbody>\n",
              "    <tr>\n",
              "      <th>0</th>\n",
              "      <td>I grew up (b. 1965) watching and loving the Th...</td>\n",
              "      <td>0</td>\n",
              "    </tr>\n",
              "    <tr>\n",
              "      <th>1</th>\n",
              "      <td>When I put this movie in my DVD player, and sa...</td>\n",
              "      <td>0</td>\n",
              "    </tr>\n",
              "    <tr>\n",
              "      <th>2</th>\n",
              "      <td>Why do people who do not know what a particula...</td>\n",
              "      <td>0</td>\n",
              "    </tr>\n",
              "    <tr>\n",
              "      <th>3</th>\n",
              "      <td>Even though I have great interest in Biblical ...</td>\n",
              "      <td>0</td>\n",
              "    </tr>\n",
              "    <tr>\n",
              "      <th>4</th>\n",
              "      <td>Im a die hard Dads Army fan and nothing will e...</td>\n",
              "      <td>1</td>\n",
              "    </tr>\n",
              "    <tr>\n",
              "      <th>...</th>\n",
              "      <td>...</td>\n",
              "      <td>...</td>\n",
              "    </tr>\n",
              "    <tr>\n",
              "      <th>39995</th>\n",
              "      <td>\"Western Union\" is something of a forgotten cl...</td>\n",
              "      <td>1</td>\n",
              "    </tr>\n",
              "    <tr>\n",
              "      <th>39996</th>\n",
              "      <td>This movie is an incredible piece of work. It ...</td>\n",
              "      <td>1</td>\n",
              "    </tr>\n",
              "    <tr>\n",
              "      <th>39997</th>\n",
              "      <td>My wife and I watched this movie because we pl...</td>\n",
              "      <td>0</td>\n",
              "    </tr>\n",
              "    <tr>\n",
              "      <th>39998</th>\n",
              "      <td>When I first watched Flatliners, I was amazed....</td>\n",
              "      <td>1</td>\n",
              "    </tr>\n",
              "    <tr>\n",
              "      <th>39999</th>\n",
              "      <td>Why would this film be so good, but only gross...</td>\n",
              "      <td>1</td>\n",
              "    </tr>\n",
              "  </tbody>\n",
              "</table>\n",
              "<p>40000 rows × 2 columns</p>\n",
              "</div>\n",
              "      <button class=\"colab-df-convert\" onclick=\"convertToInteractive('df-b72bcf87-ffca-4709-8bc3-30de78b96dd2')\"\n",
              "              title=\"Convert this dataframe to an interactive table.\"\n",
              "              style=\"display:none;\">\n",
              "        \n",
              "  <svg xmlns=\"http://www.w3.org/2000/svg\" height=\"24px\"viewBox=\"0 0 24 24\"\n",
              "       width=\"24px\">\n",
              "    <path d=\"M0 0h24v24H0V0z\" fill=\"none\"/>\n",
              "    <path d=\"M18.56 5.44l.94 2.06.94-2.06 2.06-.94-2.06-.94-.94-2.06-.94 2.06-2.06.94zm-11 1L8.5 8.5l.94-2.06 2.06-.94-2.06-.94L8.5 2.5l-.94 2.06-2.06.94zm10 10l.94 2.06.94-2.06 2.06-.94-2.06-.94-.94-2.06-.94 2.06-2.06.94z\"/><path d=\"M17.41 7.96l-1.37-1.37c-.4-.4-.92-.59-1.43-.59-.52 0-1.04.2-1.43.59L10.3 9.45l-7.72 7.72c-.78.78-.78 2.05 0 2.83L4 21.41c.39.39.9.59 1.41.59.51 0 1.02-.2 1.41-.59l7.78-7.78 2.81-2.81c.8-.78.8-2.07 0-2.86zM5.41 20L4 18.59l7.72-7.72 1.47 1.35L5.41 20z\"/>\n",
              "  </svg>\n",
              "      </button>\n",
              "      \n",
              "  <style>\n",
              "    .colab-df-container {\n",
              "      display:flex;\n",
              "      flex-wrap:wrap;\n",
              "      gap: 12px;\n",
              "    }\n",
              "\n",
              "    .colab-df-convert {\n",
              "      background-color: #E8F0FE;\n",
              "      border: none;\n",
              "      border-radius: 50%;\n",
              "      cursor: pointer;\n",
              "      display: none;\n",
              "      fill: #1967D2;\n",
              "      height: 32px;\n",
              "      padding: 0 0 0 0;\n",
              "      width: 32px;\n",
              "    }\n",
              "\n",
              "    .colab-df-convert:hover {\n",
              "      background-color: #E2EBFA;\n",
              "      box-shadow: 0px 1px 2px rgba(60, 64, 67, 0.3), 0px 1px 3px 1px rgba(60, 64, 67, 0.15);\n",
              "      fill: #174EA6;\n",
              "    }\n",
              "\n",
              "    [theme=dark] .colab-df-convert {\n",
              "      background-color: #3B4455;\n",
              "      fill: #D2E3FC;\n",
              "    }\n",
              "\n",
              "    [theme=dark] .colab-df-convert:hover {\n",
              "      background-color: #434B5C;\n",
              "      box-shadow: 0px 1px 3px 1px rgba(0, 0, 0, 0.15);\n",
              "      filter: drop-shadow(0px 1px 2px rgba(0, 0, 0, 0.3));\n",
              "      fill: #FFFFFF;\n",
              "    }\n",
              "  </style>\n",
              "\n",
              "      <script>\n",
              "        const buttonEl =\n",
              "          document.querySelector('#df-b72bcf87-ffca-4709-8bc3-30de78b96dd2 button.colab-df-convert');\n",
              "        buttonEl.style.display =\n",
              "          google.colab.kernel.accessAllowed ? 'block' : 'none';\n",
              "\n",
              "        async function convertToInteractive(key) {\n",
              "          const element = document.querySelector('#df-b72bcf87-ffca-4709-8bc3-30de78b96dd2');\n",
              "          const dataTable =\n",
              "            await google.colab.kernel.invokeFunction('convertToInteractive',\n",
              "                                                     [key], {});\n",
              "          if (!dataTable) return;\n",
              "\n",
              "          const docLinkHtml = 'Like what you see? Visit the ' +\n",
              "            '<a target=\"_blank\" href=https://colab.research.google.com/notebooks/data_table.ipynb>data table notebook</a>'\n",
              "            + ' to learn more about interactive tables.';\n",
              "          element.innerHTML = '';\n",
              "          dataTable['output_type'] = 'display_data';\n",
              "          await google.colab.output.renderOutput(dataTable, element);\n",
              "          const docLink = document.createElement('div');\n",
              "          docLink.innerHTML = docLinkHtml;\n",
              "          element.appendChild(docLink);\n",
              "        }\n",
              "      </script>\n",
              "    </div>\n",
              "  </div>\n",
              "  "
            ]
          },
          "metadata": {},
          "execution_count": 16
        }
      ]
    },
    {
      "cell_type": "markdown",
      "source": [
        "###what are the common words?\n"
      ],
      "metadata": {
        "id": "294_Rv--Igta"
      }
    },
    {
      "cell_type": "code",
      "source": [
        "print(\"Least Common\")\n",
        "vocab.most_common()[-10:]"
      ],
      "metadata": {
        "colab": {
          "base_uri": "https://localhost:8080/"
        },
        "id": "vx7zEtqfIZKQ",
        "outputId": "218d669d-8a39-47f6-e7d5-050089831c25"
      },
      "execution_count": null,
      "outputs": [
        {
          "output_type": "stream",
          "name": "stdout",
          "text": [
            "Least Common\n"
          ]
        },
        {
          "output_type": "execute_result",
          "data": {
            "text/plain": [
              "[('authenticity:', 1),\n",
              " ('nets,', 1),\n",
              " ('oars,', 1),\n",
              " ('fishermen.<br', 1),\n",
              " (\"casts').\", 1),\n",
              " ('Keifer,', 1),\n",
              " ('refreshing--', 1),\n",
              " ('nominations?', 1),\n",
              " ('Bend\",', 1),\n",
              " ('\"Chains', 1)]"
            ]
          },
          "metadata": {},
          "execution_count": 17
        }
      ]
    },
    {
      "cell_type": "code",
      "source": [
        "print(\"Most Common\")\n",
        "vocab.most_common(n=10)"
      ],
      "metadata": {
        "colab": {
          "base_uri": "https://localhost:8080/"
        },
        "id": "HzJNFnQKIZHn",
        "outputId": "56216c37-c8f3-4ad1-b2e0-4c488c78e1a3"
      },
      "execution_count": null,
      "outputs": [
        {
          "output_type": "stream",
          "name": "stdout",
          "text": [
            "Most Common\n"
          ]
        },
        {
          "output_type": "execute_result",
          "data": {
            "text/plain": [
              "[('the', 454993),\n",
              " ('a', 246017),\n",
              " ('and', 242020),\n",
              " ('of', 226960),\n",
              " ('to', 209658),\n",
              " ('is', 162520),\n",
              " ('in', 135736),\n",
              " ('I', 106137),\n",
              " ('that', 101520),\n",
              " ('this', 91009)]"
            ]
          },
          "metadata": {},
          "execution_count": 18
        }
      ]
    },
    {
      "cell_type": "markdown",
      "source": [
        "##Text cleaning"
      ],
      "metadata": {
        "id": "cgHBsB2II68c"
      }
    },
    {
      "cell_type": "markdown",
      "source": [
        "###**remove stop words**"
      ],
      "metadata": {
        "id": "3xIbCm_DK78w"
      }
    },
    {
      "cell_type": "code",
      "source": [
        "stop_words = stopwords.words(\"english\")\n",
        "\n",
        "def remove_stop_words(text):\n",
        "  return \" \".join([word for word in text.split(\" \") if word not in stop_words])\n",
        "\n",
        "test_clean(remove_stop_words, train_data['text'][0])"
      ],
      "metadata": {
        "colab": {
          "base_uri": "https://localhost:8080/"
        },
        "id": "y3ZQAQI8TTL5",
        "outputId": "fc694a57-3052-486d-9c65-39403fda4217"
      },
      "execution_count": null,
      "outputs": [
        {
          "output_type": "stream",
          "name": "stdout",
          "text": [
            "I grew up (b. 1965) watching and loving the Thunderbirds. All my mates at school watched. We played \"Thunderbirds\" before school, during lunch and after school. We all wanted to be Virgil or Scott. No one wanted to be Alan. Counting down from 5 became an art form. I took my children to see the movie hoping they would get a glimpse of what I loved as a child. How bitterly disappointing. The only high point was the snappy theme tune. Not that it could compare with the original score of the Thunderbirds. Thankfully early Saturday mornings one television channel still plays reruns of the series Gerry Anderson and his wife created. Jonatha Frakes should hand in his directors chair, his version was completely hopeless. A waste of film. Utter rubbish. A CGI remake may be acceptable but replacing marionettes with Homo sapiens subsp. sapiens was a huge error of judgment.\n",
            "I grew (b. 1965) watching loving Thunderbirds. All mates school watched. We played \"Thunderbirds\" school, lunch school. We wanted Virgil Scott. No one wanted Alan. Counting 5 became art form. I took children see movie hoping would get glimpse I loved child. How bitterly disappointing. The high point snappy theme tune. Not could compare original score Thunderbirds. Thankfully early Saturday mornings one television channel still plays reruns series Gerry Anderson wife created. Jonatha Frakes hand directors chair, version completely hopeless. A waste film. Utter rubbish. A CGI remake may acceptable replacing marionettes Homo sapiens subsp. sapiens huge error judgment.\n"
          ]
        }
      ]
    },
    {
      "cell_type": "markdown",
      "source": [
        "###**remove hashtages**"
      ],
      "metadata": {
        "id": "JIKW0IhQLC3C"
      }
    },
    {
      "cell_type": "code",
      "source": [
        "hashtage = re.compile(pattern='#[\\w\\d]+')\n",
        "\n",
        "def remove_hashtages(text: str) -> str:\n",
        "  return hashtage.sub(repl=\"\", string=text)\n",
        "\n",
        "test_clean(remove_hashtages, 'cil,laonxhbei #kl; kmdcp slkc #ldl')"
      ],
      "metadata": {
        "colab": {
          "base_uri": "https://localhost:8080/"
        },
        "id": "xkzK0TsGLKeI",
        "outputId": "62b22763-1fc9-43b7-bfee-db405df26eeb"
      },
      "execution_count": null,
      "outputs": [
        {
          "output_type": "stream",
          "name": "stdout",
          "text": [
            "cil,laonxhbei #kl; kmdcp slkc #ldl\n",
            "cil,laonxhbei ; kmdcp slkc \n"
          ]
        }
      ]
    },
    {
      "cell_type": "markdown",
      "source": [
        "###**remove mentions**"
      ],
      "metadata": {
        "id": "HSbwUcYtLVWe"
      }
    },
    {
      "cell_type": "code",
      "source": [
        "mension = re.compile('@\\w+')\n",
        "def remove_mension(text):\n",
        "  return mension.sub(repl=\"\", string=text)\n",
        "\n",
        "test_clean(remove_mension, 'ronajkmfc suam.dar@gmail.com')"
      ],
      "metadata": {
        "colab": {
          "base_uri": "https://localhost:8080/"
        },
        "id": "w4w0kKNJLKbO",
        "outputId": "3399674b-a456-4dbe-d95c-a68c6f003a56"
      },
      "execution_count": null,
      "outputs": [
        {
          "output_type": "stream",
          "name": "stdout",
          "text": [
            "ronajkmfc suam.dar@gmail.com\n",
            "ronajkmfc suam.dar.com\n"
          ]
        }
      ]
    },
    {
      "cell_type": "markdown",
      "source": [
        "###**remove punctuation marks**\n"
      ],
      "metadata": {
        "id": "JoYavOSkLmXj"
      }
    },
    {
      "cell_type": "code",
      "source": [
        "punch_marks = re.compile(r\"\"\"[!\"#$%&\\'()*+,-./:;<=>?@[\\\\\\]^_`{|}~،؟…«“\\\":\\\"…”]\"\"\")\n",
        "\n",
        "def remove_punch_marks(text):\n",
        "  return punch_marks.sub(repl=\"\", string=text)\n",
        "\n",
        "test_clean(remove_punch_marks, train_data.loc[4,\"text\"])"
      ],
      "metadata": {
        "colab": {
          "base_uri": "https://localhost:8080/"
        },
        "id": "mPFtd6zOLKYX",
        "outputId": "05b60846-6d31-4ecf-9f4a-4d72faae568c"
      },
      "execution_count": null,
      "outputs": [
        {
          "output_type": "stream",
          "name": "stdout",
          "text": [
            "Im a die hard Dads Army fan and nothing will ever change that. I got all the tapes, DVD's and audiobooks and every time i watch/listen to them its brand new. <br /><br />The film. The film is a re run of certain episodes, Man and the hour, Enemy within the gates, Battle School and numerous others with a different edge. Introduction of a new General instead of Captain Square was a brilliant move - especially when he would not cash the cheque (something that is rarely done now).<br /><br />It follows through the early years of getting equipment and uniforms, starting up and training. All in all, its a great film for a boring Sunday afternoon. <br /><br />Two draw backs. One is the Germans bogus dodgy accents (come one, Germans cant pronounced the letter \"W\" like us) and Two The casting of Liz Frazer instead of the familiar Janet Davis. I like Liz in other films like the carry ons but she does not carry it correctly in this and Janet Davis would have been the better choice.\n",
            "Im a die hard Dads Army fan and nothing will ever change that I got all the tapes DVDs and audiobooks and every time i watchlisten to them its brand new br br The film The film is a re run of certain episodes Man and the hour Enemy within the gates Battle School and numerous others with a different edge Introduction of a new General instead of Captain Square was a brilliant move  especially when he would not cash the cheque something that is rarely done nowbr br It follows through the early years of getting equipment and uniforms starting up and training All in all its a great film for a boring Sunday afternoon br br Two draw backs One is the Germans bogus dodgy accents come one Germans cant pronounced the letter W like us and Two The casting of Liz Frazer instead of the familiar Janet Davis I like Liz in other films like the carry ons but she does not carry it correctly in this and Janet Davis would have been the better choice\n"
          ]
        }
      ]
    },
    {
      "cell_type": "markdown",
      "source": [
        "###**remove HTTP URLs**"
      ],
      "metadata": {
        "id": "073JNYMCLxRN"
      }
    },
    {
      "cell_type": "code",
      "source": [
        "def remove_url(text):\n",
        "  return re.sub('((www\\.[^\\s]+)|(https?://[^\\s]+))',' ',text)\n",
        "\n",
        "test_clean(remove_url, 'djnwnwdnc www.comklsk25.com')"
      ],
      "metadata": {
        "colab": {
          "base_uri": "https://localhost:8080/"
        },
        "id": "D6w8bgJiLKVX",
        "outputId": "65d39dd9-41ee-49d2-a73b-d07e9e9748fd"
      },
      "execution_count": null,
      "outputs": [
        {
          "output_type": "stream",
          "name": "stdout",
          "text": [
            "djnwnwdnc www.comklsk25.com\n",
            "djnwnwdnc  \n"
          ]
        }
      ]
    },
    {
      "cell_type": "markdown",
      "source": [
        "###**remove numbers**"
      ],
      "metadata": {
        "id": "yXASL1D7L9wQ"
      }
    },
    {
      "cell_type": "code",
      "source": [
        "numbers = re.compile('\\d+')\n",
        "def remove_numbers(text):\n",
        "  return numbers.sub(repl=\"\", string=text)\n",
        "\n",
        "test_clean(remove_numbers, 'roanc dlokc 09n lc[256jc')"
      ],
      "metadata": {
        "colab": {
          "base_uri": "https://localhost:8080/"
        },
        "id": "Ftt7UpLpLKSt",
        "outputId": "e65ad128-2987-49c6-aeec-08133613abf7"
      },
      "execution_count": null,
      "outputs": [
        {
          "output_type": "stream",
          "name": "stdout",
          "text": [
            "roanc dlokc 09n lc[256jc\n",
            "roanc dlokc n lc[jc\n"
          ]
        }
      ]
    },
    {
      "cell_type": "markdown",
      "source": [
        "###**remove special char**\n",
        "\n"
      ],
      "metadata": {
        "id": "FjJErIMrdAyV"
      }
    },
    {
      "cell_type": "code",
      "source": [
        "special = re.compile('<br /><br />')\n",
        "def remove_special(text):\n",
        "  return special.sub(repl=\"\", string=text)\n",
        "\n",
        "test_clean(remove_special, train_data['text'][1])"
      ],
      "metadata": {
        "colab": {
          "base_uri": "https://localhost:8080/"
        },
        "id": "CKtKnTpBbGb7",
        "outputId": "2674fb3c-3eed-4edf-bc16-0dcab6553150"
      },
      "execution_count": null,
      "outputs": [
        {
          "output_type": "stream",
          "name": "stdout",
          "text": [
            "When I put this movie in my DVD player, and sat down with a coke and some chips, I had some expectations. I was hoping that this movie would contain some of the strong-points of the first movie: Awsome animation, good flowing story, excellent voice cast, funny comedy and a kick-ass soundtrack. But, to my disappointment, not any of this is to be found in Atlantis: Milo's Return. Had I read some reviews first, I might not have been so let down. The following paragraph will be directed to those who have seen the first movie, and who enjoyed it primarily for the points mentioned.<br /><br />When the first scene appears, your in for a shock if you just picked Atlantis: Milo's Return from the display-case at your local videoshop (or whatever), and had the expectations I had. The music feels as a bad imitation of the first movie, and the voice cast has been replaced by a not so fitting one. (With the exception of a few characters, like the voice of Sweet). The actual drawings isnt that bad, but the animation in particular is a sad sight. The storyline is also pretty weak, as its more like three episodes of Schooby-Doo than the single adventurous story we got the last time. But dont misunderstand, it is not very good Schooby-Doo episodes. I didnt laugh a single time, although I might have sniggered once or twice.<br /><br />To the audience who have not seen the first movie, or do not especially care for a similar sequel, here is a fast review of this movie as a stand-alone product: If you liked schooby-doo, you might like this movie. If you didn't, you could still enjoy this movie if you have nothing else to do. And I suspect it might be a good kids movie, but I would not know. It might have been better if Milo's Return had been a three-episode series on a cartoon channel, or on breakfast TV.\n",
            "When I put this movie in my DVD player, and sat down with a coke and some chips, I had some expectations. I was hoping that this movie would contain some of the strong-points of the first movie: Awsome animation, good flowing story, excellent voice cast, funny comedy and a kick-ass soundtrack. But, to my disappointment, not any of this is to be found in Atlantis: Milo's Return. Had I read some reviews first, I might not have been so let down. The following paragraph will be directed to those who have seen the first movie, and who enjoyed it primarily for the points mentioned.When the first scene appears, your in for a shock if you just picked Atlantis: Milo's Return from the display-case at your local videoshop (or whatever), and had the expectations I had. The music feels as a bad imitation of the first movie, and the voice cast has been replaced by a not so fitting one. (With the exception of a few characters, like the voice of Sweet). The actual drawings isnt that bad, but the animation in particular is a sad sight. The storyline is also pretty weak, as its more like three episodes of Schooby-Doo than the single adventurous story we got the last time. But dont misunderstand, it is not very good Schooby-Doo episodes. I didnt laugh a single time, although I might have sniggered once or twice.To the audience who have not seen the first movie, or do not especially care for a similar sequel, here is a fast review of this movie as a stand-alone product: If you liked schooby-doo, you might like this movie. If you didn't, you could still enjoy this movie if you have nothing else to do. And I suspect it might be a good kids movie, but I would not know. It might have been better if Milo's Return had been a three-episode series on a cartoon channel, or on breakfast TV.\n"
          ]
        }
      ]
    },
    {
      "cell_type": "markdown",
      "source": [
        "###**remove multiple white space**"
      ],
      "metadata": {
        "id": "ZQ7EkulyMFoE"
      }
    },
    {
      "cell_type": "code",
      "source": [
        "multiple_whitespace = re.compile('\\s{2,}')\n",
        "def remove_multiple_whitespace(text):\n",
        "  return multiple_whitespace.sub(repl=\" \", string=text)\n",
        "\n",
        "test_clean(remove_multiple_whitespace, 'cjhnc  dlcjn osaknc apldce  kcdmc;l')"
      ],
      "metadata": {
        "colab": {
          "base_uri": "https://localhost:8080/"
        },
        "id": "Gp3aSO_dLKHi",
        "outputId": "aecccc6a-3263-487d-8d91-06f72aaa2a47"
      },
      "execution_count": null,
      "outputs": [
        {
          "output_type": "stream",
          "name": "stdout",
          "text": [
            "cjhnc  dlcjn osaknc apldce  kcdmc;l\n",
            "cjhnc dlcjn osaknc apldce kcdmc;l\n"
          ]
        }
      ]
    },
    {
      "cell_type": "markdown",
      "source": [
        "###**lemmatization**"
      ],
      "metadata": {
        "id": "3LMrslRSwfSp"
      }
    },
    {
      "cell_type": "code",
      "source": [
        "from nltk.stem import WordNetLemmatizer\n",
        "def lemmatization(text):\n",
        "  lemmatizer = WordNetLemmatizer()\n",
        "  words_tokens = nltk.word_tokenize(text)\n",
        "  lemmatized_string = ' '.join([lemmatizer.lemmatize(words) for words in words_tokens])\n",
        "  return lemmatized_string\n",
        "\n",
        "test_clean(lemmatization,'cars fans')\n"
      ],
      "metadata": {
        "colab": {
          "base_uri": "https://localhost:8080/"
        },
        "id": "sby6OKR9wen8",
        "outputId": "583d9db5-9695-4922-86ab-7b16fd504386"
      },
      "execution_count": null,
      "outputs": [
        {
          "output_type": "stream",
          "name": "stdout",
          "text": [
            "cars fans\n",
            "car fan\n"
          ]
        }
      ]
    },
    {
      "cell_type": "markdown",
      "source": [
        "##**Clean All**"
      ],
      "metadata": {
        "id": "XERgsCPqeM1D"
      }
    },
    {
      "cell_type": "code",
      "source": [
        "# best result remove num, remove stopwords, lemmatization --> 89.5 score\n",
        "# remove num, remove stopwords, lemmatization, remove hashtags --> 89\n",
        "# all preprocessing --> 88.6"
      ],
      "metadata": {
        "id": "Wg0EdA_isj76"
      },
      "execution_count": null,
      "outputs": []
    },
    {
      "cell_type": "code",
      "source": [
        "def clean_all(text):\n",
        "  # text = remove_url(text)\n",
        "  # text = remove_hashtages(text)\n",
        "  # text = remove_mension(text)\n",
        "  # text = remove_punch_marks(text)\n",
        "  # text = remove_special(text)\n",
        "  text = remove_numbers(text)\n",
        "  text = remove_stop_words(text)\n",
        "  # text = remove_multiple_whitespace(text)\n",
        "  text = lemmatization(text)\n",
        "  # text = text.lower().strip()\n",
        "\n",
        "  return text"
      ],
      "metadata": {
        "id": "13rzAGT4LJBY"
      },
      "execution_count": null,
      "outputs": []
    },
    {
      "cell_type": "code",
      "source": [
        "clean_all('c@ ksadmds @had the prefict was needs for <br /><br /> it 53 #flkd cars ')"
      ],
      "metadata": {
        "colab": {
          "base_uri": "https://localhost:8080/",
          "height": 36
        },
        "id": "0jYuQ9G-fTVp",
        "outputId": "67afbbf5-900b-463f-fedf-9f414dea2d52"
      },
      "execution_count": null,
      "outputs": [
        {
          "output_type": "execute_result",
          "data": {
            "text/plain": [
              "'c @ ksadmds @ had prefict need < br / > < br / > # flkd car'"
            ],
            "application/vnd.google.colaboratory.intrinsic+json": {
              "type": "string"
            }
          },
          "metadata": {},
          "execution_count": 29
        }
      ]
    },
    {
      "cell_type": "markdown",
      "source": [
        "#Train dataset"
      ],
      "metadata": {
        "id": "Ui6uUgTay2jG"
      }
    },
    {
      "cell_type": "code",
      "source": [
        "train_data"
      ],
      "metadata": {
        "colab": {
          "base_uri": "https://localhost:8080/",
          "height": 424
        },
        "id": "SBGFiAlkytXn",
        "outputId": "c8f8ba1e-cc81-49bc-85a2-a2249c5a1f9e"
      },
      "execution_count": null,
      "outputs": [
        {
          "output_type": "execute_result",
          "data": {
            "text/plain": [
              "                                                    text  label\n",
              "0      I grew up (b. 1965) watching and loving the Th...      0\n",
              "1      When I put this movie in my DVD player, and sa...      0\n",
              "2      Why do people who do not know what a particula...      0\n",
              "3      Even though I have great interest in Biblical ...      0\n",
              "4      Im a die hard Dads Army fan and nothing will e...      1\n",
              "...                                                  ...    ...\n",
              "39995  \"Western Union\" is something of a forgotten cl...      1\n",
              "39996  This movie is an incredible piece of work. It ...      1\n",
              "39997  My wife and I watched this movie because we pl...      0\n",
              "39998  When I first watched Flatliners, I was amazed....      1\n",
              "39999  Why would this film be so good, but only gross...      1\n",
              "\n",
              "[40000 rows x 2 columns]"
            ],
            "text/html": [
              "\n",
              "  <div id=\"df-59e8b85a-8b95-4b14-95cf-c1aeb7ebee69\">\n",
              "    <div class=\"colab-df-container\">\n",
              "      <div>\n",
              "<style scoped>\n",
              "    .dataframe tbody tr th:only-of-type {\n",
              "        vertical-align: middle;\n",
              "    }\n",
              "\n",
              "    .dataframe tbody tr th {\n",
              "        vertical-align: top;\n",
              "    }\n",
              "\n",
              "    .dataframe thead th {\n",
              "        text-align: right;\n",
              "    }\n",
              "</style>\n",
              "<table border=\"1\" class=\"dataframe\">\n",
              "  <thead>\n",
              "    <tr style=\"text-align: right;\">\n",
              "      <th></th>\n",
              "      <th>text</th>\n",
              "      <th>label</th>\n",
              "    </tr>\n",
              "  </thead>\n",
              "  <tbody>\n",
              "    <tr>\n",
              "      <th>0</th>\n",
              "      <td>I grew up (b. 1965) watching and loving the Th...</td>\n",
              "      <td>0</td>\n",
              "    </tr>\n",
              "    <tr>\n",
              "      <th>1</th>\n",
              "      <td>When I put this movie in my DVD player, and sa...</td>\n",
              "      <td>0</td>\n",
              "    </tr>\n",
              "    <tr>\n",
              "      <th>2</th>\n",
              "      <td>Why do people who do not know what a particula...</td>\n",
              "      <td>0</td>\n",
              "    </tr>\n",
              "    <tr>\n",
              "      <th>3</th>\n",
              "      <td>Even though I have great interest in Biblical ...</td>\n",
              "      <td>0</td>\n",
              "    </tr>\n",
              "    <tr>\n",
              "      <th>4</th>\n",
              "      <td>Im a die hard Dads Army fan and nothing will e...</td>\n",
              "      <td>1</td>\n",
              "    </tr>\n",
              "    <tr>\n",
              "      <th>...</th>\n",
              "      <td>...</td>\n",
              "      <td>...</td>\n",
              "    </tr>\n",
              "    <tr>\n",
              "      <th>39995</th>\n",
              "      <td>\"Western Union\" is something of a forgotten cl...</td>\n",
              "      <td>1</td>\n",
              "    </tr>\n",
              "    <tr>\n",
              "      <th>39996</th>\n",
              "      <td>This movie is an incredible piece of work. It ...</td>\n",
              "      <td>1</td>\n",
              "    </tr>\n",
              "    <tr>\n",
              "      <th>39997</th>\n",
              "      <td>My wife and I watched this movie because we pl...</td>\n",
              "      <td>0</td>\n",
              "    </tr>\n",
              "    <tr>\n",
              "      <th>39998</th>\n",
              "      <td>When I first watched Flatliners, I was amazed....</td>\n",
              "      <td>1</td>\n",
              "    </tr>\n",
              "    <tr>\n",
              "      <th>39999</th>\n",
              "      <td>Why would this film be so good, but only gross...</td>\n",
              "      <td>1</td>\n",
              "    </tr>\n",
              "  </tbody>\n",
              "</table>\n",
              "<p>40000 rows × 2 columns</p>\n",
              "</div>\n",
              "      <button class=\"colab-df-convert\" onclick=\"convertToInteractive('df-59e8b85a-8b95-4b14-95cf-c1aeb7ebee69')\"\n",
              "              title=\"Convert this dataframe to an interactive table.\"\n",
              "              style=\"display:none;\">\n",
              "        \n",
              "  <svg xmlns=\"http://www.w3.org/2000/svg\" height=\"24px\"viewBox=\"0 0 24 24\"\n",
              "       width=\"24px\">\n",
              "    <path d=\"M0 0h24v24H0V0z\" fill=\"none\"/>\n",
              "    <path d=\"M18.56 5.44l.94 2.06.94-2.06 2.06-.94-2.06-.94-.94-2.06-.94 2.06-2.06.94zm-11 1L8.5 8.5l.94-2.06 2.06-.94-2.06-.94L8.5 2.5l-.94 2.06-2.06.94zm10 10l.94 2.06.94-2.06 2.06-.94-2.06-.94-.94-2.06-.94 2.06-2.06.94z\"/><path d=\"M17.41 7.96l-1.37-1.37c-.4-.4-.92-.59-1.43-.59-.52 0-1.04.2-1.43.59L10.3 9.45l-7.72 7.72c-.78.78-.78 2.05 0 2.83L4 21.41c.39.39.9.59 1.41.59.51 0 1.02-.2 1.41-.59l7.78-7.78 2.81-2.81c.8-.78.8-2.07 0-2.86zM5.41 20L4 18.59l7.72-7.72 1.47 1.35L5.41 20z\"/>\n",
              "  </svg>\n",
              "      </button>\n",
              "      \n",
              "  <style>\n",
              "    .colab-df-container {\n",
              "      display:flex;\n",
              "      flex-wrap:wrap;\n",
              "      gap: 12px;\n",
              "    }\n",
              "\n",
              "    .colab-df-convert {\n",
              "      background-color: #E8F0FE;\n",
              "      border: none;\n",
              "      border-radius: 50%;\n",
              "      cursor: pointer;\n",
              "      display: none;\n",
              "      fill: #1967D2;\n",
              "      height: 32px;\n",
              "      padding: 0 0 0 0;\n",
              "      width: 32px;\n",
              "    }\n",
              "\n",
              "    .colab-df-convert:hover {\n",
              "      background-color: #E2EBFA;\n",
              "      box-shadow: 0px 1px 2px rgba(60, 64, 67, 0.3), 0px 1px 3px 1px rgba(60, 64, 67, 0.15);\n",
              "      fill: #174EA6;\n",
              "    }\n",
              "\n",
              "    [theme=dark] .colab-df-convert {\n",
              "      background-color: #3B4455;\n",
              "      fill: #D2E3FC;\n",
              "    }\n",
              "\n",
              "    [theme=dark] .colab-df-convert:hover {\n",
              "      background-color: #434B5C;\n",
              "      box-shadow: 0px 1px 3px 1px rgba(0, 0, 0, 0.15);\n",
              "      filter: drop-shadow(0px 1px 2px rgba(0, 0, 0, 0.3));\n",
              "      fill: #FFFFFF;\n",
              "    }\n",
              "  </style>\n",
              "\n",
              "      <script>\n",
              "        const buttonEl =\n",
              "          document.querySelector('#df-59e8b85a-8b95-4b14-95cf-c1aeb7ebee69 button.colab-df-convert');\n",
              "        buttonEl.style.display =\n",
              "          google.colab.kernel.accessAllowed ? 'block' : 'none';\n",
              "\n",
              "        async function convertToInteractive(key) {\n",
              "          const element = document.querySelector('#df-59e8b85a-8b95-4b14-95cf-c1aeb7ebee69');\n",
              "          const dataTable =\n",
              "            await google.colab.kernel.invokeFunction('convertToInteractive',\n",
              "                                                     [key], {});\n",
              "          if (!dataTable) return;\n",
              "\n",
              "          const docLinkHtml = 'Like what you see? Visit the ' +\n",
              "            '<a target=\"_blank\" href=https://colab.research.google.com/notebooks/data_table.ipynb>data table notebook</a>'\n",
              "            + ' to learn more about interactive tables.';\n",
              "          element.innerHTML = '';\n",
              "          dataTable['output_type'] = 'display_data';\n",
              "          await google.colab.output.renderOutput(dataTable, element);\n",
              "          const docLink = document.createElement('div');\n",
              "          docLink.innerHTML = docLinkHtml;\n",
              "          element.appendChild(docLink);\n",
              "        }\n",
              "      </script>\n",
              "    </div>\n",
              "  </div>\n",
              "  "
            ]
          },
          "metadata": {},
          "execution_count": 111
        }
      ]
    },
    {
      "cell_type": "code",
      "source": [
        "train_data['text'][1]"
      ],
      "metadata": {
        "colab": {
          "base_uri": "https://localhost:8080/",
          "height": 140
        },
        "id": "J3YUihSLzwdi",
        "outputId": "76e396c3-be5d-4df6-8fac-b77c636e26b2"
      },
      "execution_count": null,
      "outputs": [
        {
          "output_type": "execute_result",
          "data": {
            "text/plain": [
              "\"When I put this movie in my DVD player, and sat down with a coke and some chips, I had some expectations. I was hoping that this movie would contain some of the strong-points of the first movie: Awsome animation, good flowing story, excellent voice cast, funny comedy and a kick-ass soundtrack. But, to my disappointment, not any of this is to be found in Atlantis: Milo's Return. Had I read some reviews first, I might not have been so let down. The following paragraph will be directed to those who have seen the first movie, and who enjoyed it primarily for the points mentioned.<br /><br />When the first scene appears, your in for a shock if you just picked Atlantis: Milo's Return from the display-case at your local videoshop (or whatever), and had the expectations I had. The music feels as a bad imitation of the first movie, and the voice cast has been replaced by a not so fitting one. (With the exception of a few characters, like the voice of Sweet). The actual drawings isnt that bad, but the animation in particular is a sad sight. The storyline is also pretty weak, as its more like three episodes of Schooby-Doo than the single adventurous story we got the last time. But dont misunderstand, it is not very good Schooby-Doo episodes. I didnt laugh a single time, although I might have sniggered once or twice.<br /><br />To the audience who have not seen the first movie, or do not especially care for a similar sequel, here is a fast review of this movie as a stand-alone product: If you liked schooby-doo, you might like this movie. If you didn't, you could still enjoy this movie if you have nothing else to do. And I suspect it might be a good kids movie, but I would not know. It might have been better if Milo's Return had been a three-episode series on a cartoon channel, or on breakfast TV.\""
            ],
            "application/vnd.google.colaboratory.intrinsic+json": {
              "type": "string"
            }
          },
          "metadata": {},
          "execution_count": 112
        }
      ]
    },
    {
      "cell_type": "code",
      "source": [
        "train_data['label'].unique()"
      ],
      "metadata": {
        "colab": {
          "base_uri": "https://localhost:8080/"
        },
        "id": "noVQa-tEzwVW",
        "outputId": "c977b10f-c9a1-42b7-e2d0-1db793aeac0b"
      },
      "execution_count": null,
      "outputs": [
        {
          "output_type": "execute_result",
          "data": {
            "text/plain": [
              "array([0, 1])"
            ]
          },
          "metadata": {},
          "execution_count": 113
        }
      ]
    },
    {
      "cell_type": "markdown",
      "source": [
        "**0 Neg ,1 pos**"
      ],
      "metadata": {
        "id": "na9aC4J2EMWM"
      }
    },
    {
      "cell_type": "code",
      "source": [
        "train_df = train_data.copy(deep=True)"
      ],
      "metadata": {
        "id": "g6lDIQlLzwSn"
      },
      "execution_count": null,
      "outputs": []
    },
    {
      "cell_type": "markdown",
      "source": [
        "###cleaning the training set"
      ],
      "metadata": {
        "id": "nfFTzhwufhsc"
      }
    },
    {
      "cell_type": "code",
      "source": [
        "clean_text = []\n",
        "for text in train_df['text']:\n",
        "  new = clean_all(text)\n",
        "  clean_text.append(new)"
      ],
      "metadata": {
        "id": "OUVENpWSgE20"
      },
      "execution_count": null,
      "outputs": []
    },
    {
      "cell_type": "code",
      "source": [
        "final_train_dataset = pd.DataFrame({'text':clean_text, 'Label':train_df['label']})"
      ],
      "metadata": {
        "id": "8Qv08N9wgrBo"
      },
      "execution_count": null,
      "outputs": []
    },
    {
      "cell_type": "code",
      "source": [
        "final_train_dataset"
      ],
      "metadata": {
        "colab": {
          "base_uri": "https://localhost:8080/",
          "height": 424
        },
        "id": "UWeSbtimhQGT",
        "outputId": "de217845-4e83-4e7d-9277-29681bc3c890"
      },
      "execution_count": null,
      "outputs": [
        {
          "output_type": "execute_result",
          "data": {
            "text/plain": [
              "                                                    text  Label\n",
              "0      I grew ( b . ) watching loving Thunderbirds . ...      0\n",
              "1      When I put movie DVD player , sat coke chip , ...      0\n",
              "2      Why people know particular time past like feel...      0\n",
              "3      Even though I great interest Biblical movie , ...      0\n",
              "4      Im die hard Dads Army fan nothing ever change ...      1\n",
              "...                                                  ...    ...\n",
              "39995  `` Western Union '' something forgotten classi...      1\n",
              "39996  This movie incredible piece work . It explores...      1\n",
              "39997  My wife I watched movie plan visit Sicily Stro...      0\n",
              "39998  When I first watched Flatliners , I amazed . I...      1\n",
              "39999  Why would film good , gross estimated $ , , NO...      1\n",
              "\n",
              "[40000 rows x 2 columns]"
            ],
            "text/html": [
              "\n",
              "  <div id=\"df-ff3aebef-6d82-498c-9e04-5fd44fedcefd\">\n",
              "    <div class=\"colab-df-container\">\n",
              "      <div>\n",
              "<style scoped>\n",
              "    .dataframe tbody tr th:only-of-type {\n",
              "        vertical-align: middle;\n",
              "    }\n",
              "\n",
              "    .dataframe tbody tr th {\n",
              "        vertical-align: top;\n",
              "    }\n",
              "\n",
              "    .dataframe thead th {\n",
              "        text-align: right;\n",
              "    }\n",
              "</style>\n",
              "<table border=\"1\" class=\"dataframe\">\n",
              "  <thead>\n",
              "    <tr style=\"text-align: right;\">\n",
              "      <th></th>\n",
              "      <th>text</th>\n",
              "      <th>Label</th>\n",
              "    </tr>\n",
              "  </thead>\n",
              "  <tbody>\n",
              "    <tr>\n",
              "      <th>0</th>\n",
              "      <td>I grew ( b . ) watching loving Thunderbirds . ...</td>\n",
              "      <td>0</td>\n",
              "    </tr>\n",
              "    <tr>\n",
              "      <th>1</th>\n",
              "      <td>When I put movie DVD player , sat coke chip , ...</td>\n",
              "      <td>0</td>\n",
              "    </tr>\n",
              "    <tr>\n",
              "      <th>2</th>\n",
              "      <td>Why people know particular time past like feel...</td>\n",
              "      <td>0</td>\n",
              "    </tr>\n",
              "    <tr>\n",
              "      <th>3</th>\n",
              "      <td>Even though I great interest Biblical movie , ...</td>\n",
              "      <td>0</td>\n",
              "    </tr>\n",
              "    <tr>\n",
              "      <th>4</th>\n",
              "      <td>Im die hard Dads Army fan nothing ever change ...</td>\n",
              "      <td>1</td>\n",
              "    </tr>\n",
              "    <tr>\n",
              "      <th>...</th>\n",
              "      <td>...</td>\n",
              "      <td>...</td>\n",
              "    </tr>\n",
              "    <tr>\n",
              "      <th>39995</th>\n",
              "      <td>`` Western Union '' something forgotten classi...</td>\n",
              "      <td>1</td>\n",
              "    </tr>\n",
              "    <tr>\n",
              "      <th>39996</th>\n",
              "      <td>This movie incredible piece work . It explores...</td>\n",
              "      <td>1</td>\n",
              "    </tr>\n",
              "    <tr>\n",
              "      <th>39997</th>\n",
              "      <td>My wife I watched movie plan visit Sicily Stro...</td>\n",
              "      <td>0</td>\n",
              "    </tr>\n",
              "    <tr>\n",
              "      <th>39998</th>\n",
              "      <td>When I first watched Flatliners , I amazed . I...</td>\n",
              "      <td>1</td>\n",
              "    </tr>\n",
              "    <tr>\n",
              "      <th>39999</th>\n",
              "      <td>Why would film good , gross estimated $ , , NO...</td>\n",
              "      <td>1</td>\n",
              "    </tr>\n",
              "  </tbody>\n",
              "</table>\n",
              "<p>40000 rows × 2 columns</p>\n",
              "</div>\n",
              "      <button class=\"colab-df-convert\" onclick=\"convertToInteractive('df-ff3aebef-6d82-498c-9e04-5fd44fedcefd')\"\n",
              "              title=\"Convert this dataframe to an interactive table.\"\n",
              "              style=\"display:none;\">\n",
              "        \n",
              "  <svg xmlns=\"http://www.w3.org/2000/svg\" height=\"24px\"viewBox=\"0 0 24 24\"\n",
              "       width=\"24px\">\n",
              "    <path d=\"M0 0h24v24H0V0z\" fill=\"none\"/>\n",
              "    <path d=\"M18.56 5.44l.94 2.06.94-2.06 2.06-.94-2.06-.94-.94-2.06-.94 2.06-2.06.94zm-11 1L8.5 8.5l.94-2.06 2.06-.94-2.06-.94L8.5 2.5l-.94 2.06-2.06.94zm10 10l.94 2.06.94-2.06 2.06-.94-2.06-.94-.94-2.06-.94 2.06-2.06.94z\"/><path d=\"M17.41 7.96l-1.37-1.37c-.4-.4-.92-.59-1.43-.59-.52 0-1.04.2-1.43.59L10.3 9.45l-7.72 7.72c-.78.78-.78 2.05 0 2.83L4 21.41c.39.39.9.59 1.41.59.51 0 1.02-.2 1.41-.59l7.78-7.78 2.81-2.81c.8-.78.8-2.07 0-2.86zM5.41 20L4 18.59l7.72-7.72 1.47 1.35L5.41 20z\"/>\n",
              "  </svg>\n",
              "      </button>\n",
              "      \n",
              "  <style>\n",
              "    .colab-df-container {\n",
              "      display:flex;\n",
              "      flex-wrap:wrap;\n",
              "      gap: 12px;\n",
              "    }\n",
              "\n",
              "    .colab-df-convert {\n",
              "      background-color: #E8F0FE;\n",
              "      border: none;\n",
              "      border-radius: 50%;\n",
              "      cursor: pointer;\n",
              "      display: none;\n",
              "      fill: #1967D2;\n",
              "      height: 32px;\n",
              "      padding: 0 0 0 0;\n",
              "      width: 32px;\n",
              "    }\n",
              "\n",
              "    .colab-df-convert:hover {\n",
              "      background-color: #E2EBFA;\n",
              "      box-shadow: 0px 1px 2px rgba(60, 64, 67, 0.3), 0px 1px 3px 1px rgba(60, 64, 67, 0.15);\n",
              "      fill: #174EA6;\n",
              "    }\n",
              "\n",
              "    [theme=dark] .colab-df-convert {\n",
              "      background-color: #3B4455;\n",
              "      fill: #D2E3FC;\n",
              "    }\n",
              "\n",
              "    [theme=dark] .colab-df-convert:hover {\n",
              "      background-color: #434B5C;\n",
              "      box-shadow: 0px 1px 3px 1px rgba(0, 0, 0, 0.15);\n",
              "      filter: drop-shadow(0px 1px 2px rgba(0, 0, 0, 0.3));\n",
              "      fill: #FFFFFF;\n",
              "    }\n",
              "  </style>\n",
              "\n",
              "      <script>\n",
              "        const buttonEl =\n",
              "          document.querySelector('#df-ff3aebef-6d82-498c-9e04-5fd44fedcefd button.colab-df-convert');\n",
              "        buttonEl.style.display =\n",
              "          google.colab.kernel.accessAllowed ? 'block' : 'none';\n",
              "\n",
              "        async function convertToInteractive(key) {\n",
              "          const element = document.querySelector('#df-ff3aebef-6d82-498c-9e04-5fd44fedcefd');\n",
              "          const dataTable =\n",
              "            await google.colab.kernel.invokeFunction('convertToInteractive',\n",
              "                                                     [key], {});\n",
              "          if (!dataTable) return;\n",
              "\n",
              "          const docLinkHtml = 'Like what you see? Visit the ' +\n",
              "            '<a target=\"_blank\" href=https://colab.research.google.com/notebooks/data_table.ipynb>data table notebook</a>'\n",
              "            + ' to learn more about interactive tables.';\n",
              "          element.innerHTML = '';\n",
              "          dataTable['output_type'] = 'display_data';\n",
              "          await google.colab.output.renderOutput(dataTable, element);\n",
              "          const docLink = document.createElement('div');\n",
              "          docLink.innerHTML = docLinkHtml;\n",
              "          element.appendChild(docLink);\n",
              "        }\n",
              "      </script>\n",
              "    </div>\n",
              "  </div>\n",
              "  "
            ]
          },
          "metadata": {},
          "execution_count": 117
        }
      ]
    },
    {
      "cell_type": "code",
      "source": [
        "final_train_dataset.shape"
      ],
      "metadata": {
        "colab": {
          "base_uri": "https://localhost:8080/"
        },
        "id": "7n2_ZTq3pgr0",
        "outputId": "38c8d0c4-eaf0-4e94-82b7-4a397ac08c95"
      },
      "execution_count": null,
      "outputs": [
        {
          "output_type": "execute_result",
          "data": {
            "text/plain": [
              "(40000, 2)"
            ]
          },
          "metadata": {},
          "execution_count": 118
        }
      ]
    },
    {
      "cell_type": "code",
      "source": [
        "text_train = final_train_dataset['text']\n",
        "y_train = final_train_dataset['Label']"
      ],
      "metadata": {
        "id": "6ukVXsjWhJpS"
      },
      "execution_count": null,
      "outputs": []
    },
    {
      "cell_type": "code",
      "source": [
        "text_train"
      ],
      "metadata": {
        "colab": {
          "base_uri": "https://localhost:8080/"
        },
        "id": "u7CCQYro-CkT",
        "outputId": "09420385-af0b-4ee5-b215-433ee9d99085"
      },
      "execution_count": null,
      "outputs": [
        {
          "output_type": "execute_result",
          "data": {
            "text/plain": [
              "0        I grew ( b . ) watching loving Thunderbirds . ...\n",
              "1        When I put movie DVD player , sat coke chip , ...\n",
              "2        Why people know particular time past like feel...\n",
              "3        Even though I great interest Biblical movie , ...\n",
              "4        Im die hard Dads Army fan nothing ever change ...\n",
              "                               ...                        \n",
              "39995    `` Western Union '' something forgotten classi...\n",
              "39996    This movie incredible piece work . It explores...\n",
              "39997    My wife I watched movie plan visit Sicily Stro...\n",
              "39998    When I first watched Flatliners , I amazed . I...\n",
              "39999    Why would film good , gross estimated $ , , NO...\n",
              "Name: text, Length: 40000, dtype: object"
            ]
          },
          "metadata": {},
          "execution_count": 120
        }
      ]
    },
    {
      "cell_type": "code",
      "source": [
        "y_train"
      ],
      "metadata": {
        "colab": {
          "base_uri": "https://localhost:8080/"
        },
        "id": "he_SwnyCvKQ6",
        "outputId": "da4e5055-a362-4b39-f726-e21f04802f63"
      },
      "execution_count": null,
      "outputs": [
        {
          "output_type": "execute_result",
          "data": {
            "text/plain": [
              "0        0\n",
              "1        0\n",
              "2        0\n",
              "3        0\n",
              "4        1\n",
              "        ..\n",
              "39995    1\n",
              "39996    1\n",
              "39997    0\n",
              "39998    1\n",
              "39999    1\n",
              "Name: Label, Length: 40000, dtype: int64"
            ]
          },
          "metadata": {},
          "execution_count": 121
        }
      ]
    },
    {
      "cell_type": "markdown",
      "source": [
        "###vectorization the train set by (TF-IDF) for ML model"
      ],
      "metadata": {
        "id": "iQ-cr7NAkz91"
      }
    },
    {
      "cell_type": "code",
      "source": [
        "from sklearn.feature_extraction.text import TfidfVectorizer\n",
        "vectorizer = TfidfVectorizer()\n",
        "vectors_train = vectorizer.fit_transform(text_train)"
      ],
      "metadata": {
        "id": "B75WQ7pZlBf4"
      },
      "execution_count": null,
      "outputs": []
    },
    {
      "cell_type": "code",
      "source": [
        "print(\"n_samples: %d, n_features: %d\" % vectors_train.shape)"
      ],
      "metadata": {
        "colab": {
          "base_uri": "https://localhost:8080/"
        },
        "id": "PczRxMa6ukg5",
        "outputId": "edb646d8-e497-4003-d78c-502aeb2bf95d"
      },
      "execution_count": null,
      "outputs": [
        {
          "output_type": "stream",
          "name": "stdout",
          "text": [
            "n_samples: 40000, n_features: 87087\n"
          ]
        }
      ]
    },
    {
      "cell_type": "code",
      "source": [
        "X_train, X_test, Y_train, Y_test = train_test_split(vectors_train, y_train, test_size=0.2, random_state=42 ,stratify=y_train)"
      ],
      "metadata": {
        "id": "4s55XduwuqVa"
      },
      "execution_count": null,
      "outputs": []
    },
    {
      "cell_type": "code",
      "source": [
        "print(X_train.shape, X_test.shape)"
      ],
      "metadata": {
        "colab": {
          "base_uri": "https://localhost:8080/"
        },
        "id": "YxrtMxQEvVz-",
        "outputId": "3d347328-2789-4b05-f645-f9fc396a6101"
      },
      "execution_count": null,
      "outputs": [
        {
          "output_type": "stream",
          "name": "stdout",
          "text": [
            "(32000, 87087) (8000, 87087)\n"
          ]
        }
      ]
    },
    {
      "cell_type": "markdown",
      "source": [
        "**ML model:**"
      ],
      "metadata": {
        "id": "5epV0kQ6v1kT"
      }
    },
    {
      "cell_type": "code",
      "source": [
        "# # grid search\n",
        "# import math\n",
        "# grid_params ={'alpha':[10**x for x in range(-4,4)]}\n",
        "# alpha_log = [math.log(x,10) for x in grid_params[\"alpha\"]]\n",
        "\n",
        "# MultinomialNB_model = GridSearchCV(MultinomialNB(),grid_params,\n",
        "#                      scoring = 'accuracy', cv=10,n_jobs=-1, return_train_score=True)\n",
        "# MultinomialNB_model.fit(X_train, Y_train)"
      ],
      "metadata": {
        "id": "5VDtRrMzvmU9"
      },
      "execution_count": null,
      "outputs": []
    },
    {
      "cell_type": "code",
      "source": [
        "# naive bays\n",
        "MultinomialNB_model = MultinomialNB(alpha=1, class_prior=None, fit_prior=True)\n",
        "MultinomialNB_model.fit(X_train,Y_train)\n",
        "\n",
        "y_pred = MultinomialNB_model.predict(X_test)\n",
        "\n",
        "from sklearn.metrics import classification_report\n",
        "\n",
        "print(classification_report(Y_test, y_pred))"
      ],
      "metadata": {
        "colab": {
          "base_uri": "https://localhost:8080/"
        },
        "id": "Wv3cAsIhvnRl",
        "outputId": "1864ecff-8596-4176-d864-f232985082e3"
      },
      "execution_count": null,
      "outputs": [
        {
          "output_type": "stream",
          "name": "stdout",
          "text": [
            "              precision    recall  f1-score   support\n",
            "\n",
            "           0       0.85      0.88      0.86      4004\n",
            "           1       0.88      0.84      0.86      3996\n",
            "\n",
            "    accuracy                           0.86      8000\n",
            "   macro avg       0.86      0.86      0.86      8000\n",
            "weighted avg       0.86      0.86      0.86      8000\n",
            "\n"
          ]
        }
      ]
    },
    {
      "cell_type": "code",
      "source": [
        "# # KNN\n",
        "# from sklearn.neighbors import KNeighborsClassifier\n",
        "# import numpy as np\n",
        "# knn_bow=KNeighborsClassifier(n_neighbors=15,algorithm='brute')\n",
        "# knn_bow.fit(X_train,Y_train)\n",
        "# bow_pred=knn_bow.predict_proba(X_test)\n",
        "# bow_pred_cm = np.argmax(bow_pred, axis=1)\n",
        "# print(classification_report(Y_test, bow_pred_cm))"
      ],
      "metadata": {
        "id": "SaR61iLRvnO0"
      },
      "execution_count": null,
      "outputs": []
    },
    {
      "cell_type": "markdown",
      "source": [
        "#Validation dataset"
      ],
      "metadata": {
        "id": "RaS9tClmy_Y7"
      }
    },
    {
      "cell_type": "code",
      "source": [
        "validation_data = pd.read_csv('/content/Valid.csv')\n",
        "validation_data"
      ],
      "metadata": {
        "colab": {
          "base_uri": "https://localhost:8080/",
          "height": 424
        },
        "id": "63Kb_etezEwf",
        "outputId": "d2c5472c-7bdc-459d-94d2-ad8928d643c6"
      },
      "execution_count": null,
      "outputs": [
        {
          "output_type": "execute_result",
          "data": {
            "text/plain": [
              "                                                   text  label\n",
              "0     It's been about 14 years since Sharon Stone aw...      0\n",
              "1     someone needed to make a car payment... this i...      0\n",
              "2     The Guidelines state that a comment must conta...      0\n",
              "3     This movie is a muddled mish-mash of clichés f...      0\n",
              "4     Before Stan Laurel became the smaller half of ...      0\n",
              "...                                                 ...    ...\n",
              "4995  Man, I loved this movie! This really takes me ...      1\n",
              "4996  Recovery is an incredibly moving piece of work...      1\n",
              "4997  You can take the crook out of the joint, but i...      1\n",
              "4998  FUTZ is the only show preserved from the exper...      1\n",
              "4999  \"The Mother\" tells of a recently widowed mid-6...      1\n",
              "\n",
              "[5000 rows x 2 columns]"
            ],
            "text/html": [
              "\n",
              "  <div id=\"df-d89712e0-b31b-40ac-978a-0281c6a6f917\">\n",
              "    <div class=\"colab-df-container\">\n",
              "      <div>\n",
              "<style scoped>\n",
              "    .dataframe tbody tr th:only-of-type {\n",
              "        vertical-align: middle;\n",
              "    }\n",
              "\n",
              "    .dataframe tbody tr th {\n",
              "        vertical-align: top;\n",
              "    }\n",
              "\n",
              "    .dataframe thead th {\n",
              "        text-align: right;\n",
              "    }\n",
              "</style>\n",
              "<table border=\"1\" class=\"dataframe\">\n",
              "  <thead>\n",
              "    <tr style=\"text-align: right;\">\n",
              "      <th></th>\n",
              "      <th>text</th>\n",
              "      <th>label</th>\n",
              "    </tr>\n",
              "  </thead>\n",
              "  <tbody>\n",
              "    <tr>\n",
              "      <th>0</th>\n",
              "      <td>It's been about 14 years since Sharon Stone aw...</td>\n",
              "      <td>0</td>\n",
              "    </tr>\n",
              "    <tr>\n",
              "      <th>1</th>\n",
              "      <td>someone needed to make a car payment... this i...</td>\n",
              "      <td>0</td>\n",
              "    </tr>\n",
              "    <tr>\n",
              "      <th>2</th>\n",
              "      <td>The Guidelines state that a comment must conta...</td>\n",
              "      <td>0</td>\n",
              "    </tr>\n",
              "    <tr>\n",
              "      <th>3</th>\n",
              "      <td>This movie is a muddled mish-mash of clichés f...</td>\n",
              "      <td>0</td>\n",
              "    </tr>\n",
              "    <tr>\n",
              "      <th>4</th>\n",
              "      <td>Before Stan Laurel became the smaller half of ...</td>\n",
              "      <td>0</td>\n",
              "    </tr>\n",
              "    <tr>\n",
              "      <th>...</th>\n",
              "      <td>...</td>\n",
              "      <td>...</td>\n",
              "    </tr>\n",
              "    <tr>\n",
              "      <th>4995</th>\n",
              "      <td>Man, I loved this movie! This really takes me ...</td>\n",
              "      <td>1</td>\n",
              "    </tr>\n",
              "    <tr>\n",
              "      <th>4996</th>\n",
              "      <td>Recovery is an incredibly moving piece of work...</td>\n",
              "      <td>1</td>\n",
              "    </tr>\n",
              "    <tr>\n",
              "      <th>4997</th>\n",
              "      <td>You can take the crook out of the joint, but i...</td>\n",
              "      <td>1</td>\n",
              "    </tr>\n",
              "    <tr>\n",
              "      <th>4998</th>\n",
              "      <td>FUTZ is the only show preserved from the exper...</td>\n",
              "      <td>1</td>\n",
              "    </tr>\n",
              "    <tr>\n",
              "      <th>4999</th>\n",
              "      <td>\"The Mother\" tells of a recently widowed mid-6...</td>\n",
              "      <td>1</td>\n",
              "    </tr>\n",
              "  </tbody>\n",
              "</table>\n",
              "<p>5000 rows × 2 columns</p>\n",
              "</div>\n",
              "      <button class=\"colab-df-convert\" onclick=\"convertToInteractive('df-d89712e0-b31b-40ac-978a-0281c6a6f917')\"\n",
              "              title=\"Convert this dataframe to an interactive table.\"\n",
              "              style=\"display:none;\">\n",
              "        \n",
              "  <svg xmlns=\"http://www.w3.org/2000/svg\" height=\"24px\"viewBox=\"0 0 24 24\"\n",
              "       width=\"24px\">\n",
              "    <path d=\"M0 0h24v24H0V0z\" fill=\"none\"/>\n",
              "    <path d=\"M18.56 5.44l.94 2.06.94-2.06 2.06-.94-2.06-.94-.94-2.06-.94 2.06-2.06.94zm-11 1L8.5 8.5l.94-2.06 2.06-.94-2.06-.94L8.5 2.5l-.94 2.06-2.06.94zm10 10l.94 2.06.94-2.06 2.06-.94-2.06-.94-.94-2.06-.94 2.06-2.06.94z\"/><path d=\"M17.41 7.96l-1.37-1.37c-.4-.4-.92-.59-1.43-.59-.52 0-1.04.2-1.43.59L10.3 9.45l-7.72 7.72c-.78.78-.78 2.05 0 2.83L4 21.41c.39.39.9.59 1.41.59.51 0 1.02-.2 1.41-.59l7.78-7.78 2.81-2.81c.8-.78.8-2.07 0-2.86zM5.41 20L4 18.59l7.72-7.72 1.47 1.35L5.41 20z\"/>\n",
              "  </svg>\n",
              "      </button>\n",
              "      \n",
              "  <style>\n",
              "    .colab-df-container {\n",
              "      display:flex;\n",
              "      flex-wrap:wrap;\n",
              "      gap: 12px;\n",
              "    }\n",
              "\n",
              "    .colab-df-convert {\n",
              "      background-color: #E8F0FE;\n",
              "      border: none;\n",
              "      border-radius: 50%;\n",
              "      cursor: pointer;\n",
              "      display: none;\n",
              "      fill: #1967D2;\n",
              "      height: 32px;\n",
              "      padding: 0 0 0 0;\n",
              "      width: 32px;\n",
              "    }\n",
              "\n",
              "    .colab-df-convert:hover {\n",
              "      background-color: #E2EBFA;\n",
              "      box-shadow: 0px 1px 2px rgba(60, 64, 67, 0.3), 0px 1px 3px 1px rgba(60, 64, 67, 0.15);\n",
              "      fill: #174EA6;\n",
              "    }\n",
              "\n",
              "    [theme=dark] .colab-df-convert {\n",
              "      background-color: #3B4455;\n",
              "      fill: #D2E3FC;\n",
              "    }\n",
              "\n",
              "    [theme=dark] .colab-df-convert:hover {\n",
              "      background-color: #434B5C;\n",
              "      box-shadow: 0px 1px 3px 1px rgba(0, 0, 0, 0.15);\n",
              "      filter: drop-shadow(0px 1px 2px rgba(0, 0, 0, 0.3));\n",
              "      fill: #FFFFFF;\n",
              "    }\n",
              "  </style>\n",
              "\n",
              "      <script>\n",
              "        const buttonEl =\n",
              "          document.querySelector('#df-d89712e0-b31b-40ac-978a-0281c6a6f917 button.colab-df-convert');\n",
              "        buttonEl.style.display =\n",
              "          google.colab.kernel.accessAllowed ? 'block' : 'none';\n",
              "\n",
              "        async function convertToInteractive(key) {\n",
              "          const element = document.querySelector('#df-d89712e0-b31b-40ac-978a-0281c6a6f917');\n",
              "          const dataTable =\n",
              "            await google.colab.kernel.invokeFunction('convertToInteractive',\n",
              "                                                     [key], {});\n",
              "          if (!dataTable) return;\n",
              "\n",
              "          const docLinkHtml = 'Like what you see? Visit the ' +\n",
              "            '<a target=\"_blank\" href=https://colab.research.google.com/notebooks/data_table.ipynb>data table notebook</a>'\n",
              "            + ' to learn more about interactive tables.';\n",
              "          element.innerHTML = '';\n",
              "          dataTable['output_type'] = 'display_data';\n",
              "          await google.colab.output.renderOutput(dataTable, element);\n",
              "          const docLink = document.createElement('div');\n",
              "          docLink.innerHTML = docLinkHtml;\n",
              "          element.appendChild(docLink);\n",
              "        }\n",
              "      </script>\n",
              "    </div>\n",
              "  </div>\n",
              "  "
            ]
          },
          "metadata": {},
          "execution_count": 135
        }
      ]
    },
    {
      "cell_type": "markdown",
      "source": [
        "###cleaning the validation set"
      ],
      "metadata": {
        "id": "Pi7640RPj-4j"
      }
    },
    {
      "cell_type": "code",
      "source": [
        "clean_text_val = []\n",
        "for text in validation_data['text']:\n",
        "  new_val = clean_all(text)\n",
        "  clean_text_val.append(new_val)"
      ],
      "metadata": {
        "id": "lFTlmszdhZE6"
      },
      "execution_count": null,
      "outputs": []
    },
    {
      "cell_type": "code",
      "source": [
        "final_val_dataset = pd.DataFrame({'text':clean_text_val, 'label':validation_data['label']})"
      ],
      "metadata": {
        "id": "a8DdCTD4hs0O"
      },
      "execution_count": null,
      "outputs": []
    },
    {
      "cell_type": "code",
      "source": [
        "final_val_dataset"
      ],
      "metadata": {
        "colab": {
          "base_uri": "https://localhost:8080/",
          "height": 424
        },
        "id": "hOP-ArgTh-n-",
        "outputId": "76270bb2-5cc1-41ed-e73b-933d8c593ce9"
      },
      "execution_count": null,
      "outputs": [
        {
          "output_type": "execute_result",
          "data": {
            "text/plain": [
              "                                                   text  label\n",
              "0     It 's year since Sharon Stone awarded viewer l...      0\n",
              "1     someone needed make car payment ... truly awfu...      0\n",
              "2     The Guidelines state comment must contain mini...      0\n",
              "3     This movie muddled mish-mash clichés recent ci...      0\n",
              "4     Before Stan Laurel became smaller half all-tim...      0\n",
              "...                                                 ...    ...\n",
              "4995  Man , I loved movie ! This really take back I ...      1\n",
              "4996  Recovery incredibly moving piece work , handli...      1\n",
              "4997  You take crook joint , seems exceedingly diffi...      1\n",
              "4998  FUTZ show preserved experimental theatre movem...      1\n",
              "4999  `` The Mother '' tell recently widowed mid- 's...      1\n",
              "\n",
              "[5000 rows x 2 columns]"
            ],
            "text/html": [
              "\n",
              "  <div id=\"df-6c4f7012-4f8d-42e9-9c21-58737c87766e\">\n",
              "    <div class=\"colab-df-container\">\n",
              "      <div>\n",
              "<style scoped>\n",
              "    .dataframe tbody tr th:only-of-type {\n",
              "        vertical-align: middle;\n",
              "    }\n",
              "\n",
              "    .dataframe tbody tr th {\n",
              "        vertical-align: top;\n",
              "    }\n",
              "\n",
              "    .dataframe thead th {\n",
              "        text-align: right;\n",
              "    }\n",
              "</style>\n",
              "<table border=\"1\" class=\"dataframe\">\n",
              "  <thead>\n",
              "    <tr style=\"text-align: right;\">\n",
              "      <th></th>\n",
              "      <th>text</th>\n",
              "      <th>label</th>\n",
              "    </tr>\n",
              "  </thead>\n",
              "  <tbody>\n",
              "    <tr>\n",
              "      <th>0</th>\n",
              "      <td>It 's year since Sharon Stone awarded viewer l...</td>\n",
              "      <td>0</td>\n",
              "    </tr>\n",
              "    <tr>\n",
              "      <th>1</th>\n",
              "      <td>someone needed make car payment ... truly awfu...</td>\n",
              "      <td>0</td>\n",
              "    </tr>\n",
              "    <tr>\n",
              "      <th>2</th>\n",
              "      <td>The Guidelines state comment must contain mini...</td>\n",
              "      <td>0</td>\n",
              "    </tr>\n",
              "    <tr>\n",
              "      <th>3</th>\n",
              "      <td>This movie muddled mish-mash clichés recent ci...</td>\n",
              "      <td>0</td>\n",
              "    </tr>\n",
              "    <tr>\n",
              "      <th>4</th>\n",
              "      <td>Before Stan Laurel became smaller half all-tim...</td>\n",
              "      <td>0</td>\n",
              "    </tr>\n",
              "    <tr>\n",
              "      <th>...</th>\n",
              "      <td>...</td>\n",
              "      <td>...</td>\n",
              "    </tr>\n",
              "    <tr>\n",
              "      <th>4995</th>\n",
              "      <td>Man , I loved movie ! This really take back I ...</td>\n",
              "      <td>1</td>\n",
              "    </tr>\n",
              "    <tr>\n",
              "      <th>4996</th>\n",
              "      <td>Recovery incredibly moving piece work , handli...</td>\n",
              "      <td>1</td>\n",
              "    </tr>\n",
              "    <tr>\n",
              "      <th>4997</th>\n",
              "      <td>You take crook joint , seems exceedingly diffi...</td>\n",
              "      <td>1</td>\n",
              "    </tr>\n",
              "    <tr>\n",
              "      <th>4998</th>\n",
              "      <td>FUTZ show preserved experimental theatre movem...</td>\n",
              "      <td>1</td>\n",
              "    </tr>\n",
              "    <tr>\n",
              "      <th>4999</th>\n",
              "      <td>`` The Mother '' tell recently widowed mid- 's...</td>\n",
              "      <td>1</td>\n",
              "    </tr>\n",
              "  </tbody>\n",
              "</table>\n",
              "<p>5000 rows × 2 columns</p>\n",
              "</div>\n",
              "      <button class=\"colab-df-convert\" onclick=\"convertToInteractive('df-6c4f7012-4f8d-42e9-9c21-58737c87766e')\"\n",
              "              title=\"Convert this dataframe to an interactive table.\"\n",
              "              style=\"display:none;\">\n",
              "        \n",
              "  <svg xmlns=\"http://www.w3.org/2000/svg\" height=\"24px\"viewBox=\"0 0 24 24\"\n",
              "       width=\"24px\">\n",
              "    <path d=\"M0 0h24v24H0V0z\" fill=\"none\"/>\n",
              "    <path d=\"M18.56 5.44l.94 2.06.94-2.06 2.06-.94-2.06-.94-.94-2.06-.94 2.06-2.06.94zm-11 1L8.5 8.5l.94-2.06 2.06-.94-2.06-.94L8.5 2.5l-.94 2.06-2.06.94zm10 10l.94 2.06.94-2.06 2.06-.94-2.06-.94-.94-2.06-.94 2.06-2.06.94z\"/><path d=\"M17.41 7.96l-1.37-1.37c-.4-.4-.92-.59-1.43-.59-.52 0-1.04.2-1.43.59L10.3 9.45l-7.72 7.72c-.78.78-.78 2.05 0 2.83L4 21.41c.39.39.9.59 1.41.59.51 0 1.02-.2 1.41-.59l7.78-7.78 2.81-2.81c.8-.78.8-2.07 0-2.86zM5.41 20L4 18.59l7.72-7.72 1.47 1.35L5.41 20z\"/>\n",
              "  </svg>\n",
              "      </button>\n",
              "      \n",
              "  <style>\n",
              "    .colab-df-container {\n",
              "      display:flex;\n",
              "      flex-wrap:wrap;\n",
              "      gap: 12px;\n",
              "    }\n",
              "\n",
              "    .colab-df-convert {\n",
              "      background-color: #E8F0FE;\n",
              "      border: none;\n",
              "      border-radius: 50%;\n",
              "      cursor: pointer;\n",
              "      display: none;\n",
              "      fill: #1967D2;\n",
              "      height: 32px;\n",
              "      padding: 0 0 0 0;\n",
              "      width: 32px;\n",
              "    }\n",
              "\n",
              "    .colab-df-convert:hover {\n",
              "      background-color: #E2EBFA;\n",
              "      box-shadow: 0px 1px 2px rgba(60, 64, 67, 0.3), 0px 1px 3px 1px rgba(60, 64, 67, 0.15);\n",
              "      fill: #174EA6;\n",
              "    }\n",
              "\n",
              "    [theme=dark] .colab-df-convert {\n",
              "      background-color: #3B4455;\n",
              "      fill: #D2E3FC;\n",
              "    }\n",
              "\n",
              "    [theme=dark] .colab-df-convert:hover {\n",
              "      background-color: #434B5C;\n",
              "      box-shadow: 0px 1px 3px 1px rgba(0, 0, 0, 0.15);\n",
              "      filter: drop-shadow(0px 1px 2px rgba(0, 0, 0, 0.3));\n",
              "      fill: #FFFFFF;\n",
              "    }\n",
              "  </style>\n",
              "\n",
              "      <script>\n",
              "        const buttonEl =\n",
              "          document.querySelector('#df-6c4f7012-4f8d-42e9-9c21-58737c87766e button.colab-df-convert');\n",
              "        buttonEl.style.display =\n",
              "          google.colab.kernel.accessAllowed ? 'block' : 'none';\n",
              "\n",
              "        async function convertToInteractive(key) {\n",
              "          const element = document.querySelector('#df-6c4f7012-4f8d-42e9-9c21-58737c87766e');\n",
              "          const dataTable =\n",
              "            await google.colab.kernel.invokeFunction('convertToInteractive',\n",
              "                                                     [key], {});\n",
              "          if (!dataTable) return;\n",
              "\n",
              "          const docLinkHtml = 'Like what you see? Visit the ' +\n",
              "            '<a target=\"_blank\" href=https://colab.research.google.com/notebooks/data_table.ipynb>data table notebook</a>'\n",
              "            + ' to learn more about interactive tables.';\n",
              "          element.innerHTML = '';\n",
              "          dataTable['output_type'] = 'display_data';\n",
              "          await google.colab.output.renderOutput(dataTable, element);\n",
              "          const docLink = document.createElement('div');\n",
              "          docLink.innerHTML = docLinkHtml;\n",
              "          element.appendChild(docLink);\n",
              "        }\n",
              "      </script>\n",
              "    </div>\n",
              "  </div>\n",
              "  "
            ]
          },
          "metadata": {},
          "execution_count": 131
        }
      ]
    },
    {
      "cell_type": "code",
      "source": [
        "text_val = final_val_dataset['text']\n",
        "y_val = final_val_dataset['label']"
      ],
      "metadata": {
        "id": "YbY5V3benUJD"
      },
      "execution_count": null,
      "outputs": []
    },
    {
      "cell_type": "code",
      "source": [
        "text_val"
      ],
      "metadata": {
        "colab": {
          "base_uri": "https://localhost:8080/"
        },
        "id": "NzaGyRBO-ICY",
        "outputId": "46193c9c-9bab-40c8-9053-992fb2af72dd"
      },
      "execution_count": null,
      "outputs": [
        {
          "output_type": "execute_result",
          "data": {
            "text/plain": [
              "0       It 's year since Sharon Stone awarded viewer l...\n",
              "1       someone needed make car payment ... truly awfu...\n",
              "2       The Guidelines state comment must contain mini...\n",
              "3       This movie muddled mish-mash clichés recent ci...\n",
              "4       Before Stan Laurel became smaller half all-tim...\n",
              "                              ...                        \n",
              "4995    Man , I loved movie ! This really take back I ...\n",
              "4996    Recovery incredibly moving piece work , handli...\n",
              "4997    You take crook joint , seems exceedingly diffi...\n",
              "4998    FUTZ show preserved experimental theatre movem...\n",
              "4999    `` The Mother '' tell recently widowed mid- 's...\n",
              "Name: text, Length: 5000, dtype: object"
            ]
          },
          "metadata": {},
          "execution_count": 136
        }
      ]
    },
    {
      "cell_type": "code",
      "source": [
        "y_val"
      ],
      "metadata": {
        "colab": {
          "base_uri": "https://localhost:8080/"
        },
        "id": "yvHT1j0i-LDN",
        "outputId": "34afb968-83bb-4461-afe7-21142e2b1028"
      },
      "execution_count": null,
      "outputs": [
        {
          "output_type": "execute_result",
          "data": {
            "text/plain": [
              "0       0\n",
              "1       0\n",
              "2       0\n",
              "3       0\n",
              "4       0\n",
              "       ..\n",
              "4995    1\n",
              "4996    1\n",
              "4997    1\n",
              "4998    1\n",
              "4999    1\n",
              "Name: label, Length: 5000, dtype: int64"
            ]
          },
          "metadata": {},
          "execution_count": 137
        }
      ]
    },
    {
      "cell_type": "markdown",
      "source": [
        "#Test dataset"
      ],
      "metadata": {
        "id": "dZ1LHZSAy6ws"
      }
    },
    {
      "cell_type": "code",
      "source": [
        "test_data = pd.read_csv('/content/Test.csv')\n",
        "test_data"
      ],
      "metadata": {
        "colab": {
          "base_uri": "https://localhost:8080/",
          "height": 424
        },
        "id": "bwaNqW_8y9KX",
        "outputId": "629c209d-8ea6-4c39-8d68-97d8a6c2f437"
      },
      "execution_count": null,
      "outputs": [
        {
          "output_type": "execute_result",
          "data": {
            "text/plain": [
              "        id                                               text  label\n",
              "0        0  I always wrote this series off as being a comp...    NaN\n",
              "1        1  1st watched 12/7/2002 - 3 out of 10(Dir-Steve ...    NaN\n",
              "2        2  This movie was so poorly written and directed ...    NaN\n",
              "3        3  The most interesting thing about Miryang (Secr...    NaN\n",
              "4        4  when i first read about \"berlin am meer\" i did...    NaN\n",
              "...    ...                                                ...    ...\n",
              "4995  4995  This is the kind of picture John Lassiter woul...    NaN\n",
              "4996  4996  A MUST SEE! I saw WHIPPED at a press screening...    NaN\n",
              "4997  4997  NBC should be ashamed. I wouldn't allow my chi...    NaN\n",
              "4998  4998  This movie is a clumsy mishmash of various gho...    NaN\n",
              "4999  4999  Formula movie about the illegitimate son of a ...    NaN\n",
              "\n",
              "[5000 rows x 3 columns]"
            ],
            "text/html": [
              "\n",
              "  <div id=\"df-75d57001-a285-44f8-aa3a-33854b02aed7\">\n",
              "    <div class=\"colab-df-container\">\n",
              "      <div>\n",
              "<style scoped>\n",
              "    .dataframe tbody tr th:only-of-type {\n",
              "        vertical-align: middle;\n",
              "    }\n",
              "\n",
              "    .dataframe tbody tr th {\n",
              "        vertical-align: top;\n",
              "    }\n",
              "\n",
              "    .dataframe thead th {\n",
              "        text-align: right;\n",
              "    }\n",
              "</style>\n",
              "<table border=\"1\" class=\"dataframe\">\n",
              "  <thead>\n",
              "    <tr style=\"text-align: right;\">\n",
              "      <th></th>\n",
              "      <th>id</th>\n",
              "      <th>text</th>\n",
              "      <th>label</th>\n",
              "    </tr>\n",
              "  </thead>\n",
              "  <tbody>\n",
              "    <tr>\n",
              "      <th>0</th>\n",
              "      <td>0</td>\n",
              "      <td>I always wrote this series off as being a comp...</td>\n",
              "      <td>NaN</td>\n",
              "    </tr>\n",
              "    <tr>\n",
              "      <th>1</th>\n",
              "      <td>1</td>\n",
              "      <td>1st watched 12/7/2002 - 3 out of 10(Dir-Steve ...</td>\n",
              "      <td>NaN</td>\n",
              "    </tr>\n",
              "    <tr>\n",
              "      <th>2</th>\n",
              "      <td>2</td>\n",
              "      <td>This movie was so poorly written and directed ...</td>\n",
              "      <td>NaN</td>\n",
              "    </tr>\n",
              "    <tr>\n",
              "      <th>3</th>\n",
              "      <td>3</td>\n",
              "      <td>The most interesting thing about Miryang (Secr...</td>\n",
              "      <td>NaN</td>\n",
              "    </tr>\n",
              "    <tr>\n",
              "      <th>4</th>\n",
              "      <td>4</td>\n",
              "      <td>when i first read about \"berlin am meer\" i did...</td>\n",
              "      <td>NaN</td>\n",
              "    </tr>\n",
              "    <tr>\n",
              "      <th>...</th>\n",
              "      <td>...</td>\n",
              "      <td>...</td>\n",
              "      <td>...</td>\n",
              "    </tr>\n",
              "    <tr>\n",
              "      <th>4995</th>\n",
              "      <td>4995</td>\n",
              "      <td>This is the kind of picture John Lassiter woul...</td>\n",
              "      <td>NaN</td>\n",
              "    </tr>\n",
              "    <tr>\n",
              "      <th>4996</th>\n",
              "      <td>4996</td>\n",
              "      <td>A MUST SEE! I saw WHIPPED at a press screening...</td>\n",
              "      <td>NaN</td>\n",
              "    </tr>\n",
              "    <tr>\n",
              "      <th>4997</th>\n",
              "      <td>4997</td>\n",
              "      <td>NBC should be ashamed. I wouldn't allow my chi...</td>\n",
              "      <td>NaN</td>\n",
              "    </tr>\n",
              "    <tr>\n",
              "      <th>4998</th>\n",
              "      <td>4998</td>\n",
              "      <td>This movie is a clumsy mishmash of various gho...</td>\n",
              "      <td>NaN</td>\n",
              "    </tr>\n",
              "    <tr>\n",
              "      <th>4999</th>\n",
              "      <td>4999</td>\n",
              "      <td>Formula movie about the illegitimate son of a ...</td>\n",
              "      <td>NaN</td>\n",
              "    </tr>\n",
              "  </tbody>\n",
              "</table>\n",
              "<p>5000 rows × 3 columns</p>\n",
              "</div>\n",
              "      <button class=\"colab-df-convert\" onclick=\"convertToInteractive('df-75d57001-a285-44f8-aa3a-33854b02aed7')\"\n",
              "              title=\"Convert this dataframe to an interactive table.\"\n",
              "              style=\"display:none;\">\n",
              "        \n",
              "  <svg xmlns=\"http://www.w3.org/2000/svg\" height=\"24px\"viewBox=\"0 0 24 24\"\n",
              "       width=\"24px\">\n",
              "    <path d=\"M0 0h24v24H0V0z\" fill=\"none\"/>\n",
              "    <path d=\"M18.56 5.44l.94 2.06.94-2.06 2.06-.94-2.06-.94-.94-2.06-.94 2.06-2.06.94zm-11 1L8.5 8.5l.94-2.06 2.06-.94-2.06-.94L8.5 2.5l-.94 2.06-2.06.94zm10 10l.94 2.06.94-2.06 2.06-.94-2.06-.94-.94-2.06-.94 2.06-2.06.94z\"/><path d=\"M17.41 7.96l-1.37-1.37c-.4-.4-.92-.59-1.43-.59-.52 0-1.04.2-1.43.59L10.3 9.45l-7.72 7.72c-.78.78-.78 2.05 0 2.83L4 21.41c.39.39.9.59 1.41.59.51 0 1.02-.2 1.41-.59l7.78-7.78 2.81-2.81c.8-.78.8-2.07 0-2.86zM5.41 20L4 18.59l7.72-7.72 1.47 1.35L5.41 20z\"/>\n",
              "  </svg>\n",
              "      </button>\n",
              "      \n",
              "  <style>\n",
              "    .colab-df-container {\n",
              "      display:flex;\n",
              "      flex-wrap:wrap;\n",
              "      gap: 12px;\n",
              "    }\n",
              "\n",
              "    .colab-df-convert {\n",
              "      background-color: #E8F0FE;\n",
              "      border: none;\n",
              "      border-radius: 50%;\n",
              "      cursor: pointer;\n",
              "      display: none;\n",
              "      fill: #1967D2;\n",
              "      height: 32px;\n",
              "      padding: 0 0 0 0;\n",
              "      width: 32px;\n",
              "    }\n",
              "\n",
              "    .colab-df-convert:hover {\n",
              "      background-color: #E2EBFA;\n",
              "      box-shadow: 0px 1px 2px rgba(60, 64, 67, 0.3), 0px 1px 3px 1px rgba(60, 64, 67, 0.15);\n",
              "      fill: #174EA6;\n",
              "    }\n",
              "\n",
              "    [theme=dark] .colab-df-convert {\n",
              "      background-color: #3B4455;\n",
              "      fill: #D2E3FC;\n",
              "    }\n",
              "\n",
              "    [theme=dark] .colab-df-convert:hover {\n",
              "      background-color: #434B5C;\n",
              "      box-shadow: 0px 1px 3px 1px rgba(0, 0, 0, 0.15);\n",
              "      filter: drop-shadow(0px 1px 2px rgba(0, 0, 0, 0.3));\n",
              "      fill: #FFFFFF;\n",
              "    }\n",
              "  </style>\n",
              "\n",
              "      <script>\n",
              "        const buttonEl =\n",
              "          document.querySelector('#df-75d57001-a285-44f8-aa3a-33854b02aed7 button.colab-df-convert');\n",
              "        buttonEl.style.display =\n",
              "          google.colab.kernel.accessAllowed ? 'block' : 'none';\n",
              "\n",
              "        async function convertToInteractive(key) {\n",
              "          const element = document.querySelector('#df-75d57001-a285-44f8-aa3a-33854b02aed7');\n",
              "          const dataTable =\n",
              "            await google.colab.kernel.invokeFunction('convertToInteractive',\n",
              "                                                     [key], {});\n",
              "          if (!dataTable) return;\n",
              "\n",
              "          const docLinkHtml = 'Like what you see? Visit the ' +\n",
              "            '<a target=\"_blank\" href=https://colab.research.google.com/notebooks/data_table.ipynb>data table notebook</a>'\n",
              "            + ' to learn more about interactive tables.';\n",
              "          element.innerHTML = '';\n",
              "          dataTable['output_type'] = 'display_data';\n",
              "          await google.colab.output.renderOutput(dataTable, element);\n",
              "          const docLink = document.createElement('div');\n",
              "          docLink.innerHTML = docLinkHtml;\n",
              "          element.appendChild(docLink);\n",
              "        }\n",
              "      </script>\n",
              "    </div>\n",
              "  </div>\n",
              "  "
            ]
          },
          "metadata": {},
          "execution_count": 138
        }
      ]
    },
    {
      "cell_type": "markdown",
      "source": [
        "###cleaning the test set"
      ],
      "metadata": {
        "id": "zbVm-Q-3j3b-"
      }
    },
    {
      "cell_type": "code",
      "source": [
        "clean_text_test = []\n",
        "for text in test_data['text']:\n",
        "  new_test = clean_all(text)\n",
        "  clean_text_test.append(new_test)"
      ],
      "metadata": {
        "id": "RaGyOAEuzbVe"
      },
      "execution_count": null,
      "outputs": []
    },
    {
      "cell_type": "code",
      "source": [
        "final_test_dataset = pd.DataFrame({'text':clean_text_test})"
      ],
      "metadata": {
        "id": "CGerbvbbiOq5"
      },
      "execution_count": null,
      "outputs": []
    },
    {
      "cell_type": "code",
      "source": [
        "final_test_dataset"
      ],
      "metadata": {
        "colab": {
          "base_uri": "https://localhost:8080/",
          "height": 424
        },
        "id": "rIprPbUZjFHS",
        "outputId": "28ddec93-a6ea-45e6-eade-76b2679d3831"
      },
      "execution_count": null,
      "outputs": [
        {
          "output_type": "execute_result",
          "data": {
            "text/plain": [
              "                                                   text\n",
              "0     I always wrote series complete stink-fest Jim ...\n",
              "1     st watched // - ( Dir-Steve Purcell ) : Typica...\n",
              "2     This movie poorly written directed I fell asle...\n",
              "3     The interesting thing Miryang ( Secret Sunshin...\n",
              "4     first read `` berlin meer '' expect much . tho...\n",
              "...                                                 ...\n",
              "4995  This kind picture John Lassiter would making t...\n",
              "4996  A MUST SEE ! I saw WHIPPED press screening hil...\n",
              "4997  NBC ashamed . I allow child see this . I defin...\n",
              "4998  This movie clumsy mishmash various ghost-story...\n",
              "4999  Formula movie illegitimate son rich Chilenian ...\n",
              "\n",
              "[5000 rows x 1 columns]"
            ],
            "text/html": [
              "\n",
              "  <div id=\"df-698c69c6-8fcd-426e-8da9-9844dd628336\">\n",
              "    <div class=\"colab-df-container\">\n",
              "      <div>\n",
              "<style scoped>\n",
              "    .dataframe tbody tr th:only-of-type {\n",
              "        vertical-align: middle;\n",
              "    }\n",
              "\n",
              "    .dataframe tbody tr th {\n",
              "        vertical-align: top;\n",
              "    }\n",
              "\n",
              "    .dataframe thead th {\n",
              "        text-align: right;\n",
              "    }\n",
              "</style>\n",
              "<table border=\"1\" class=\"dataframe\">\n",
              "  <thead>\n",
              "    <tr style=\"text-align: right;\">\n",
              "      <th></th>\n",
              "      <th>text</th>\n",
              "    </tr>\n",
              "  </thead>\n",
              "  <tbody>\n",
              "    <tr>\n",
              "      <th>0</th>\n",
              "      <td>I always wrote series complete stink-fest Jim ...</td>\n",
              "    </tr>\n",
              "    <tr>\n",
              "      <th>1</th>\n",
              "      <td>st watched // - ( Dir-Steve Purcell ) : Typica...</td>\n",
              "    </tr>\n",
              "    <tr>\n",
              "      <th>2</th>\n",
              "      <td>This movie poorly written directed I fell asle...</td>\n",
              "    </tr>\n",
              "    <tr>\n",
              "      <th>3</th>\n",
              "      <td>The interesting thing Miryang ( Secret Sunshin...</td>\n",
              "    </tr>\n",
              "    <tr>\n",
              "      <th>4</th>\n",
              "      <td>first read `` berlin meer '' expect much . tho...</td>\n",
              "    </tr>\n",
              "    <tr>\n",
              "      <th>...</th>\n",
              "      <td>...</td>\n",
              "    </tr>\n",
              "    <tr>\n",
              "      <th>4995</th>\n",
              "      <td>This kind picture John Lassiter would making t...</td>\n",
              "    </tr>\n",
              "    <tr>\n",
              "      <th>4996</th>\n",
              "      <td>A MUST SEE ! I saw WHIPPED press screening hil...</td>\n",
              "    </tr>\n",
              "    <tr>\n",
              "      <th>4997</th>\n",
              "      <td>NBC ashamed . I allow child see this . I defin...</td>\n",
              "    </tr>\n",
              "    <tr>\n",
              "      <th>4998</th>\n",
              "      <td>This movie clumsy mishmash various ghost-story...</td>\n",
              "    </tr>\n",
              "    <tr>\n",
              "      <th>4999</th>\n",
              "      <td>Formula movie illegitimate son rich Chilenian ...</td>\n",
              "    </tr>\n",
              "  </tbody>\n",
              "</table>\n",
              "<p>5000 rows × 1 columns</p>\n",
              "</div>\n",
              "      <button class=\"colab-df-convert\" onclick=\"convertToInteractive('df-698c69c6-8fcd-426e-8da9-9844dd628336')\"\n",
              "              title=\"Convert this dataframe to an interactive table.\"\n",
              "              style=\"display:none;\">\n",
              "        \n",
              "  <svg xmlns=\"http://www.w3.org/2000/svg\" height=\"24px\"viewBox=\"0 0 24 24\"\n",
              "       width=\"24px\">\n",
              "    <path d=\"M0 0h24v24H0V0z\" fill=\"none\"/>\n",
              "    <path d=\"M18.56 5.44l.94 2.06.94-2.06 2.06-.94-2.06-.94-.94-2.06-.94 2.06-2.06.94zm-11 1L8.5 8.5l.94-2.06 2.06-.94-2.06-.94L8.5 2.5l-.94 2.06-2.06.94zm10 10l.94 2.06.94-2.06 2.06-.94-2.06-.94-.94-2.06-.94 2.06-2.06.94z\"/><path d=\"M17.41 7.96l-1.37-1.37c-.4-.4-.92-.59-1.43-.59-.52 0-1.04.2-1.43.59L10.3 9.45l-7.72 7.72c-.78.78-.78 2.05 0 2.83L4 21.41c.39.39.9.59 1.41.59.51 0 1.02-.2 1.41-.59l7.78-7.78 2.81-2.81c.8-.78.8-2.07 0-2.86zM5.41 20L4 18.59l7.72-7.72 1.47 1.35L5.41 20z\"/>\n",
              "  </svg>\n",
              "      </button>\n",
              "      \n",
              "  <style>\n",
              "    .colab-df-container {\n",
              "      display:flex;\n",
              "      flex-wrap:wrap;\n",
              "      gap: 12px;\n",
              "    }\n",
              "\n",
              "    .colab-df-convert {\n",
              "      background-color: #E8F0FE;\n",
              "      border: none;\n",
              "      border-radius: 50%;\n",
              "      cursor: pointer;\n",
              "      display: none;\n",
              "      fill: #1967D2;\n",
              "      height: 32px;\n",
              "      padding: 0 0 0 0;\n",
              "      width: 32px;\n",
              "    }\n",
              "\n",
              "    .colab-df-convert:hover {\n",
              "      background-color: #E2EBFA;\n",
              "      box-shadow: 0px 1px 2px rgba(60, 64, 67, 0.3), 0px 1px 3px 1px rgba(60, 64, 67, 0.15);\n",
              "      fill: #174EA6;\n",
              "    }\n",
              "\n",
              "    [theme=dark] .colab-df-convert {\n",
              "      background-color: #3B4455;\n",
              "      fill: #D2E3FC;\n",
              "    }\n",
              "\n",
              "    [theme=dark] .colab-df-convert:hover {\n",
              "      background-color: #434B5C;\n",
              "      box-shadow: 0px 1px 3px 1px rgba(0, 0, 0, 0.15);\n",
              "      filter: drop-shadow(0px 1px 2px rgba(0, 0, 0, 0.3));\n",
              "      fill: #FFFFFF;\n",
              "    }\n",
              "  </style>\n",
              "\n",
              "      <script>\n",
              "        const buttonEl =\n",
              "          document.querySelector('#df-698c69c6-8fcd-426e-8da9-9844dd628336 button.colab-df-convert');\n",
              "        buttonEl.style.display =\n",
              "          google.colab.kernel.accessAllowed ? 'block' : 'none';\n",
              "\n",
              "        async function convertToInteractive(key) {\n",
              "          const element = document.querySelector('#df-698c69c6-8fcd-426e-8da9-9844dd628336');\n",
              "          const dataTable =\n",
              "            await google.colab.kernel.invokeFunction('convertToInteractive',\n",
              "                                                     [key], {});\n",
              "          if (!dataTable) return;\n",
              "\n",
              "          const docLinkHtml = 'Like what you see? Visit the ' +\n",
              "            '<a target=\"_blank\" href=https://colab.research.google.com/notebooks/data_table.ipynb>data table notebook</a>'\n",
              "            + ' to learn more about interactive tables.';\n",
              "          element.innerHTML = '';\n",
              "          dataTable['output_type'] = 'display_data';\n",
              "          await google.colab.output.renderOutput(dataTable, element);\n",
              "          const docLink = document.createElement('div');\n",
              "          docLink.innerHTML = docLinkHtml;\n",
              "          element.appendChild(docLink);\n",
              "        }\n",
              "      </script>\n",
              "    </div>\n",
              "  </div>\n",
              "  "
            ]
          },
          "metadata": {},
          "execution_count": 141
        }
      ]
    },
    {
      "cell_type": "code",
      "source": [
        "text_test = final_test_dataset['text']"
      ],
      "metadata": {
        "id": "bZ5s5eGZ-5K-"
      },
      "execution_count": null,
      "outputs": []
    },
    {
      "cell_type": "code",
      "source": [
        "text_test"
      ],
      "metadata": {
        "colab": {
          "base_uri": "https://localhost:8080/"
        },
        "id": "eBjiJtxP-SaB",
        "outputId": "a47cfcb0-37ac-4a8d-cdf4-c15a3a55693c"
      },
      "execution_count": null,
      "outputs": [
        {
          "output_type": "execute_result",
          "data": {
            "text/plain": [
              "0       I always wrote series complete stink-fest Jim ...\n",
              "1       st watched // - ( Dir-Steve Purcell ) : Typica...\n",
              "2       This movie poorly written directed I fell asle...\n",
              "3       The interesting thing Miryang ( Secret Sunshin...\n",
              "4       first read `` berlin meer '' expect much . tho...\n",
              "                              ...                        \n",
              "4995    This kind picture John Lassiter would making t...\n",
              "4996    A MUST SEE ! I saw WHIPPED press screening hil...\n",
              "4997    NBC ashamed . I allow child see this . I defin...\n",
              "4998    This movie clumsy mishmash various ghost-story...\n",
              "4999    Formula movie illegitimate son rich Chilenian ...\n",
              "Name: text, Length: 5000, dtype: object"
            ]
          },
          "metadata": {},
          "execution_count": 143
        }
      ]
    },
    {
      "cell_type": "markdown",
      "source": [
        "#Modeling\n"
      ],
      "metadata": {
        "id": "G_BBhCOeB4rB"
      }
    },
    {
      "cell_type": "code",
      "source": [
        "x_train = final_train_dataset['text']\n",
        "import numpy as np"
      ],
      "metadata": {
        "id": "CeZMdnHCDCf0"
      },
      "execution_count": null,
      "outputs": []
    },
    {
      "cell_type": "code",
      "source": [
        "max_len= np.max(final_train_dataset['text'].apply(lambda x :len(x)))\n",
        "max_len"
      ],
      "metadata": {
        "colab": {
          "base_uri": "https://localhost:8080/"
        },
        "id": "fJBZRAXtwdDM",
        "outputId": "37af9440-8876-414a-b378-23d28b32078a"
      },
      "execution_count": null,
      "outputs": [
        {
          "output_type": "execute_result",
          "data": {
            "text/plain": [
              "10265"
            ]
          },
          "metadata": {},
          "execution_count": 145
        }
      ]
    },
    {
      "cell_type": "code",
      "source": [
        "max_len_val = np.max(final_val_dataset['text'].apply(lambda x :len(x)))\n",
        "max_len_val"
      ],
      "metadata": {
        "colab": {
          "base_uri": "https://localhost:8080/"
        },
        "id": "Sq6yXVAGGVH-",
        "outputId": "2bb41239-f25a-442a-c7d4-40ca9857f56b"
      },
      "execution_count": null,
      "outputs": [
        {
          "output_type": "execute_result",
          "data": {
            "text/plain": [
              "7314"
            ]
          },
          "metadata": {},
          "execution_count": 146
        }
      ]
    },
    {
      "cell_type": "code",
      "source": [
        "max_len_test = np.max(final_test_dataset['text'].apply(lambda x :len(x)))\n",
        "max_len_test"
      ],
      "metadata": {
        "colab": {
          "base_uri": "https://localhost:8080/"
        },
        "id": "i8RphDxZGdE6",
        "outputId": "ce82004e-f140-460a-d373-57a1fec413c8"
      },
      "execution_count": null,
      "outputs": [
        {
          "output_type": "execute_result",
          "data": {
            "text/plain": [
              "10138"
            ]
          },
          "metadata": {},
          "execution_count": 147
        }
      ]
    },
    {
      "cell_type": "code",
      "source": [
        "import keras\n",
        "tokenizer = keras.preprocessing.text.Tokenizer(oov_token  = '<OOV>')\n"
      ],
      "metadata": {
        "id": "9P-F6J0Owc_7"
      },
      "execution_count": null,
      "outputs": []
    },
    {
      "cell_type": "code",
      "source": [
        "tokenizer.fit_on_texts(x_train)\n",
        "# Is the total vocabulary size + padding token\n",
        "vocab_length = len(tokenizer.word_index) + 1\n",
        "vocab_length"
      ],
      "metadata": {
        "colab": {
          "base_uri": "https://localhost:8080/"
        },
        "id": "4Yf-XqPQYOdl",
        "outputId": "1211e94e-28fe-445a-a15f-aab3731c4565"
      },
      "execution_count": null,
      "outputs": [
        {
          "output_type": "execute_result",
          "data": {
            "text/plain": [
              "92286"
            ]
          },
          "metadata": {},
          "execution_count": 149
        }
      ]
    },
    {
      "cell_type": "code",
      "source": [
        "test_sequences = tokenizer.texts_to_sequences(text_test)\n"
      ],
      "metadata": {
        "id": "RDpWUL-GCOKQ"
      },
      "execution_count": null,
      "outputs": []
    },
    {
      "cell_type": "code",
      "source": [
        "train_sequences = tokenizer.texts_to_sequences(text_train)"
      ],
      "metadata": {
        "id": "tMfpwgYzw7vX"
      },
      "execution_count": null,
      "outputs": []
    },
    {
      "cell_type": "code",
      "source": [
        "val_sequences = tokenizer.texts_to_sequences(text_val)"
      ],
      "metadata": {
        "id": "1LzdRbqAFxX8"
      },
      "execution_count": null,
      "outputs": []
    },
    {
      "cell_type": "code",
      "source": [
        "x_train =  pad_sequences(\n",
        "    sequences=train_sequences,\n",
        "    maxlen=int(max_len_test),\n",
        "    padding=\"pre\",\n",
        "    truncating=\"pre\",\n",
        "    value=0\n",
        ")"
      ],
      "metadata": {
        "id": "jCqRTw4uw7sm"
      },
      "execution_count": null,
      "outputs": []
    },
    {
      "cell_type": "code",
      "source": [
        "x_val =  pad_sequences(\n",
        "    sequences=val_sequences,\n",
        "    maxlen=int(max_len_test),\n",
        "    padding=\"pre\",\n",
        "    truncating=\"pre\",\n",
        "    value=0\n",
        ")"
      ],
      "metadata": {
        "id": "92BbXE43Fsx3"
      },
      "execution_count": null,
      "outputs": []
    },
    {
      "cell_type": "code",
      "source": [
        "x_test = pad_sequences(\n",
        "    sequences=test_sequences,\n",
        "    maxlen=int(max_len_test),\n",
        "    padding=\"pre\",\n",
        "    truncating=\"pre\",\n",
        "    value=0\n",
        ")"
      ],
      "metadata": {
        "id": "qeFWV4hkCICr"
      },
      "execution_count": null,
      "outputs": []
    },
    {
      "cell_type": "code",
      "source": [
        "from keras.utils import to_categorical\n",
        "y_train = to_categorical(y_train,2)\n"
      ],
      "metadata": {
        "id": "ahRe1ROi_gAZ"
      },
      "execution_count": null,
      "outputs": []
    },
    {
      "cell_type": "code",
      "source": [
        "y_train"
      ],
      "metadata": {
        "colab": {
          "base_uri": "https://localhost:8080/"
        },
        "id": "YK9Sia9QysXi",
        "outputId": "822cd40a-3882-4c82-b6bd-fbef3ce2bd18"
      },
      "execution_count": null,
      "outputs": [
        {
          "output_type": "execute_result",
          "data": {
            "text/plain": [
              "array([[1., 0.],\n",
              "       [1., 0.],\n",
              "       [1., 0.],\n",
              "       ...,\n",
              "       [1., 0.],\n",
              "       [0., 1.],\n",
              "       [0., 1.]], dtype=float32)"
            ]
          },
          "metadata": {},
          "execution_count": 157
        }
      ]
    },
    {
      "cell_type": "code",
      "execution_count": null,
      "metadata": {
        "id": "46yhiRc4emXX"
      },
      "outputs": [],
      "source": [
        "embedding_dim = 16"
      ]
    },
    {
      "cell_type": "code",
      "source": [
        "X_Train, X_Test, Y_Train, Y_Test = train_test_split(x_train, y_train, test_size=0.2, random_state=42 ,stratify=y_train)\n"
      ],
      "metadata": {
        "id": "rAlKxbrQAjYJ"
      },
      "execution_count": null,
      "outputs": []
    },
    {
      "cell_type": "markdown",
      "source": [
        "#LSTM"
      ],
      "metadata": {
        "id": "LL4Flg2BaER_"
      }
    },
    {
      "cell_type": "code",
      "source": [
        "# recurrent activation --> 88 accuracy withoue dropout\n",
        "# without recurrent activation and with dropout --> 89 accuracy and without dropout 88\n"
      ],
      "metadata": {
        "id": "YQ1vpdewKHZE"
      },
      "execution_count": null,
      "outputs": []
    },
    {
      "cell_type": "code",
      "source": [
        "lstm = tf.keras.Sequential([\n",
        "    tf.keras.layers.Embedding(vocab_length, embedding_dim, input_length=max_len_test),\n",
        "    tf.keras.layers.LSTM(units=64, activation='tanh', return_sequences=False),  #recurrent_activation='sigmoid'\n",
        "    tf.keras.layers.Dropout(0.2),\n",
        "    tf.keras.layers.Dense(2, activation='softmax') #sigmoid, softmax\n",
        "])\n",
        "opt = tf.keras.optimizers.Adam(learning_rate=0.01)\n",
        "lstm.compile(loss='binary_crossentropy',optimizer=\"adam\",metrics=['accuracy'])\n",
        "lstm.fit(X_Train,Y_Train, batch_size=64, epochs=2,validation_data=(X_Test, Y_Test)) #batch_size=64"
      ],
      "metadata": {
        "colab": {
          "base_uri": "https://localhost:8080/"
        },
        "id": "0f1ByU_yrTVs",
        "outputId": "c7c82218-4ebf-44f1-f892-890be031e77d"
      },
      "execution_count": null,
      "outputs": [
        {
          "output_type": "stream",
          "name": "stdout",
          "text": [
            "Epoch 1/2\n",
            "500/500 [==============================] - 154s 305ms/step - loss: 0.4627 - accuracy: 0.7850 - val_loss: 0.2971 - val_accuracy: 0.8784\n",
            "Epoch 2/2\n",
            "500/500 [==============================] - 151s 302ms/step - loss: 0.2105 - accuracy: 0.9226 - val_loss: 0.2845 - val_accuracy: 0.8880\n"
          ]
        },
        {
          "output_type": "execute_result",
          "data": {
            "text/plain": [
              "<keras.callbacks.History at 0x7f9116fd46d0>"
            ]
          },
          "metadata": {},
          "execution_count": 161
        }
      ]
    },
    {
      "cell_type": "code",
      "source": [
        "# tensorboard_callback = tf.keras.callbacks.TensorBoard(log_dir=\"logs\",histogram_freq=1)\n",
        "# lstm.compile(optimizer='adam',\n",
        "#               loss=tf.keras.losses.BinaryCrossentropy(from_logits=True),\n",
        "#               metrics=['accuracy'])"
      ],
      "metadata": {
        "id": "HqXNX9-W_pKL"
      },
      "execution_count": null,
      "outputs": []
    },
    {
      "cell_type": "code",
      "source": [
        "# lstm.fit(X_Train,Y_Train, batch_size=64, epochs=4, callbacks=[tensorboard_callback] ,validation_data=(X_Test, Y_Test))"
      ],
      "metadata": {
        "colab": {
          "base_uri": "https://localhost:8080/"
        },
        "id": "ElPa4o2D_9_7",
        "outputId": "26e44b91-1fcd-44d1-8aeb-59834db19075"
      },
      "execution_count": null,
      "outputs": [
        {
          "output_type": "stream",
          "name": "stdout",
          "text": [
            "Epoch 1/4\n",
            "500/500 [==============================] - 139s 275ms/step - loss: 0.3874 - accuracy: 0.8231 - val_loss: 0.2951 - val_accuracy: 0.8771\n",
            "Epoch 2/4\n",
            "500/500 [==============================] - 143s 287ms/step - loss: 0.1690 - accuracy: 0.9405 - val_loss: 0.2910 - val_accuracy: 0.8798\n",
            "Epoch 3/4\n",
            "500/500 [==============================] - 143s 285ms/step - loss: 0.0859 - accuracy: 0.9732 - val_loss: 0.3811 - val_accuracy: 0.8754\n",
            "Epoch 4/4\n",
            "500/500 [==============================] - 143s 286ms/step - loss: 0.0464 - accuracy: 0.9858 - val_loss: 0.5203 - val_accuracy: 0.8694\n"
          ]
        },
        {
          "output_type": "execute_result",
          "data": {
            "text/plain": [
              "<keras.callbacks.History at 0x7fdcda1d9990>"
            ]
          },
          "metadata": {},
          "execution_count": 98
        }
      ]
    },
    {
      "cell_type": "markdown",
      "source": [
        "####evaluation"
      ],
      "metadata": {
        "id": "UANPYhzNtHfW"
      }
    },
    {
      "cell_type": "code",
      "source": [
        "predictions_val = np.argmax(lstm.predict(x_val), axis=1)"
      ],
      "metadata": {
        "colab": {
          "base_uri": "https://localhost:8080/"
        },
        "id": "sFVJGvJNQ5SO",
        "outputId": "90ae8017-22a1-469e-9bbe-468e4f0d641b"
      },
      "execution_count": null,
      "outputs": [
        {
          "output_type": "stream",
          "name": "stdout",
          "text": [
            "157/157 [==============================] - 17s 104ms/step\n"
          ]
        }
      ]
    },
    {
      "cell_type": "code",
      "source": [
        "print(classification_report(y_val, predictions_val))"
      ],
      "metadata": {
        "colab": {
          "base_uri": "https://localhost:8080/"
        },
        "id": "NyetLAluQkSZ",
        "outputId": "cb87d3fd-1f18-4998-fcbb-607f907dd4ba"
      },
      "execution_count": null,
      "outputs": [
        {
          "output_type": "stream",
          "name": "stdout",
          "text": [
            "              precision    recall  f1-score   support\n",
            "\n",
            "           0       0.88      0.91      0.89      2486\n",
            "           1       0.91      0.87      0.89      2514\n",
            "\n",
            "    accuracy                           0.89      5000\n",
            "   macro avg       0.89      0.89      0.89      5000\n",
            "weighted avg       0.89      0.89      0.89      5000\n",
            "\n"
          ]
        }
      ]
    },
    {
      "cell_type": "code",
      "source": [
        "predictions = np.argmax(lstm.predict(x_test), axis=1)\n"
      ],
      "metadata": {
        "colab": {
          "base_uri": "https://localhost:8080/"
        },
        "id": "OYFr9LLA7nLs",
        "outputId": "85c7b8b5-8c76-4b9b-8a48-9d820c9f34ea"
      },
      "execution_count": null,
      "outputs": [
        {
          "output_type": "stream",
          "name": "stdout",
          "text": [
            "157/157 [==============================] - 17s 107ms/step\n"
          ]
        }
      ]
    },
    {
      "cell_type": "code",
      "source": [
        "predictions"
      ],
      "metadata": {
        "colab": {
          "base_uri": "https://localhost:8080/"
        },
        "id": "bIH41bMI7781",
        "outputId": "b9e0222b-5a85-4dcd-bc84-f67448f18046"
      },
      "execution_count": null,
      "outputs": [
        {
          "output_type": "execute_result",
          "data": {
            "text/plain": [
              "array([0, 0, 0, ..., 0, 0, 0])"
            ]
          },
          "metadata": {},
          "execution_count": 88
        }
      ]
    },
    {
      "cell_type": "code",
      "source": [
        "submission = pd.DataFrame({'id':test_data['id'], 'label':predictions})"
      ],
      "metadata": {
        "id": "DK396Cpc8w8r"
      },
      "execution_count": null,
      "outputs": []
    },
    {
      "cell_type": "code",
      "source": [],
      "metadata": {
        "id": "REi9OmhpBMRK"
      },
      "execution_count": null,
      "outputs": []
    },
    {
      "cell_type": "code",
      "source": [
        "submission"
      ],
      "metadata": {
        "colab": {
          "base_uri": "https://localhost:8080/",
          "height": 424
        },
        "id": "s3ldSNW39NCS",
        "outputId": "5a04a5f2-a651-41b0-aedd-603617ecd393"
      },
      "execution_count": null,
      "outputs": [
        {
          "output_type": "execute_result",
          "data": {
            "text/plain": [
              "        id  label\n",
              "0        0      0\n",
              "1        1      0\n",
              "2        2      0\n",
              "3        3      1\n",
              "4        4      0\n",
              "...    ...    ...\n",
              "4995  4995      1\n",
              "4996  4996      1\n",
              "4997  4997      0\n",
              "4998  4998      0\n",
              "4999  4999      0\n",
              "\n",
              "[5000 rows x 2 columns]"
            ],
            "text/html": [
              "\n",
              "  <div id=\"df-22f52f7d-23af-498a-bde5-22176eb4c0c5\">\n",
              "    <div class=\"colab-df-container\">\n",
              "      <div>\n",
              "<style scoped>\n",
              "    .dataframe tbody tr th:only-of-type {\n",
              "        vertical-align: middle;\n",
              "    }\n",
              "\n",
              "    .dataframe tbody tr th {\n",
              "        vertical-align: top;\n",
              "    }\n",
              "\n",
              "    .dataframe thead th {\n",
              "        text-align: right;\n",
              "    }\n",
              "</style>\n",
              "<table border=\"1\" class=\"dataframe\">\n",
              "  <thead>\n",
              "    <tr style=\"text-align: right;\">\n",
              "      <th></th>\n",
              "      <th>id</th>\n",
              "      <th>label</th>\n",
              "    </tr>\n",
              "  </thead>\n",
              "  <tbody>\n",
              "    <tr>\n",
              "      <th>0</th>\n",
              "      <td>0</td>\n",
              "      <td>0</td>\n",
              "    </tr>\n",
              "    <tr>\n",
              "      <th>1</th>\n",
              "      <td>1</td>\n",
              "      <td>0</td>\n",
              "    </tr>\n",
              "    <tr>\n",
              "      <th>2</th>\n",
              "      <td>2</td>\n",
              "      <td>0</td>\n",
              "    </tr>\n",
              "    <tr>\n",
              "      <th>3</th>\n",
              "      <td>3</td>\n",
              "      <td>1</td>\n",
              "    </tr>\n",
              "    <tr>\n",
              "      <th>4</th>\n",
              "      <td>4</td>\n",
              "      <td>0</td>\n",
              "    </tr>\n",
              "    <tr>\n",
              "      <th>...</th>\n",
              "      <td>...</td>\n",
              "      <td>...</td>\n",
              "    </tr>\n",
              "    <tr>\n",
              "      <th>4995</th>\n",
              "      <td>4995</td>\n",
              "      <td>1</td>\n",
              "    </tr>\n",
              "    <tr>\n",
              "      <th>4996</th>\n",
              "      <td>4996</td>\n",
              "      <td>1</td>\n",
              "    </tr>\n",
              "    <tr>\n",
              "      <th>4997</th>\n",
              "      <td>4997</td>\n",
              "      <td>0</td>\n",
              "    </tr>\n",
              "    <tr>\n",
              "      <th>4998</th>\n",
              "      <td>4998</td>\n",
              "      <td>0</td>\n",
              "    </tr>\n",
              "    <tr>\n",
              "      <th>4999</th>\n",
              "      <td>4999</td>\n",
              "      <td>0</td>\n",
              "    </tr>\n",
              "  </tbody>\n",
              "</table>\n",
              "<p>5000 rows × 2 columns</p>\n",
              "</div>\n",
              "      <button class=\"colab-df-convert\" onclick=\"convertToInteractive('df-22f52f7d-23af-498a-bde5-22176eb4c0c5')\"\n",
              "              title=\"Convert this dataframe to an interactive table.\"\n",
              "              style=\"display:none;\">\n",
              "        \n",
              "  <svg xmlns=\"http://www.w3.org/2000/svg\" height=\"24px\"viewBox=\"0 0 24 24\"\n",
              "       width=\"24px\">\n",
              "    <path d=\"M0 0h24v24H0V0z\" fill=\"none\"/>\n",
              "    <path d=\"M18.56 5.44l.94 2.06.94-2.06 2.06-.94-2.06-.94-.94-2.06-.94 2.06-2.06.94zm-11 1L8.5 8.5l.94-2.06 2.06-.94-2.06-.94L8.5 2.5l-.94 2.06-2.06.94zm10 10l.94 2.06.94-2.06 2.06-.94-2.06-.94-.94-2.06-.94 2.06-2.06.94z\"/><path d=\"M17.41 7.96l-1.37-1.37c-.4-.4-.92-.59-1.43-.59-.52 0-1.04.2-1.43.59L10.3 9.45l-7.72 7.72c-.78.78-.78 2.05 0 2.83L4 21.41c.39.39.9.59 1.41.59.51 0 1.02-.2 1.41-.59l7.78-7.78 2.81-2.81c.8-.78.8-2.07 0-2.86zM5.41 20L4 18.59l7.72-7.72 1.47 1.35L5.41 20z\"/>\n",
              "  </svg>\n",
              "      </button>\n",
              "      \n",
              "  <style>\n",
              "    .colab-df-container {\n",
              "      display:flex;\n",
              "      flex-wrap:wrap;\n",
              "      gap: 12px;\n",
              "    }\n",
              "\n",
              "    .colab-df-convert {\n",
              "      background-color: #E8F0FE;\n",
              "      border: none;\n",
              "      border-radius: 50%;\n",
              "      cursor: pointer;\n",
              "      display: none;\n",
              "      fill: #1967D2;\n",
              "      height: 32px;\n",
              "      padding: 0 0 0 0;\n",
              "      width: 32px;\n",
              "    }\n",
              "\n",
              "    .colab-df-convert:hover {\n",
              "      background-color: #E2EBFA;\n",
              "      box-shadow: 0px 1px 2px rgba(60, 64, 67, 0.3), 0px 1px 3px 1px rgba(60, 64, 67, 0.15);\n",
              "      fill: #174EA6;\n",
              "    }\n",
              "\n",
              "    [theme=dark] .colab-df-convert {\n",
              "      background-color: #3B4455;\n",
              "      fill: #D2E3FC;\n",
              "    }\n",
              "\n",
              "    [theme=dark] .colab-df-convert:hover {\n",
              "      background-color: #434B5C;\n",
              "      box-shadow: 0px 1px 3px 1px rgba(0, 0, 0, 0.15);\n",
              "      filter: drop-shadow(0px 1px 2px rgba(0, 0, 0, 0.3));\n",
              "      fill: #FFFFFF;\n",
              "    }\n",
              "  </style>\n",
              "\n",
              "      <script>\n",
              "        const buttonEl =\n",
              "          document.querySelector('#df-22f52f7d-23af-498a-bde5-22176eb4c0c5 button.colab-df-convert');\n",
              "        buttonEl.style.display =\n",
              "          google.colab.kernel.accessAllowed ? 'block' : 'none';\n",
              "\n",
              "        async function convertToInteractive(key) {\n",
              "          const element = document.querySelector('#df-22f52f7d-23af-498a-bde5-22176eb4c0c5');\n",
              "          const dataTable =\n",
              "            await google.colab.kernel.invokeFunction('convertToInteractive',\n",
              "                                                     [key], {});\n",
              "          if (!dataTable) return;\n",
              "\n",
              "          const docLinkHtml = 'Like what you see? Visit the ' +\n",
              "            '<a target=\"_blank\" href=https://colab.research.google.com/notebooks/data_table.ipynb>data table notebook</a>'\n",
              "            + ' to learn more about interactive tables.';\n",
              "          element.innerHTML = '';\n",
              "          dataTable['output_type'] = 'display_data';\n",
              "          await google.colab.output.renderOutput(dataTable, element);\n",
              "          const docLink = document.createElement('div');\n",
              "          docLink.innerHTML = docLinkHtml;\n",
              "          element.appendChild(docLink);\n",
              "        }\n",
              "      </script>\n",
              "    </div>\n",
              "  </div>\n",
              "  "
            ]
          },
          "metadata": {},
          "execution_count": 90
        }
      ]
    },
    {
      "cell_type": "code",
      "source": [
        "from google.colab import files\n",
        "\n",
        "submission.to_csv('submission.csv', encoding = 'utf-8-sig', index=False,header = 1)\n",
        "files.download('submission.csv')"
      ],
      "metadata": {
        "colab": {
          "base_uri": "https://localhost:8080/",
          "height": 17
        },
        "id": "u2wW3Orn9PMB",
        "outputId": "44dd8c78-8638-4566-a609-d9b593ef41c3"
      },
      "execution_count": null,
      "outputs": [
        {
          "output_type": "display_data",
          "data": {
            "text/plain": [
              "<IPython.core.display.Javascript object>"
            ],
            "application/javascript": [
              "\n",
              "    async function download(id, filename, size) {\n",
              "      if (!google.colab.kernel.accessAllowed) {\n",
              "        return;\n",
              "      }\n",
              "      const div = document.createElement('div');\n",
              "      const label = document.createElement('label');\n",
              "      label.textContent = `Downloading \"${filename}\": `;\n",
              "      div.appendChild(label);\n",
              "      const progress = document.createElement('progress');\n",
              "      progress.max = size;\n",
              "      div.appendChild(progress);\n",
              "      document.body.appendChild(div);\n",
              "\n",
              "      const buffers = [];\n",
              "      let downloaded = 0;\n",
              "\n",
              "      const channel = await google.colab.kernel.comms.open(id);\n",
              "      // Send a message to notify the kernel that we're ready.\n",
              "      channel.send({})\n",
              "\n",
              "      for await (const message of channel.messages) {\n",
              "        // Send a message to notify the kernel that we're ready.\n",
              "        channel.send({})\n",
              "        if (message.buffers) {\n",
              "          for (const buffer of message.buffers) {\n",
              "            buffers.push(buffer);\n",
              "            downloaded += buffer.byteLength;\n",
              "            progress.value = downloaded;\n",
              "          }\n",
              "        }\n",
              "      }\n",
              "      const blob = new Blob(buffers, {type: 'application/binary'});\n",
              "      const a = document.createElement('a');\n",
              "      a.href = window.URL.createObjectURL(blob);\n",
              "      a.download = filename;\n",
              "      div.appendChild(a);\n",
              "      a.click();\n",
              "      div.remove();\n",
              "    }\n",
              "  "
            ]
          },
          "metadata": {}
        },
        {
          "output_type": "display_data",
          "data": {
            "text/plain": [
              "<IPython.core.display.Javascript object>"
            ],
            "application/javascript": [
              "download(\"download_cbb2f363-b755-44f0-ae58-3fb301e0a34d\", \"submission.csv\", 33902)"
            ]
          },
          "metadata": {}
        }
      ]
    },
    {
      "cell_type": "markdown",
      "source": [
        "#GRU"
      ],
      "metadata": {
        "id": "SFhyXe_ravrG"
      }
    },
    {
      "cell_type": "code",
      "source": [
        "# num_words = 10000\n",
        "review = final_train_dataset['text']\n",
        "\n",
        "tokenizer = Tokenizer(num_words=vocab_length)\n",
        "tokenizer.fit_on_texts(review)\n",
        "\n",
        "sequence = tokenizer.texts_to_sequences(review)"
      ],
      "metadata": {
        "id": "PlPoxJHEfXrE"
      },
      "execution_count": null,
      "outputs": []
    },
    {
      "cell_type": "code",
      "source": [
        "inputs = pad_sequences(sequence, maxlen=max_len_test, padding='post')"
      ],
      "metadata": {
        "id": "nb-LJM0LeacX"
      },
      "execution_count": null,
      "outputs": []
    },
    {
      "cell_type": "code",
      "source": [
        "inputs = tf.keras.Input(shape=(max_len_test,))\n",
        "\n",
        "embedding = tf.keras.layers.Embedding(\n",
        "    input_dim = vocab_length,\n",
        "    output_dim = embedding_dim,\n",
        "    input_length = max_len_test\n",
        ")(inputs)\n",
        "\n",
        "gru = tf.keras.layers.Bidirectional(\n",
        "    tf.keras.layers.GRU(64, return_sequences=True)\n",
        ")(embedding)\n",
        "\n",
        "flatten = tf.keras.layers.Flatten()(gru)\n",
        "outputs = tf.keras.layers.Dense(2, activation='softmax')(flatten)\n",
        "model = tf.keras.Model(inputs, outputs)\n",
        "\n",
        "tf.keras.utils.plot_model(model)"
      ],
      "metadata": {
        "colab": {
          "base_uri": "https://localhost:8080/",
          "height": 466
        },
        "id": "5p_XUkhq9uxE",
        "outputId": "a7139bc7-54d7-4846-dbca-917cd768987f"
      },
      "execution_count": null,
      "outputs": [
        {
          "output_type": "execute_result",
          "data": {
            "image/png": "[encoded data removed]",
            "text/plain": [
              "<IPython.core.display.Image object>"
            ]
          },
          "metadata": {},
          "execution_count": 166
        }
      ]
    },
    {
      "cell_type": "code",
      "source": [
        "# def scheduler(epoch, lr):\n",
        "#   if epoch < 2:\n",
        "#     return lr\n",
        "#   else:\n",
        "#     return lr * tf.math.exp(-0.1)\n",
        "\n",
        "\n",
        "# callback = tf.keras.callbacks.LearningRateScheduler(scheduler)"
      ],
      "metadata": {
        "id": "EUeQyXesU_R7"
      },
      "execution_count": null,
      "outputs": []
    },
    {
      "cell_type": "code",
      "source": [
        "opt = tf.keras.optimizers.Adam(learning_rate=0.1)\n",
        "model.compile(\n",
        "    optimizer = 'adam',\n",
        "    loss = 'binary_crossentropy',\n",
        "    metrics = ['accuracy' ],\n",
        ")\n"
      ],
      "metadata": {
        "id": "D13jQ3kB99UR"
      },
      "execution_count": null,
      "outputs": []
    },
    {
      "cell_type": "code",
      "source": [
        "history = model.fit(\n",
        "    X_Train,\n",
        "    Y_Train,\n",
        "    validation_split = 0.2,\n",
        "    batch_size=64,\n",
        "    epochs = 2,\n",
        "    # callbacks=[callback]\n",
        ")"
      ],
      "metadata": {
        "colab": {
          "base_uri": "https://localhost:8080/"
        },
        "id": "V8WiXCaYVpcF",
        "outputId": "206764d5-6d95-45ee-9ae1-ef99f0e8de54"
      },
      "execution_count": null,
      "outputs": [
        {
          "output_type": "stream",
          "name": "stdout",
          "text": [
            "Epoch 1/2\n",
            "400/400 [==============================] - 264s 654ms/step - loss: 0.4470 - accuracy: 0.8003 - val_loss: 0.2864 - val_accuracy: 0.8794\n",
            "Epoch 2/2\n",
            "400/400 [==============================] - 265s 664ms/step - loss: 0.1588 - accuracy: 0.9418 - val_loss: 0.2734 - val_accuracy: 0.8913\n"
          ]
        }
      ]
    },
    {
      "cell_type": "code",
      "source": [
        "pred_val_gru = np.argmax(model.predict(x_val), axis=1)"
      ],
      "metadata": {
        "colab": {
          "base_uri": "https://localhost:8080/"
        },
        "id": "oeL9KI4nq7DY",
        "outputId": "4f37feeb-73af-41ea-c660-db8447fa6b3f"
      },
      "execution_count": null,
      "outputs": [
        {
          "output_type": "stream",
          "name": "stdout",
          "text": [
            "157/157 [==============================] - 38s 239ms/step\n"
          ]
        }
      ]
    },
    {
      "cell_type": "code",
      "source": [
        "print(classification_report(y_val, pred_val_gru))"
      ],
      "metadata": {
        "colab": {
          "base_uri": "https://localhost:8080/"
        },
        "id": "XCHL6AjtrTHx",
        "outputId": "50ded9d4-0827-48b6-e53c-ebc7f6fc5978"
      },
      "execution_count": null,
      "outputs": [
        {
          "output_type": "stream",
          "name": "stdout",
          "text": [
            "              precision    recall  f1-score   support\n",
            "\n",
            "           0       0.90      0.86      0.88      2486\n",
            "           1       0.87      0.91      0.89      2514\n",
            "\n",
            "    accuracy                           0.89      5000\n",
            "   macro avg       0.89      0.89      0.89      5000\n",
            "weighted avg       0.89      0.89      0.89      5000\n",
            "\n"
          ]
        }
      ]
    },
    {
      "cell_type": "code",
      "source": [
        "predictions_gru = np.argmax(model.predict(x_test), axis=1)\n"
      ],
      "metadata": {
        "colab": {
          "base_uri": "https://localhost:8080/"
        },
        "outputId": "7888a306-f40c-404e-bb16-72fbe417c5a8",
        "id": "zUglNZSZQyAd"
      },
      "execution_count": null,
      "outputs": [
        {
          "output_type": "stream",
          "name": "stdout",
          "text": [
            "157/157 [==============================] - 36s 229ms/step\n"
          ]
        }
      ]
    },
    {
      "cell_type": "code",
      "source": [
        "predictions_gru"
      ],
      "metadata": {
        "colab": {
          "base_uri": "https://localhost:8080/"
        },
        "outputId": "041177cf-aa27-4b91-8926-b6b0014a3a0f",
        "id": "aT5T7TO7QyAe"
      },
      "execution_count": null,
      "outputs": [
        {
          "output_type": "execute_result",
          "data": {
            "text/plain": [
              "array([1, 1, 0, ..., 0, 0, 0])"
            ]
          },
          "metadata": {},
          "execution_count": 205
        }
      ]
    },
    {
      "cell_type": "code",
      "source": [
        "submission_gru = pd.DataFrame({'id':test_data['id'], 'label':predictions_gru})"
      ],
      "metadata": {
        "id": "eoMthpfWQyAf"
      },
      "execution_count": null,
      "outputs": []
    },
    {
      "cell_type": "code",
      "source": [
        "submission_gru.to_csv('submission_gru.csv', encoding = 'utf-8-sig', index=False,header = 1)\n",
        "files.download('submission_gru.csv')"
      ],
      "metadata": {
        "id": "nkaL3MgyrbE1",
        "colab": {
          "base_uri": "https://localhost:8080/",
          "height": 17
        },
        "outputId": "ec60df1f-96c0-4c97-ba85-c2d6f6293e04"
      },
      "execution_count": null,
      "outputs": [
        {
          "output_type": "display_data",
          "data": {
            "text/plain": [
              "<IPython.core.display.Javascript object>"
            ],
            "application/javascript": [
              "\n",
              "    async function download(id, filename, size) {\n",
              "      if (!google.colab.kernel.accessAllowed) {\n",
              "        return;\n",
              "      }\n",
              "      const div = document.createElement('div');\n",
              "      const label = document.createElement('label');\n",
              "      label.textContent = `Downloading \"${filename}\": `;\n",
              "      div.appendChild(label);\n",
              "      const progress = document.createElement('progress');\n",
              "      progress.max = size;\n",
              "      div.appendChild(progress);\n",
              "      document.body.appendChild(div);\n",
              "\n",
              "      const buffers = [];\n",
              "      let downloaded = 0;\n",
              "\n",
              "      const channel = await google.colab.kernel.comms.open(id);\n",
              "      // Send a message to notify the kernel that we're ready.\n",
              "      channel.send({})\n",
              "\n",
              "      for await (const message of channel.messages) {\n",
              "        // Send a message to notify the kernel that we're ready.\n",
              "        channel.send({})\n",
              "        if (message.buffers) {\n",
              "          for (const buffer of message.buffers) {\n",
              "            buffers.push(buffer);\n",
              "            downloaded += buffer.byteLength;\n",
              "            progress.value = downloaded;\n",
              "          }\n",
              "        }\n",
              "      }\n",
              "      const blob = new Blob(buffers, {type: 'application/binary'});\n",
              "      const a = document.createElement('a');\n",
              "      a.href = window.URL.createObjectURL(blob);\n",
              "      a.download = filename;\n",
              "      div.appendChild(a);\n",
              "      a.click();\n",
              "      div.remove();\n",
              "    }\n",
              "  "
            ]
          },
          "metadata": {}
        },
        {
          "output_type": "display_data",
          "data": {
            "text/plain": [
              "<IPython.core.display.Javascript object>"
            ],
            "application/javascript": [
              "download(\"download_efe61907-e99d-4d3f-b658-cb82b170260e\", \"submission_gru.csv\", 33902)"
            ]
          },
          "metadata": {}
        }
      ]
    },
    {
      "cell_type": "markdown",
      "source": [
        "#CNN for text classification\n"
      ],
      "metadata": {
        "id": "jEVFeemqIaE-"
      }
    },
    {
      "cell_type": "code",
      "source": [
        "from sklearn.model_selection import train_test_split\n",
        "review = final_train_dataset['text'].values\n",
        "label = final_train_dataset['Label'].values\n",
        "review_train, review_test, label_train, label_test = train_test_split(review, label, test_size=0.20, random_state=100)"
      ],
      "metadata": {
        "id": "8W31lVI6RW32"
      },
      "execution_count": null,
      "outputs": []
    },
    {
      "cell_type": "code",
      "source": [
        "from sklearn.feature_extraction.text import CountVectorizer\n",
        "\n",
        "review_vectorizer = CountVectorizer()\n",
        "review_vectorizer.fit(review_train)\n",
        "Xlr_train = review_vectorizer.transform(review_train)\n",
        "Xlr_test  = review_vectorizer.transform(review_test)\n",
        "Xlr_train"
      ],
      "metadata": {
        "colab": {
          "base_uri": "https://localhost:8080/"
        },
        "id": "J9_ivGJQI2X2",
        "outputId": "d93ec8c5-e5b4-495d-b62f-4276a7c99c15"
      },
      "execution_count": null,
      "outputs": [
        {
          "output_type": "execute_result",
          "data": {
            "text/plain": [
              "<32000x78967 sparse matrix of type '<class 'numpy.int64'>'\n",
              "\twith 3342755 stored elements in Compressed Sparse Row format>"
            ]
          },
          "metadata": {},
          "execution_count": 174
        }
      ]
    },
    {
      "cell_type": "markdown",
      "source": [
        "###Logistic regression"
      ],
      "metadata": {
        "id": "m7RwFFF-28j_"
      }
    },
    {
      "cell_type": "code",
      "source": [
        "from sklearn.linear_model import LogisticRegression\n",
        "LRmodel = LogisticRegression()\n",
        "LRmodel.fit(Xlr_train, label_train)\n",
        "score = LRmodel.score(Xlr_test, label_test)\n",
        "print(\"Accuracy:\", score)\n"
      ],
      "metadata": {
        "colab": {
          "base_uri": "https://localhost:8080/"
        },
        "id": "we0MzZOUKTjs",
        "outputId": "244d1139-757c-481e-969d-7aaed8d56c41"
      },
      "execution_count": null,
      "outputs": [
        {
          "output_type": "stream",
          "name": "stdout",
          "text": [
            "Accuracy: 0.882125\n"
          ]
        },
        {
          "output_type": "stream",
          "name": "stderr",
          "text": [
            "/usr/local/lib/python3.7/dist-packages/sklearn/linear_model/_logistic.py:818: ConvergenceWarning: lbfgs failed to converge (status=1):\n",
            "STOP: TOTAL NO. of ITERATIONS REACHED LIMIT.\n",
            "\n",
            "Increase the number of iterations (max_iter) or scale the data as shown in:\n",
            "    https://scikit-learn.org/stable/modules/preprocessing.html\n",
            "Please also refer to the documentation for alternative solver options:\n",
            "    https://scikit-learn.org/stable/modules/linear_model.html#logistic-regression\n",
            "  extra_warning_msg=_LOGISTIC_SOLVER_CONVERGENCE_MSG,\n"
          ]
        }
      ]
    },
    {
      "cell_type": "code",
      "source": [
        "# from keras.preprocessing.text import Tokenizer\n",
        "# tokenizer = Tokenizer(num_words=5000)\n",
        "# tokenizer.fit_on_texts(review_train)\n",
        "# Xcnn_train = tokenizer.texts_to_sequences(review_train)\n",
        "# Xcnn_test = tokenizer.texts_to_sequences(review_test)\n"
      ],
      "metadata": {
        "id": "04CppMi_KZyU"
      },
      "execution_count": null,
      "outputs": []
    },
    {
      "cell_type": "code",
      "source": [
        "test_sequences = tokenizer.texts_to_sequences(text_test)"
      ],
      "metadata": {
        "id": "aSp0wAOH352t"
      },
      "execution_count": null,
      "outputs": []
    },
    {
      "cell_type": "code",
      "source": [
        "train_sequences = tokenizer.texts_to_sequences(text_train)"
      ],
      "metadata": {
        "id": "ZzPMumFj353D"
      },
      "execution_count": null,
      "outputs": []
    },
    {
      "cell_type": "code",
      "source": [
        "val_sequences = tokenizer.texts_to_sequences(text_val)"
      ],
      "metadata": {
        "id": "erMFWmnY353E"
      },
      "execution_count": null,
      "outputs": []
    },
    {
      "cell_type": "code",
      "source": [
        "from keras_preprocessing.sequence import pad_sequences\n",
        "Xcnn_train = pad_sequences(train_sequences, padding='post', maxlen=max_len)\n",
        "Xcnn_val = pad_sequences(val_sequences, padding='post', maxlen=max_len)\n",
        "Xcnn_test = pad_sequences(test_sequences, padding='post', maxlen=max_len)"
      ],
      "metadata": {
        "id": "99_Ik0IWKhlk"
      },
      "execution_count": null,
      "outputs": []
    },
    {
      "cell_type": "code",
      "source": [
        "from keras.models import Sequential\n",
        "from keras.layers import Dense\n",
        "from keras.layers import Flatten\n",
        "from keras.layers.convolutional import Conv1D\n",
        "from keras.layers.convolutional import MaxPooling1D\n",
        "from keras.preprocessing import sequence"
      ],
      "metadata": {
        "id": "yqVZ11j02mHA"
      },
      "execution_count": null,
      "outputs": []
    },
    {
      "cell_type": "code",
      "source": [
        "model = Sequential()\n",
        "model.add(Embedding(vocab_length, 32, input_length=max_len))\n",
        "model.add(Conv1D(32, 3, padding='same', activation='relu'))\n",
        "model.add(MaxPooling1D())\n",
        "model.add(Flatten())\n",
        "model.add(Dense(250, activation='relu'))\n",
        "model.add(Dense(2, activation='softmax'))"
      ],
      "metadata": {
        "id": "w-SPYfO41vMb"
      },
      "execution_count": null,
      "outputs": []
    },
    {
      "cell_type": "code",
      "source": [
        "model.compile(loss='binary_crossentropy', optimizer='adam', metrics=['accuracy'])\n",
        "model.summary()"
      ],
      "metadata": {
        "colab": {
          "base_uri": "https://localhost:8080/"
        },
        "id": "BLdCt49t2vZ7",
        "outputId": "4760f140-18a8-4844-ddae-5bc80bd005ee"
      },
      "execution_count": null,
      "outputs": [
        {
          "output_type": "stream",
          "name": "stdout",
          "text": [
            "Model: \"sequential_3\"\n",
            "_________________________________________________________________\n",
            " Layer (type)                Output Shape              Param #   \n",
            "=================================================================\n",
            " embedding_4 (Embedding)     (None, 10265, 32)         2953152   \n",
            "                                                                 \n",
            " conv1d (Conv1D)             (None, 10265, 32)         3104      \n",
            "                                                                 \n",
            " max_pooling1d (MaxPooling1D  (None, 5132, 32)         0         \n",
            " )                                                               \n",
            "                                                                 \n",
            " flatten_1 (Flatten)         (None, 164224)            0         \n",
            "                                                                 \n",
            " dense_4 (Dense)             (None, 250)               41056250  \n",
            "                                                                 \n",
            " dense_5 (Dense)             (None, 2)                 502       \n",
            "                                                                 \n",
            "=================================================================\n",
            "Total params: 44,013,008\n",
            "Trainable params: 44,013,008\n",
            "Non-trainable params: 0\n",
            "_________________________________________________________________\n"
          ]
        }
      ]
    },
    {
      "cell_type": "code",
      "source": [
        "X_Train, X_Test, Y_Train, Y_Test = train_test_split(Xcnn_train, y_train, test_size=0.2, random_state=42 ,stratify=y_train)\n"
      ],
      "metadata": {
        "id": "pc8ubVV142HS"
      },
      "execution_count": null,
      "outputs": []
    },
    {
      "cell_type": "code",
      "source": [
        "# Fitting the data onto model\n",
        "model.fit(X_Train, Y_Train, validation_data=(X_Test, Y_Test), epochs=10, batch_size=64, verbose=2)\n"
      ],
      "metadata": {
        "colab": {
          "base_uri": "https://localhost:8080/"
        },
        "id": "jH2S2VME2zaw",
        "outputId": "8261c6a8-098e-4c7e-b7e3-b8ca806047b0"
      },
      "execution_count": null,
      "outputs": [
        {
          "output_type": "stream",
          "name": "stdout",
          "text": [
            "Epoch 1/2\n",
            "500/500 - 25s - loss: 0.6983 - accuracy: 0.5005 - val_loss: 0.6932 - val_accuracy: 0.5005 - 25s/epoch - 50ms/step\n",
            "Epoch 2/2\n",
            "500/500 - 21s - loss: 0.6932 - accuracy: 0.4987 - val_loss: 0.6931 - val_accuracy: 0.5005 - 21s/epoch - 42ms/step\n"
          ]
        },
        {
          "output_type": "execute_result",
          "data": {
            "text/plain": [
              "<keras.callbacks.History at 0x7f90abb61710>"
            ]
          },
          "metadata": {},
          "execution_count": 194
        }
      ]
    },
    {
      "cell_type": "code",
      "source": [
        "from keras.utils import to_categorical\n",
        "y_val = to_categorical(y_val,2)\n"
      ],
      "metadata": {
        "id": "goAhrqO38LhF"
      },
      "execution_count": null,
      "outputs": []
    },
    {
      "cell_type": "code",
      "source": [
        "# Getting score metrics from our model\n",
        "scores = model.evaluate(Xcnn_val, y_val, verbose=0)\n",
        "# Displays the accuracy of correct sentiment prediction over test data\n",
        "print(\"Accuracy: %.2f%%\" % (scores[1]*100))"
      ],
      "metadata": {
        "colab": {
          "base_uri": "https://localhost:8080/"
        },
        "id": "0A_PxvPf5K29",
        "outputId": "670f1fe5-93ca-4d39-9641-f99474c76387"
      },
      "execution_count": null,
      "outputs": [
        {
          "output_type": "stream",
          "name": "stdout",
          "text": [
            "Accuracy: 49.72%\n"
          ]
        }
      ]
    },
    {
      "cell_type": "code",
      "source": [],
      "metadata": {
        "id": "vX0xC3gd8DKL"
      },
      "execution_count": null,
      "outputs": []
    }
  ]
}